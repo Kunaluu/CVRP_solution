{
 "cells": [
  {
   "cell_type": "code",
   "execution_count": 1,
   "metadata": {},
   "outputs": [],
   "source": [
    "import requests\n",
    "import numpy as np\n",
    "import pandas as pd\n",
    "import pulp\n",
    "import itertools"
   ]
  },
  {
   "cell_type": "code",
   "execution_count": 2,
   "metadata": {},
   "outputs": [
    {
     "name": "stdout",
     "output_type": "stream",
     "text": [
      "Distance_0_1 : {'routes': [{'weight_name': 'auto', 'weight': 1036.56, 'duration': 883.706, 'distance': 3137.797, 'legs': [{'via_waypoints': [], 'admins': [{'iso_3166_1_alpha3': 'USA', 'iso_3166_1': 'US'}], 'weight': 1036.56, 'duration': 883.706, 'steps': [], 'distance': 3137.797, 'summary': 'West 34th Street, FDR Drive'}], 'geometry': 'awuwF|gqbMdb@orAR\\\\|EfBtObBvJzFvAnAfCn@fD?PcAwGc@{NmIkVcD'}], 'waypoints': [{'distance': 0.858, 'name': 'West 34th Street', 'location': [-73.985433, 40.74881]}, {'distance': 2.527, 'name': 'FDR Drive', 'location': [-73.972134, 40.743049]}], 'code': 'Ok', 'uuid': 'l-nhfwoNPPJCq9vOzxG9gKzO2vQZwUQt9huIy2MSsfoaS-K7I_ZpLw=='}\n",
      "Distance_0_2 : {'routes': [{'weight_name': 'auto', 'weight': 406.723, 'duration': 331.273, 'distance': 784.772, 'legs': [{'via_waypoints': [], 'admins': [{'iso_3166_1_alpha3': 'USA', 'iso_3166_1': 'US'}], 'weight': 406.723, 'duration': 331.273, 'steps': [], 'distance': 784.772, 'summary': '5th Avenue, West 31st Street'}], 'geometry': 'awuwF|gqbMhAmD|JrGqKr\\\\'}], 'waypoints': [{'distance': 0.858, 'name': 'West 34th Street', 'location': [-73.985433, 40.74881]}, {'distance': 23.037, 'name': 'West 31st Street', 'location': [-73.99068, 40.74854]}], 'code': 'Ok', 'uuid': 'Fqcw266Eg23bVOYxmSlSNBFGoYPMI-oRZ0qnjtVL38naP3KAP-Wl2A=='}\n",
      "Distance_0_3 : {'routes': [{'weight_name': 'auto', 'weight': 497.208, 'duration': 408.383, 'distance': 1500.889, 'legs': [{'via_waypoints': [], 'admins': [{'iso_3166_1_alpha3': 'USA', 'iso_3166_1': 'US'}], 'weight': 497.208, 'duration': 408.383, 'steps': [], 'distance': 1500.889, 'summary': '5th Avenue, West 23rd Street'}], 'geometry': 'awuwF|gqbMhAmD`j@n^wM|a@'}], 'waypoints': [{'distance': 0.858, 'name': 'West 34th Street', 'location': [-73.985433, 40.74881]}, {'distance': 11.132, 'name': 'West 23rd Street', 'location': [-73.995186, 40.743911]}], 'code': 'Ok', 'uuid': 'WL2J-WMEyOlYZLOjy7LlpjMEMptZkpfFehO-Ou5Pt8HKcoSVwoepNA=='}\n",
      "Distance_0_4 : {'routes': [{'weight_name': 'auto', 'weight': 769.234, 'duration': 628.721, 'distance': 1546.382, 'legs': [{'via_waypoints': [], 'admins': [{'iso_3166_1_alpha3': 'USA', 'iso_3166_1': 'US'}], 'weight': 769.234, 'duration': 628.721, 'steps': [], 'distance': 1546.382, 'summary': 'East 37th Street, West 39th Street'}], 'geometry': 'awuwF|gqbMnEmNyJuGwKd]wFwDaKt['}], 'waypoints': [{'distance': 0.858, 'name': 'West 34th Street', 'location': [-73.985433, 40.74881]}, {'distance': 37.179, 'name': 'West 39th Street', 'location': [-73.990067, 40.754869]}], 'code': 'Ok', 'uuid': 'lkv_RGF-FQ8rDyzplHANLfPTQ4Tqdp3jxMgt-PdGmZBIpO4he_Rr2w=='}\n",
      "Distance_0_5 : {'routes': [{'weight_name': 'auto', 'weight': 727.584, 'duration': 592.504, 'distance': 1455.839, 'legs': [{'via_waypoints': [], 'admins': [{'iso_3166_1_alpha3': 'USA', 'iso_3166_1': 'US'}], 'weight': 727.584, 'duration': 592.504, 'steps': [], 'distance': 1455.839, 'summary': 'East 37th Street, West 39th Street'}], 'geometry': 'awuwF|gqbMnEmNyJuGwKd]wFwDsHxU'}], 'waypoints': [{'distance': 0.858, 'name': 'West 34th Street', 'location': [-73.985433, 40.74881]}, {'distance': 37.721, 'name': 'West 39th Street', 'location': [-73.989125, 40.754478]}], 'code': 'Ok', 'uuid': 'yqxjLIeAk5pt0sXwa0H_HVxk5ZndoxSnDQWtaWqvPHOJeizzRNFeTA=='}\n",
      "Distance_0_6 : {'routes': [{'weight_name': 'auto', 'weight': 546.648, 'duration': 464.894, 'distance': 1188.937, 'legs': [{'via_waypoints': [], 'admins': [{'iso_3166_1_alpha3': 'USA', 'iso_3166_1': 'US'}], 'weight': 546.648, 'duration': 464.894, 'steps': [], 'distance': 1188.937, 'summary': 'West 34th Street, 8th Avenue'}], 'geometry': 'awuwF|gqbMeTdq@yJsGwCfJ'}], 'waypoints': [{'distance': 0.858, 'name': 'West 34th Street', 'location': [-73.985433, 40.74881]}, {'distance': 31.8, 'name': 'West 37th Street', 'location': [-73.993877, 40.754849]}], 'code': 'Ok', 'uuid': 'xf795BW-4CvWf63mk0VVNtAlD6G0Lf9g5-x7-zJtTMw0SHlfvAtVfw=='}\n",
      "Distance_0_7 : {'routes': [{'weight_name': 'auto', 'weight': 462.202, 'duration': 418.646, 'distance': 1545.094, 'legs': [{'via_waypoints': [], 'admins': [{'iso_3166_1_alpha3': 'USA', 'iso_3166_1': 'US'}], 'weight': 462.202, 'duration': 418.646, 'steps': [], 'distance': 1545.094, 'summary': 'West 34th Street, Park Avenue South'}], 'geometry': 'awuwF|gqbMnI{Whr@zc@iBtF'}], 'waypoints': [{'distance': 0.858, 'name': 'West 34th Street', 'location': [-73.985433, 40.74881]}, {'distance': 12.635, 'name': 'East 21st Street', 'location': [-73.988577, 40.739452]}], 'code': 'Ok', 'uuid': 'qRAeFJJllpVw4MgGJ96rfAHmhXQYXd7L_YMA5CTec9JVNWM4xJZjZg=='}\n",
      "Distance_0_8 : {'routes': [{'weight_name': 'auto', 'weight': 762.713, 'duration': 679.426, 'distance': 2145.85, 'legs': [{'via_waypoints': [], 'admins': [{'iso_3166_1_alpha3': 'USA', 'iso_3166_1': 'US'}], 'weight': 762.713, 'duration': 679.426, 'steps': [], 'distance': 2145.85, 'summary': 'West 34th Street, 2nd Avenue'}], 'geometry': 'awuwF|gqbMbXsz@hn@la@fE}Ms@_@'}], 'waypoints': [{'distance': 0.858, 'name': 'West 34th Street', 'location': [-73.985433, 40.74881]}, {'distance': 16.984, 'name': '1st Avenue', 'location': [-73.978849, 40.736475]}], 'code': 'Ok', 'uuid': '8Fxu6KBlw_2CZfb0vOAlmIBk2RFS6XK1_neLLW6Okdr0BGA1nvr6hg=='}\n",
      "Distance_0_9 : {'routes': [{'weight_name': 'auto', 'weight': 638.309, 'duration': 529.318, 'distance': 1464.598, 'legs': [{'via_waypoints': [], 'admins': [{'iso_3166_1_alpha3': 'USA', 'iso_3166_1': 'US'}], 'weight': 638.309, 'duration': 529.318, 'steps': [], 'distance': 1464.598, 'summary': 'Madison Avenue, East 42nd Street'}], 'geometry': 'awuwF|gqbMnEmNo^}UuKd]{DiC'}], 'waypoints': [{'distance': 0.858, 'name': 'West 34th Street', 'location': [-73.985433, 40.74881]}, {'distance': 13.38, 'name': '6th Avenue', 'location': [-73.983434, 40.755776]}], 'code': 'Ok', 'uuid': '0cqBItTYMDlvl8jnWWLu4NMmoUaP_wmS-qEydRjoNKAVuOU3cA_hGw=='}\n",
      "Distance_1_2 : {'routes': [{'weight_name': 'auto', 'weight': 945.46, 'duration': 813.026, 'distance': 1924.357, 'legs': [{'via_waypoints': [], 'admins': [{'iso_3166_1_alpha3': 'USA', 'iso_3166_1': 'US'}], 'weight': 945.46, 'duration': 813.026, 'steps': [], 'distance': 1924.357, 'summary': 'East 34th Street, East 31st Street'}], 'geometry': 'astwFxtnbMYKuWry@~JjGyShp@'}], 'waypoints': [{'distance': 2.527, 'name': 'FDR Drive', 'location': [-73.972134, 40.743049]}, {'distance': 23.037, 'name': 'West 31st Street', 'location': [-73.99068, 40.74854]}], 'code': 'Ok', 'uuid': 'UApTM_zrUVy2FMxW2XEJIDNuCA8dbtA_jYsud3K_50VdrdlhFDBffQ=='}\n",
      "Distance_1_3 : {'routes': [{'weight_name': 'auto', 'weight': 998.267, 'duration': 882.443, 'distance': 2643.239, 'legs': [{'via_waypoints': [], 'admins': [{'iso_3166_1_alpha3': 'USA', 'iso_3166_1': 'US'}], 'weight': 998.267, 'duration': 882.443, 'steps': [], 'distance': 2643.239, 'summary': 'East 34th Street, Park Avenue South'}], 'geometry': 'astwFxtnbMYKuWry@dj@~]aVzu@'}], 'waypoints': [{'distance': 2.527, 'name': 'FDR Drive', 'location': [-73.972134, 40.743049]}, {'distance': 11.132, 'name': 'West 23rd Street', 'location': [-73.995186, 40.743911]}], 'code': 'Ok', 'uuid': '0EplPOIrV0VL6AtQ68QWDkJwdi4REUQXr-FO7prs5h_B-9oQvWafqw=='}\n",
      "Distance_1_4 : {'routes': [{'weight_name': 'auto', 'weight': 1163.459, 'duration': 987.067, 'distance': 2374.498, 'legs': [{'via_waypoints': [], 'admins': [{'iso_3166_1_alpha3': 'USA', 'iso_3166_1': 'US'}], 'weight': 1163.459, 'duration': 987.067, 'steps': [], 'distance': 2374.498, 'summary': 'East 34th Street, East 37th Street'}], 'geometry': 'astwFxtnbMYKu[`cAyJuGwKd]wFwDaKt['}], 'waypoints': [{'distance': 2.527, 'name': 'FDR Drive', 'location': [-73.972134, 40.743049]}, {'distance': 37.179, 'name': 'West 39th Street', 'location': [-73.990067, 40.754869]}], 'code': 'Ok', 'uuid': 'tQ3raWpRuJq-U1e266Z0YAnCIBQzF0bYH-a2_HL2O7pzTDCZu9-ACQ=='}\n",
      "Distance_1_5 : {'routes': [{'weight_name': 'auto', 'weight': 1121.81, 'duration': 950.85, 'distance': 2283.955, 'legs': [{'via_waypoints': [], 'admins': [{'iso_3166_1_alpha3': 'USA', 'iso_3166_1': 'US'}], 'weight': 1121.81, 'duration': 950.85, 'steps': [], 'distance': 2283.955, 'summary': 'East 34th Street, East 37th Street'}], 'geometry': 'astwFxtnbMYKu[`cAyJuGwKd]wFwDsHxU'}], 'waypoints': [{'distance': 2.527, 'name': 'FDR Drive', 'location': [-73.972134, 40.743049]}, {'distance': 37.721, 'name': 'West 39th Street', 'location': [-73.989125, 40.754478]}], 'code': 'Ok', 'uuid': 'hThpqzn9jGWx1xJpEFSN8zP9ao9RDj8THuReEaZDEfUN5s1y18P45w=='}\n",
      "Distance_1_6 : {'routes': [{'weight_name': 'auto', 'weight': 1146.191, 'duration': 998.842, 'distance': 2493.982, 'legs': [{'via_waypoints': [], 'admins': [{'iso_3166_1_alpha3': 'USA', 'iso_3166_1': 'US'}], 'weight': 1146.191, 'duration': 998.842, 'steps': [], 'distance': 2493.982, 'summary': 'East 34th Street, 8th Avenue'}], 'geometry': 'astwFxtnbMYKkw@tdCyJsGwCfJ'}], 'waypoints': [{'distance': 2.527, 'name': 'FDR Drive', 'location': [-73.972134, 40.743049]}, {'distance': 31.8, 'name': 'West 37th Street', 'location': [-73.993877, 40.754849]}], 'code': 'Ok', 'uuid': 'JAghbigCdsrKPLkJP0M8WKdAhF431SZJ9GshrmrM_wl4BOtoXssZGw=='}\n",
      "Distance_1_7 : {'routes': [{'weight_name': 'auto', 'weight': 732.529, 'duration': 664.412, 'distance': 2080.267, 'legs': [{'via_waypoints': [], 'admins': [{'iso_3166_1_alpha3': 'USA', 'iso_3166_1': 'US'}], 'weight': 732.529, 'duration': 664.412, 'steps': [], 'distance': 2080.267, 'summary': 'East 34th Street, Park Avenue South'}], 'geometry': 'astwFxtnbMYKuWry@hr@zc@iBtF'}], 'waypoints': [{'distance': 2.527, 'name': 'FDR Drive', 'location': [-73.972134, 40.743049]}, {'distance': 12.635, 'name': 'East 21st Street', 'location': [-73.988577, 40.739452]}], 'code': 'Ok', 'uuid': 'm6Ras8TlF_0dbFdObDVPGtqWqXGXr3iNv7xsjVJgL_Y68CD2KknE2Q=='}\n",
      "Distance_1_8 : {'routes': [{'weight_name': 'auto', 'weight': 640.8, 'duration': 558.404, 'distance': 1776.155, 'legs': [{'via_waypoints': [], 'admins': [{'iso_3166_1_alpha3': 'USA', 'iso_3166_1': 'US'}], 'weight': 640.8, 'duration': 558.404, 'steps': [], 'distance': 1776.155, 'summary': 'East 34th Street, 2nd Avenue'}], 'geometry': 'astwFxtnbMYKgGpRgC{Aw@dCnr@ld@fE}Ms@_@'}], 'waypoints': [{'distance': 2.527, 'name': 'FDR Drive', 'location': [-73.972134, 40.743049]}, {'distance': 16.984, 'name': '1st Avenue', 'location': [-73.978849, 40.736475]}], 'code': 'Ok', 'uuid': '63OjpSlLr_zaqZWt23qXaojFFWk49v4WJzBlTA4w6WXR3HkFc1U1Jw=='}\n",
      "Distance_1_9 : {'routes': [{'weight_name': 'auto', 'weight': 929.239, 'duration': 827.612, 'distance': 2280.737, 'legs': [{'via_waypoints': [], 'admins': [{'iso_3166_1_alpha3': 'USA', 'iso_3166_1': 'US'}], 'weight': 929.239, 'duration': 827.612, 'steps': [], 'distance': 2280.737, 'summary': '1st Avenue, East 42nd Street'}], 'geometry': 'astwFxtnbMYKyB~G}WcQe@OuDoBgd@lwA{DiC'}], 'waypoints': [{'distance': 2.527, 'name': 'FDR Drive', 'location': [-73.972134, 40.743049]}, {'distance': 13.38, 'name': '6th Avenue', 'location': [-73.983434, 40.755776]}], 'code': 'Ok', 'uuid': 'rJ_WrrKpo47qKQNtCsN3k2aOjYSSoW8ndCBke5xEpGSyWhOyY2CDWw=='}\n",
      "Distance_2_3 : {'routes': [{'weight_name': 'auto', 'weight': 301.834, 'duration': 238.929, 'distance': 806.859, 'legs': [{'via_waypoints': [], 'admins': [{'iso_3166_1_alpha3': 'USA', 'iso_3166_1': 'US'}], 'weight': 301.834, 'duration': 238.929, 'steps': [], 'distance': 806.859, 'summary': 'West 31st Street, 7th Avenue'}], 'geometry': 'kuuwFvhrbMoBhGd^tUf@yA'}], 'waypoints': [{'distance': 23.037, 'name': 'West 31st Street', 'location': [-73.99068, 40.74854]}, {'distance': 11.132, 'name': 'West 23rd Street', 'location': [-73.995186, 40.743911]}], 'code': 'Ok', 'uuid': '55JZevhM-Zv7qU6yFm06X82_BmjO5A9aNm0lHx9iS9ofJcoqWz4IIQ=='}\n",
      "Distance_2_4 : {'routes': [{'weight_name': 'auto', 'weight': 926.778, 'duration': 772.01, 'distance': 1639.219, 'legs': [{'via_waypoints': [], 'admins': [{'iso_3166_1_alpha3': 'USA', 'iso_3166_1': 'US'}], 'weight': 926.778, 'duration': 772.01, 'steps': [], 'distance': 1639.219, 'summary': 'West 31st Street, 8th Avenue'}], 'geometry': 'kuuwFvhrbM}I`Ykb@wXnFwPvBtAoC|I'}], 'waypoints': [{'distance': 23.037, 'name': 'West 31st Street', 'location': [-73.99068, 40.74854]}, {'distance': 37.179, 'name': 'West 39th Street', 'location': [-73.990067, 40.754869]}], 'code': 'Ok', 'uuid': 'RbxkvB2c-8T1DYtDXvZz2myr5CEABv0OuYjhGi_wBT5MoOfqmr1J0w=='}\n",
      "Distance_2_5 : {'routes': [{'weight_name': 'auto', 'weight': 885.129, 'duration': 735.793, 'distance': 1548.676, 'legs': [{'via_waypoints': [], 'admins': [{'iso_3166_1_alpha3': 'USA', 'iso_3166_1': 'US'}], 'weight': 885.129, 'duration': 735.793, 'steps': [], 'distance': 1548.676, 'summary': 'West 31st Street, 8th Avenue'}], 'geometry': 'kuuwFvhrbM}I`Ykb@wXnFwPvBtAaA`D'}], 'waypoints': [{'distance': 23.037, 'name': 'West 31st Street', 'location': [-73.99068, 40.74854]}, {'distance': 37.721, 'name': 'West 39th Street', 'location': [-73.989125, 40.754478]}], 'code': 'Ok', 'uuid': 'sbyonWjWjAHFQ4Q5B7ua_rWmSASTqctwcXQaE-b9lA4v15EHsa5Y9Q=='}\n",
      "Distance_2_6 : {'routes': [{'weight_name': 'auto', 'weight': 602.849, 'duration': 505.652, 'distance': 1058.173, 'legs': [{'via_waypoints': [], 'admins': [{'iso_3166_1_alpha3': 'USA', 'iso_3166_1': 'US'}], 'weight': 602.849, 'duration': 505.652, 'steps': [], 'distance': 1058.173, 'summary': 'West 31st Street, 8th Avenue'}], 'geometry': 'kuuwFvhrbM}I`YwViPwCfJ'}], 'waypoints': [{'distance': 23.037, 'name': 'West 31st Street', 'location': [-73.99068, 40.74854]}, {'distance': 31.8, 'name': 'West 37th Street', 'location': [-73.993877, 40.754849]}], 'code': 'Ok', 'uuid': 'F9UUk3p0lSZUBn5wknu0_32WRCQzKBlIAefYSRMCzogikIjFOgAY4w=='}\n",
      "Distance_2_7 : {'routes': [{'weight_name': 'auto', 'weight': 747.35, 'duration': 609.575, 'distance': 1937.664, 'legs': [{'via_waypoints': [], 'admins': [{'iso_3166_1_alpha3': 'USA', 'iso_3166_1': 'US'}], 'weight': 747.35, 'duration': 609.575, 'steps': [], 'distance': 1937.664, 'summary': '7th Avenue, West 23rd Street'}], 'geometry': 'kuuwFvhrbMoBhGd^tUhWux@bGzDiBtF'}], 'waypoints': [{'distance': 23.037, 'name': 'West 31st Street', 'location': [-73.99068, 40.74854]}, {'distance': 12.635, 'name': 'East 21st Street', 'location': [-73.988577, 40.739452]}], 'code': 'Ok', 'uuid': '_9oSGv8IzsdHstueShtwh7NPqgXw4yZrzvrULDN6TpWi4B2D5zMe8Q=='}\n",
      "Distance_2_8 : {'routes': [{'weight_name': 'auto', 'weight': 1046.693, 'duration': 852.299, 'distance': 2532.155, 'legs': [{'via_waypoints': [], 'admins': [{'iso_3166_1_alpha3': 'USA', 'iso_3166_1': 'US'}], 'weight': 1046.693, 'duration': 852.299, 'steps': [], 'distance': 2532.155, 'summary': '7th Avenue, West 23rd Street'}], 'geometry': 'kuuwFvhrbMoBhGd^tUze@a{AdC`BfE}Ms@_@'}], 'waypoints': [{'distance': 23.037, 'name': 'West 31st Street', 'location': [-73.99068, 40.74854]}, {'distance': 16.984, 'name': '1st Avenue', 'location': [-73.978849, 40.736475]}], 'code': 'Ok', 'uuid': 'rjPADCXX5h3LUn2MWx3SgP6jSW6xAr4bo2FitiFJdTeVXWJKAZSkeA=='}\n",
      "Distance_2_9 : {'routes': [{'weight_name': 'auto', 'weight': 806.306, 'duration': 642.472, 'distance': 1562.992, 'legs': [{'via_waypoints': [], 'admins': [{'iso_3166_1_alpha3': 'USA', 'iso_3166_1': 'US'}], 'weight': 806.306, 'duration': 642.472, 'steps': [], 'distance': 1562.992, 'summary': 'West 30th Street, 6th Avenue'}], 'geometry': 'kuuwFvhrbMoBhG|BxAlFwPct@ue@'}], 'waypoints': [{'distance': 23.037, 'name': 'West 31st Street', 'location': [-73.99068, 40.74854]}, {'distance': 13.38, 'name': '6th Avenue', 'location': [-73.983434, 40.755776]}], 'code': 'Ok', 'uuid': 'hD0KddolQKm_bV7ID6UXazGQV2whq8NBMmS_2YWgMPYrDDDuKvmrvQ=='}\n",
      "Distance_3_4 : {'routes': [{'weight_name': 'auto', 'weight': 1050.061, 'duration': 882.643, 'distance': 2189.088, 'legs': [{'via_waypoints': [], 'admins': [{'iso_3166_1_alpha3': 'USA', 'iso_3166_1': 'US'}], 'weight': 1050.061, 'duration': 882.643, 'steps': [], 'distance': 2189.088, 'summary': 'West 23rd Street, 8th Avenue'}], 'geometry': 'mxtwF|dsbMuGnSqaAko@nFwPvBtAoC|I'}], 'waypoints': [{'distance': 11.132, 'name': 'West 23rd Street', 'location': [-73.995186, 40.743911]}, {'distance': 37.179, 'name': 'West 39th Street', 'location': [-73.990067, 40.754869]}], 'code': 'Ok', 'uuid': '94rPzFA9inupHD9ZqcXtBM1Hlhfu-w7GtmAIuIaPAFVU3l_JMj4gHA=='}\n",
      "Distance_3_5 : {'routes': [{'weight_name': 'auto', 'weight': 1008.411, 'duration': 846.426, 'distance': 2098.545, 'legs': [{'via_waypoints': [], 'admins': [{'iso_3166_1_alpha3': 'USA', 'iso_3166_1': 'US'}], 'weight': 1008.411, 'duration': 846.426, 'steps': [], 'distance': 2098.545, 'summary': 'West 23rd Street, 8th Avenue'}], 'geometry': 'mxtwF|dsbMuGnSqaAko@nFwPvBtAaA`D'}], 'waypoints': [{'distance': 11.132, 'name': 'West 23rd Street', 'location': [-73.995186, 40.743911]}, {'distance': 37.721, 'name': 'West 39th Street', 'location': [-73.989125, 40.754478]}], 'code': 'Ok', 'uuid': 'gK0nu48MgpyPrenHE2E_m5pDU63lWTUZSqgTk0Gkq4OmwP6p5QHaPA=='}\n",
      "Distance_3_6 : {'routes': [{'weight_name': 'auto', 'weight': 726.132, 'duration': 616.285, 'distance': 1608.042, 'legs': [{'via_waypoints': [], 'admins': [{'iso_3166_1_alpha3': 'USA', 'iso_3166_1': 'US'}], 'weight': 726.132, 'duration': 616.285, 'steps': [], 'distance': 1608.042, 'summary': 'West 23rd Street, 8th Avenue'}], 'geometry': 'mxtwF|dsbMuGnS}u@}f@wCfJ'}], 'waypoints': [{'distance': 11.132, 'name': 'West 23rd Street', 'location': [-73.995186, 40.743911]}, {'distance': 31.8, 'name': 'West 37th Street', 'location': [-73.993877, 40.754849]}], 'code': 'Ok', 'uuid': 'IsWaS3PoUhQj8gtv4wv8A-eRNzV7yS5ddztfqk5xGXPTBMUetf6o1g=='}\n",
      "Distance_3_7 : {'routes': [{'weight_name': 'auto', 'weight': 445.517, 'duration': 370.646, 'distance': 1130.805, 'legs': [{'via_waypoints': [], 'admins': [{'iso_3166_1_alpha3': 'USA', 'iso_3166_1': 'US'}], 'weight': 445.517, 'duration': 370.646, 'steps': [], 'distance': 1130.805, 'summary': 'West 23rd Street, Park Avenue South'}], 'geometry': 'mxtwF|dsbM`V{u@bGzDiBtF'}], 'waypoints': [{'distance': 11.132, 'name': 'West 23rd Street', 'location': [-73.995186, 40.743911]}, {'distance': 12.635, 'name': 'East 21st Street', 'location': [-73.988577, 40.739452]}], 'code': 'Ok', 'uuid': 'Q8CeTvqZsH-6_WhQNk7DpBmsXtPMskbLhRDQoWt7BjlNwxQlGJwTYQ=='}\n",
      "Distance_3_8 : {'routes': [{'weight_name': 'auto', 'weight': 744.859, 'duration': 613.371, 'distance': 1725.295, 'legs': [{'via_waypoints': [], 'admins': [{'iso_3166_1_alpha3': 'USA', 'iso_3166_1': 'US'}], 'weight': 744.859, 'duration': 613.371, 'steps': [], 'distance': 1725.295, 'summary': 'West 23rd Street, East 22nd Street'}], 'geometry': 'mxtwF|dsbMrd@gxAdC`BfE}Ms@_@'}], 'waypoints': [{'distance': 11.132, 'name': 'West 23rd Street', 'location': [-73.995186, 40.743911]}, {'distance': 16.984, 'name': '1st Avenue', 'location': [-73.978849, 40.736475]}], 'code': 'Ok', 'uuid': 'jHTHAcozVv_z-FeYRtST4wuIekyOqzGN-KHHPP3euBUK-EapOxYdBw=='}\n",
      "Distance_3_9 : {'routes': [{'weight_name': 'auto', 'weight': 1205.157, 'duration': 1018.735, 'distance': 2500.308, 'legs': [{'via_waypoints': [], 'admins': [{'iso_3166_1_alpha3': 'USA', 'iso_3166_1': 'US'}], 'weight': 1205.157, 'duration': 1018.735, 'steps': [], 'distance': 2500.308, 'summary': '8th Avenue, West 42nd Street'}], 'geometry': 'mxtwF|dsbMuGnSqiAgu@|Mmb@{DiC'}], 'waypoints': [{'distance': 11.132, 'name': 'West 23rd Street', 'location': [-73.995186, 40.743911]}, {'distance': 13.38, 'name': '6th Avenue', 'location': [-73.983434, 40.755776]}], 'code': 'Ok', 'uuid': 'O_AFINnVJgDJzuQtU4PZ07sVWtdLFT4hB_R0PRICGDz2vsMYqmXyhQ=='}\n",
      "Distance_4_5 : {'routes': [{'weight_name': 'auto', 'weight': 359.731, 'duration': 292.609, 'distance': 613.304, 'legs': [{'via_waypoints': [], 'admins': [{'iso_3166_1_alpha3': 'USA', 'iso_3166_1': 'US'}], 'weight': 359.731, 'duration': 292.609, 'steps': [], 'distance': 613.304, 'summary': 'West 39th Street, West 40th Street'}], 'geometry': '}|vwF|drbM{A|E{ByAnFwPvBtAaA`D'}], 'waypoints': [{'distance': 37.179, 'name': 'West 39th Street', 'location': [-73.990067, 40.754869]}, {'distance': 37.721, 'name': 'West 39th Street', 'location': [-73.989125, 40.754478]}], 'code': 'Ok', 'uuid': 'uYM6HsIjzFf0TK6LUJICEBfSRjNeBxAaYMYFCg-4lT0iUsq6tyNQKg=='}\n",
      "Distance_4_6 : {'routes': [{'weight_name': 'auto', 'weight': 561.066, 'duration': 466.308, 'distance': 1143.042, 'legs': [{'via_waypoints': [], 'admins': [{'iso_3166_1_alpha3': 'USA', 'iso_3166_1': 'US'}], 'weight': 561.066, 'duration': 466.308, 'steps': [], 'distance': 1143.042, 'summary': 'West 40th Street, West 37th Street'}], 'geometry': '}|vwF|drbM{A|E{ByAnFwPrJlGgK~['}], 'waypoints': [{'distance': 37.179, 'name': 'West 39th Street', 'location': [-73.990067, 40.754869]}, {'distance': 31.8, 'name': 'West 37th Street', 'location': [-73.993877, 40.754849]}], 'code': 'Ok', 'uuid': 'JNsUgWU6lVHXHPPZPYjsMwb2xypa92JmLGsVQch6RL36Lrb49xerBA=='}\n",
      "Distance_4_7 : {'routes': [{'weight_name': 'auto', 'weight': 1082.406, 'duration': 924.149, 'distance': 2981.15, 'legs': [{'via_waypoints': [], 'admins': [{'iso_3166_1_alpha3': 'USA', 'iso_3166_1': 'US'}], 'weight': 1082.406, 'duration': 924.149, 'steps': [], 'distance': 2981.15, 'summary': 'West 34th Street, Park Avenue South'}], 'geometry': '}|vwF|drbM{A|E{ByAnFwPjV~OfWgx@hr@zc@iBtF'}], 'waypoints': [{'distance': 37.179, 'name': 'West 39th Street', 'location': [-73.990067, 40.754869]}, {'distance': 12.635, 'name': 'East 21st Street', 'location': [-73.988577, 40.739452]}], 'code': 'Ok', 'uuid': 'FXKdZgISLSMJWb5TKumT0YtrfMjMZwQlQaEEd8ITW9yZIATUO2u5mw=='}\n",
      "Distance_4_8 : {'routes': [{'weight_name': 'auto', 'weight': 1382.917, 'duration': 1184.929, 'distance': 3581.906, 'legs': [{'via_waypoints': [], 'admins': [{'iso_3166_1_alpha3': 'USA', 'iso_3166_1': 'US'}], 'weight': 1382.917, 'duration': 1184.929, 'steps': [], 'distance': 3581.906, 'summary': 'West 34th Street, 2nd Avenue'}], 'geometry': '}|vwF|drbM{A|E{ByAnFwPjV~Oze@_{Ahn@la@fE}Ms@_@'}], 'waypoints': [{'distance': 37.179, 'name': 'West 39th Street', 'location': [-73.990067, 40.754869]}, {'distance': 16.984, 'name': '1st Avenue', 'location': [-73.978849, 40.736475]}], 'code': 'Ok', 'uuid': 'yzzkAlvUob6UmXhdkHl6RN3g4Iap55ERqN4HPqTSgUOZFGc4c3YYSw=='}\n",
      "Distance_4_9 : {'routes': [{'weight_name': 'auto', 'weight': 556.476, 'duration': 464.918, 'distance': 1015.067, 'legs': [{'via_waypoints': [], 'admins': [{'iso_3166_1_alpha3': 'USA', 'iso_3166_1': 'US'}], 'weight': 556.476, 'duration': 464.918, 'steps': [], 'distance': 1015.067, 'summary': '8th Avenue, West 42nd Street'}], 'geometry': '}|vwF|drbM{A|E{JuG|Mmb@{DiC'}], 'waypoints': [{'distance': 37.179, 'name': 'West 39th Street', 'location': [-73.990067, 40.754869]}, {'distance': 13.38, 'name': '6th Avenue', 'location': [-73.983434, 40.755776]}], 'code': 'Ok', 'uuid': 'XofzM1XTx21Z8K3FPGKt-Xemfyk0-bxdop7taRaFeyOq7fKB3nmlfQ=='}\n",
      "Distance_5_6 : {'routes': [{'weight_name': 'auto', 'weight': 602.715, 'duration': 502.525, 'distance': 1233.584, 'legs': [{'via_waypoints': [], 'admins': [{'iso_3166_1_alpha3': 'USA', 'iso_3166_1': 'US'}], 'weight': 602.715, 'duration': 502.525, 'steps': [], 'distance': 1233.584, 'summary': 'West 40th Street, West 37th Street'}], 'geometry': 'ozvwF`_rbMiDxK{ByAnFwPrJlGgK~['}], 'waypoints': [{'distance': 37.721, 'name': 'West 39th Street', 'location': [-73.989125, 40.754478]}, {'distance': 31.8, 'name': 'West 37th Street', 'location': [-73.993877, 40.754849]}], 'code': 'Ok', 'uuid': 'BTK8Np5O8iF2bzcyaYcHAZCzMF6JrQ53-Y19PT-KwvT1KlIXwN6DuQ=='}\n",
      "Distance_5_7 : {'routes': [{'weight_name': 'auto', 'weight': 1124.056, 'duration': 960.366, 'distance': 3071.693, 'legs': [{'via_waypoints': [], 'admins': [{'iso_3166_1_alpha3': 'USA', 'iso_3166_1': 'US'}], 'weight': 1124.056, 'duration': 960.366, 'steps': [], 'distance': 3071.693, 'summary': 'West 34th Street, Park Avenue South'}], 'geometry': 'ozvwF`_rbMiDxK{ByAnFwPjV~OfWgx@hr@zc@iBtF'}], 'waypoints': [{'distance': 37.721, 'name': 'West 39th Street', 'location': [-73.989125, 40.754478]}, {'distance': 12.635, 'name': 'East 21st Street', 'location': [-73.988577, 40.739452]}], 'code': 'Ok', 'uuid': 'Tkw160kGIlZpX3JC2gI5LwsyEFgMxzcHJZX8YhOimvSru794L0xQkw=='}\n",
      "Distance_5_8 : {'routes': [{'weight_name': 'auto', 'weight': 1424.567, 'duration': 1221.147, 'distance': 3672.449, 'legs': [{'via_waypoints': [], 'admins': [{'iso_3166_1_alpha3': 'USA', 'iso_3166_1': 'US'}], 'weight': 1424.567, 'duration': 1221.147, 'steps': [], 'distance': 3672.449, 'summary': 'West 34th Street, 2nd Avenue'}], 'geometry': 'ozvwF`_rbMiDxK{ByAnFwPjV~Oze@_{Ahn@la@fE}Ms@_@'}], 'waypoints': [{'distance': 37.721, 'name': 'West 39th Street', 'location': [-73.989125, 40.754478]}, {'distance': 16.984, 'name': '1st Avenue', 'location': [-73.978849, 40.736475]}], 'code': 'Ok', 'uuid': 'EhSmZ7QFjUXC7ojjjgpN2pC3kBNT3Qzv7bazCyP_mWigI6SJi4uyKA=='}\n",
      "Distance_5_9 : {'routes': [{'weight_name': 'auto', 'weight': 598.126, 'duration': 501.135, 'distance': 1105.61, 'legs': [{'via_waypoints': [], 'admins': [{'iso_3166_1_alpha3': 'USA', 'iso_3166_1': 'US'}], 'weight': 598.126, 'duration': 501.135, 'steps': [], 'distance': 1105.61, 'summary': '8th Avenue, West 42nd Street'}], 'geometry': 'ozvwF`_rbMiDxK{JuG|Mmb@{DiC'}], 'waypoints': [{'distance': 37.721, 'name': 'West 39th Street', 'location': [-73.989125, 40.754478]}, {'distance': 13.38, 'name': '6th Avenue', 'location': [-73.983434, 40.755776]}], 'code': 'Ok', 'uuid': 'Bc4ZKMv6KB5n1t4JuiyQ5g63n4GzhMCAitVQoCKdokjG1axpfxf1mw=='}\n",
      "Distance_6_7 : {'routes': [{'weight_name': 'auto', 'weight': 1115.726, 'duration': 983.212, 'distance': 2937.875, 'legs': [{'via_waypoints': [], 'admins': [{'iso_3166_1_alpha3': 'USA', 'iso_3166_1': 'US'}], 'weight': 1115.726, 'duration': 983.212, 'steps': [], 'distance': 2937.875, 'summary': 'West 34th Street, Park Avenue South'}], 'geometry': 'y|vwFv|rbMwApEvJtGff@}{Ahr@zc@iBtF'}], 'waypoints': [{'distance': 31.8, 'name': 'West 37th Street', 'location': [-73.993877, 40.754849]}, {'distance': 12.635, 'name': 'East 21st Street', 'location': [-73.988577, 40.739452]}], 'code': 'Ok', 'uuid': 'Zvwrr82qObQT4lB5nBk8BsA5kTzze80-LeJb8T7RAvt0VqwAmJ9SnA=='}\n",
      "Distance_6_8 : {'routes': [{'weight_name': 'auto', 'weight': 1416.237, 'duration': 1243.992, 'distance': 3538.63, 'legs': [{'via_waypoints': [], 'admins': [{'iso_3166_1_alpha3': 'USA', 'iso_3166_1': 'US'}], 'weight': 1416.237, 'duration': 1243.992, 'steps': [], 'distance': 3538.63, 'summary': 'West 34th Street, 2nd Avenue'}], 'geometry': 'y|vwFv|rbMwApEvJtGzt@u~Bhn@la@fE}Ms@_@'}], 'waypoints': [{'distance': 31.8, 'name': 'West 37th Street', 'location': [-73.993877, 40.754849]}, {'distance': 16.984, 'name': '1st Avenue', 'location': [-73.978849, 40.736475]}], 'code': 'Ok', 'uuid': 'pWSGkL0ydQn89Uien9jFT8RDXSQ7hWBz2mmpjO-xIJgNfDDXG-JxHQ=='}\n",
      "Distance_6_9 : {'routes': [{'weight_name': 'auto', 'weight': 866.464, 'duration': 720.48, 'distance': 1599.708, 'legs': [{'via_waypoints': [], 'admins': [{'iso_3166_1_alpha3': 'USA', 'iso_3166_1': 'US'}], 'weight': 866.464, 'duration': 720.48, 'steps': [], 'distance': 1599.708, 'summary': 'West 36th Street, 6th Avenue'}], 'geometry': 'y|vwFv|rbMwApEvBxAnUot@i\\\\eT'}], 'waypoints': [{'distance': 31.8, 'name': 'West 37th Street', 'location': [-73.993877, 40.754849]}, {'distance': 13.38, 'name': '6th Avenue', 'location': [-73.983434, 40.755776]}], 'code': 'Ok', 'uuid': 'N64leG14WRl9PNPGQcGVOasEbLDh4h__LMbC6XXGoGIiXNqyh6HugQ=='}\n",
      "Distance_7_8 : {'routes': [{'weight_name': 'auto', 'weight': 629.142, 'duration': 482.725, 'distance': 1312.246, 'legs': [{'via_waypoints': [], 'admins': [{'iso_3166_1_alpha3': 'USA', 'iso_3166_1': 'US'}], 'weight': 629.142, 'duration': 482.725, 'steps': [], 'distance': 1312.246, 'summary': 'East 20th Street, 1st Avenue'}], 'geometry': 'q|swFr{qbMsAdEjCb@`Yq|@gHqE'}], 'waypoints': [{'distance': 12.635, 'name': 'East 21st Street', 'location': [-73.988577, 40.739452]}, {'distance': 16.984, 'name': '1st Avenue', 'location': [-73.978849, 40.736475]}], 'code': 'Ok', 'uuid': '0hOSYR2OVDrtHpxQ1q_SE4k55o54zq7OFzVSvTku-TF_ePYjZrI8kg=='}\n",
      "Distance_7_9 : {'routes': [{'weight_name': 'auto', 'weight': 959.491, 'duration': 778.331, 'distance': 2297.83, 'legs': [{'via_waypoints': [], 'admins': [{'iso_3166_1_alpha3': 'USA', 'iso_3166_1': 'US'}], 'weight': 959.491, 'duration': 778.331, 'steps': [], 'distance': 2297.83, 'summary': 'East 21st Street, 6th Avenue'}], 'geometry': 'q|swFr{qbMqLf_@owAm_A'}], 'waypoints': [{'distance': 12.635, 'name': 'East 21st Street', 'location': [-73.988577, 40.739452]}, {'distance': 13.38, 'name': '6th Avenue', 'location': [-73.983434, 40.755776]}], 'code': 'Ok', 'uuid': 'up8JbLviKFZez8Aug8JT9MJyTqwn35K0XBqBVhLAg8YMp9TiWsVmqw=='}\n",
      "Distance_8_9 : {'routes': [{'weight_name': 'auto', 'weight': 1098.022, 'duration': 999.316, 'distance': 3056.727, 'legs': [{'via_waypoints': [], 'admins': [{'iso_3166_1_alpha3': 'USA', 'iso_3166_1': 'US'}], 'weight': 1098.022, 'duration': 999.316, 'steps': [], 'distance': 3056.727, 'summary': '1st Avenue, East 42nd Street'}], 'geometry': '_jswFx~obMseAor@e@OuDoBgd@lwA{DiC'}], 'waypoints': [{'distance': 16.984, 'name': '1st Avenue', 'location': [-73.978849, 40.736475]}, {'distance': 13.38, 'name': '6th Avenue', 'location': [-73.983434, 40.755776]}], 'code': 'Ok', 'uuid': '8FiQv7GNGdUx9zpyRwuQc0nKhftsxIyaEfUNcvryN2z5edP4I_W8VA=='}\n"
     ]
    }
   ],
   "source": [
    "\n",
    "# Set your Mapbox API token\n",
    "api_token = 'pk.eyJ1Ijoia3VuYWx1bWJyYW5pIiwiYSI6ImNsbm5lMnhkbzA1cngycm82eW5kaXJiejIifQ.xTo8-ITbtPQBKq2aqGNVww'\n",
    "\n",
    "# Define the URL and necessary parameters\n",
    "url = \"https://api.mapbox.com/directions/v5/{profile}/{coordinates}\"\n",
    "profile = \"mapbox/driving\"  # Choose the appropriate profile based on your requirements\n",
    "\n",
    "customer_count = 10\n",
    "vehicle_count = 4\n",
    "\n",
    "# the capacity of vehicle\n",
    "vehicle_capacity = 50\n",
    "\n",
    "# fix random seed\n",
    "np.random.seed(seed=777)\n",
    "depot_latitude = 40.748817\n",
    "depot_longitude = -73.985428\n",
    "\n",
    "# make dataframe which contains vending machine location and demand\n",
    "df = pd.DataFrame({\"latitude\":np.random.normal(depot_latitude, 0.007, customer_count), \n",
    "                   \"longitude\":np.random.normal(depot_longitude, 0.007, customer_count), \n",
    "                   \"demand\":np.random.randint(10, 20, customer_count)})\n",
    "\n",
    "# set the depot as the center and make demand 0 ('0' = depot)\n",
    "df.iloc[0, df.columns.get_loc(\"latitude\")] = depot_latitude\n",
    "df.iloc[0, df.columns.get_loc(\"longitude\")] = depot_longitude\n",
    "df.iloc[0, df.columns.get_loc(\"demand\")] = 0\n",
    "\n",
    "coordinates_list = list(zip(df['longitude'], df['latitude']))\n",
    "\n",
    "distances = {}\n",
    "\n",
    "for i in range(len(coordinates_list)):\n",
    "    for j in range(i + 1, len(coordinates_list)):\n",
    "        coordinates = f\"{coordinates_list[i][0]},{coordinates_list[i][1]};{coordinates_list[j][0]},{coordinates_list[j][1]}\"\n",
    "        response = requests.get(url.format(profile=profile, coordinates=coordinates), params={\"access_token\": api_token})\n",
    "        data = response.json()\n",
    "        distances[f\"Distance_{i}_{j}\"] = data\n",
    "\n",
    "\n",
    "# Example of printing the distances\n",
    "for key, value in distances.items():\n",
    "    print(key, \":\", value)"
   ]
  },
  {
   "cell_type": "code",
   "execution_count": 3,
   "metadata": {},
   "outputs": [
    {
     "name": "stdout",
     "output_type": "stream",
     "text": [
      "[[   0.    3137.797  784.772 1500.889 1546.382 1455.839 1188.937 1545.094\n",
      "  2145.85  1464.598]\n",
      " [3137.797    0.    1924.357 2643.239 2374.498 2283.955 2493.982 2080.267\n",
      "  1776.155 2280.737]\n",
      " [ 784.772 1924.357    0.     806.859 1639.219 1548.676 1058.173 1937.664\n",
      "  2532.155 1562.992]\n",
      " [1500.889 2643.239  806.859    0.    2189.088 2098.545 1608.042 1130.805\n",
      "  1725.295 2500.308]\n",
      " [1546.382 2374.498 1639.219 2189.088    0.     613.304 1143.042 2981.15\n",
      "  3581.906 1015.067]\n",
      " [1455.839 2283.955 1548.676 2098.545  613.304    0.    1233.584 3071.693\n",
      "  3672.449 1105.61 ]\n",
      " [1188.937 2493.982 1058.173 1608.042 1143.042 1233.584    0.    2937.875\n",
      "  3538.63  1599.708]\n",
      " [1545.094 2080.267 1937.664 1130.805 2981.15  3071.693 2937.875    0.\n",
      "  1312.246 2297.83 ]\n",
      " [2145.85  1776.155 2532.155 1725.295 3581.906 3672.449 3538.63  1312.246\n",
      "     0.    3056.727]\n",
      " [1464.598 2280.737 1562.992 2500.308 1015.067 1105.61  1599.708 2297.83\n",
      "  3056.727    0.   ]]\n"
     ]
    }
   ],
   "source": [
    "n = len(df)\n",
    "distance_result = np.zeros((n, n))\n",
    "\n",
    "# Updating the 2D matrix with distances from the output\n",
    "for key, value in distances.items():\n",
    "    indices = key.split(\"_\")[1:]\n",
    "    i, j = int(indices[0]), int(indices[1])\n",
    "    distance_result[i][j] = value['routes'][0]['distance']\n",
    "    distance_result[j][i] = value['routes'][0]['distance']  # Assuming symmetric distances\n",
    "\n",
    "# Printing the resulting 2D matrix\n",
    "print(distance_result)"
   ]
  },
  {
   "cell_type": "code",
   "execution_count": null,
   "metadata": {},
   "outputs": [],
   "source": []
  },
  {
   "cell_type": "code",
   "execution_count": 4,
   "metadata": {},
   "outputs": [
    {
     "name": "stdout",
     "output_type": "stream",
     "text": [
      "Vehicle Requirements: 3\n",
      "Moving Distance: 16335.992000000002\n"
     ]
    }
   ],
   "source": [
    "for vehicle_count in range(1,vehicle_count+1):\n",
    "    \n",
    "    # definition of LpProblem instance\n",
    "    problem = pulp.LpProblem(\"CVRP\", pulp.LpMinimize)\n",
    "    #represents the routes taken by the vehicles\n",
    "    x = [[[pulp.LpVariable(\"x%s_%s,%s\"%(i,j,k), cat=\"Binary\") if i != j else None for k in range(vehicle_count)]for j in range(customer_count)] for i in range(customer_count)]\n",
    "    # add objective function\n",
    "    problem += pulp.lpSum(distance_result[i][j] * x[i][j][k] if i != j else 0\n",
    "                          for k in range(vehicle_count) \n",
    "                          for j in range(customer_count) \n",
    "                          for i in range (customer_count))\n",
    "    # constraints\n",
    "    # foluma (2)\n",
    "    for j in range(1, customer_count):\n",
    "        problem += pulp.lpSum(x[i][j][k] if i != j else 0 \n",
    "                              for i in range(customer_count) \n",
    "                              for k in range(vehicle_count)) == 1 \n",
    "\n",
    "    # foluma (3)\n",
    "    for k in range(vehicle_count):\n",
    "        problem += pulp.lpSum(x[0][j][k] for j in range(1,customer_count)) == 1\n",
    "        problem += pulp.lpSum(x[i][0][k] for i in range(1,customer_count)) == 1\n",
    "\n",
    "    # foluma (4)\n",
    "    for k in range(vehicle_count):\n",
    "        for j in range(customer_count):\n",
    "            problem += pulp.lpSum(x[i][j][k] if i != j else 0 \n",
    "                                  for i in range(customer_count)) -  pulp.lpSum(x[j][i][k] for i in range(customer_count)) == 0\n",
    "\n",
    "    #formula (5)\n",
    "    for k in range(vehicle_count):\n",
    "        problem += pulp.lpSum(df.demand[j] * x[i][j][k] if i != j else 0 for i in range(customer_count) for j in range (1,customer_count)) <= vehicle_capacity \n",
    "\n",
    "\n",
    "    # fomula (6)\n",
    "    subtours = []\n",
    "    for i in range(2,customer_count):\n",
    "         subtours += itertools.combinations(range(1,customer_count), i)\n",
    "\n",
    "    for s in subtours:\n",
    "        problem += pulp.lpSum(x[i][j][k] if i !=j else 0 for i, j in itertools.permutations(s,2) for k in range(vehicle_count)) <= len(s) - 1\n",
    "\n",
    "    \n",
    "    # print vehicle_count which needed for solving problem\n",
    "    # print calculated minimum distance value\n",
    "    if problem.solve() == 1:\n",
    "        print('Vehicle Requirements:', vehicle_count)\n",
    "        print('Moving Distance:', pulp.value(problem.objective))\n",
    "        break"
   ]
  },
  {
   "cell_type": "code",
   "execution_count": 5,
   "metadata": {},
   "outputs": [
    {
     "data": {
      "application/vnd.plotly.v1+json": {
       "config": {
        "plotlyServerURL": "https://plot.ly"
       },
       "data": [
        {
         "hovertemplate": "latitude=%{lat}<br>longitude=%{lon}<extra></extra>",
         "lat": [
          40.748817,
          40.74305722602184,
          40.74835933928491,
          40.74382346653062,
          40.7551614562113,
          40.75418065711651,
          40.754599378500416,
          40.73955122050164,
          40.73654988833227,
          40.7558341434788
         ],
         "legendgroup": "",
         "lon": [
          -73.985428,
          -73.97216187367623,
          -73.99081350218243,
          -73.99524967142555,
          -73.98985527253669,
          -73.9893401156745,
          -73.9940606196935,
          -73.98850452464795,
          -73.97902448918126,
          -73.98357271348812
         ],
         "marker": {
          "color": "#636efa"
         },
         "mode": "markers",
         "name": "",
         "showlegend": false,
         "subplot": "mapbox",
         "type": "scattermapbox"
        },
        {
         "hovertemplate": "lat=%{lat}<br>lon=%{lon}<extra></extra>",
         "lat": [
          40.74881,
          40.74318,
          40.74308,
          40.74197,
          40.7393,
          40.73742,
          40.73698,
          40.7363,
          40.73546,
          40.73537,
          40.73677,
          40.73931,
          40.74305
         ],
         "legendgroup": "",
         "line": {
          "color": "#636efa"
         },
         "lon": [
          -73.98543,
          -73.97207,
          -73.97222,
          -73.97274,
          -73.97324,
          -73.9745,
          -73.9749,
          -73.97514,
          -73.97514,
          -73.9748,
          -73.97462,
          -73.97295,
          -73.97213
         ],
         "mode": "lines",
         "name": "",
         "showlegend": false,
         "subplot": "mapbox",
         "type": "scattermapbox"
        },
        {
         "hovertemplate": "lat=%{lat}<br>lon=%{lon}<extra></extra>",
         "lat": [
          40.74881,
          40.74844,
          40.74653,
          40.74854
         ],
         "legendgroup": "",
         "line": {
          "color": "#636efa"
         },
         "lon": [
          -73.98543,
          -73.98456,
          -73.98594,
          -73.99068
         ],
         "mode": "lines",
         "name": "",
         "showlegend": false,
         "subplot": "mapbox",
         "type": "scattermapbox"
        },
        {
         "hovertemplate": "lat=%{lat}<br>lon=%{lon}<extra></extra>",
         "lat": [
          40.74881,
          40.74844,
          40.74155,
          40.74391
         ],
         "legendgroup": "",
         "line": {
          "color": "#636efa"
         },
         "lon": [
          -73.98543,
          -73.98456,
          -73.9896,
          -73.99519
         ],
         "mode": "lines",
         "name": "",
         "showlegend": false,
         "subplot": "mapbox",
         "type": "scattermapbox"
        },
        {
         "hovertemplate": "lat=%{lat}<br>lon=%{lon}<extra></extra>",
         "lat": [
          40.74881,
          40.74777,
          40.74966,
          40.7517,
          40.75294,
          40.75487
         ],
         "legendgroup": "",
         "line": {
          "color": "#636efa"
         },
         "lon": [
          -73.98543,
          -73.98296,
          -73.98157,
          -73.9864,
          -73.98548,
          -73.99007
         ],
         "mode": "lines",
         "name": "",
         "showlegend": false,
         "subplot": "mapbox",
         "type": "scattermapbox"
        },
        {
         "hovertemplate": "lat=%{lat}<br>lon=%{lon}<extra></extra>",
         "lat": [
          40.74881,
          40.74777,
          40.74966,
          40.7517,
          40.75294,
          40.75448
         ],
         "legendgroup": "",
         "line": {
          "color": "#636efa"
         },
         "lon": [
          -73.98543,
          -73.98296,
          -73.98157,
          -73.9864,
          -73.98548,
          -73.98913
         ],
         "mode": "lines",
         "name": "",
         "showlegend": false,
         "subplot": "mapbox",
         "type": "scattermapbox"
        },
        {
         "hovertemplate": "lat=%{lat}<br>lon=%{lon}<extra></extra>",
         "lat": [
          40.74881,
          40.7522,
          40.75409,
          40.75485
         ],
         "legendgroup": "",
         "line": {
          "color": "#636efa"
         },
         "lon": [
          -73.98543,
          -73.99346,
          -73.99208,
          -73.99388
         ],
         "mode": "lines",
         "name": "",
         "showlegend": false,
         "subplot": "mapbox",
         "type": "scattermapbox"
        },
        {
         "hovertemplate": "lat=%{lat}<br>lon=%{lon}<extra></extra>",
         "lat": [
          40.74881,
          40.74713,
          40.73892,
          40.73945
         ],
         "legendgroup": "",
         "line": {
          "color": "#636efa"
         },
         "lon": [
          -73.98543,
          -73.98145,
          -73.98735,
          -73.98858
         ],
         "mode": "lines",
         "name": "",
         "showlegend": false,
         "subplot": "mapbox",
         "type": "scattermapbox"
        },
        {
         "hovertemplate": "lat=%{lat}<br>lon=%{lon}<extra></extra>",
         "lat": [
          40.74881,
          40.74479,
          40.73722,
          40.73622,
          40.73648
         ],
         "legendgroup": "",
         "line": {
          "color": "#636efa"
         },
         "lon": [
          -73.98543,
          -73.97589,
          -73.9814,
          -73.97901,
          -73.97885
         ],
         "mode": "lines",
         "name": "",
         "showlegend": false,
         "subplot": "mapbox",
         "type": "scattermapbox"
        },
        {
         "hovertemplate": "lat=%{lat}<br>lon=%{lon}<extra></extra>",
         "lat": [
          40.74881,
          40.74777,
          40.75281,
          40.75484,
          40.75578
         ],
         "legendgroup": "",
         "line": {
          "color": "#636efa"
         },
         "lon": [
          -73.98543,
          -73.98296,
          -73.97929,
          -73.98412,
          -73.98343
         ],
         "mode": "lines",
         "name": "",
         "showlegend": false,
         "subplot": "mapbox",
         "type": "scattermapbox"
        },
        {
         "hovertemplate": "lat=%{lat}<br>lon=%{lon}<extra></extra>",
         "lat": [
          40.74305,
          40.74318,
          40.74713,
          40.74521,
          40.74854
         ],
         "legendgroup": "",
         "line": {
          "color": "#636efa"
         },
         "lon": [
          -73.97213,
          -73.97207,
          -73.98145,
          -73.98279,
          -73.99068
         ],
         "mode": "lines",
         "name": "",
         "showlegend": false,
         "subplot": "mapbox",
         "type": "scattermapbox"
        },
        {
         "hovertemplate": "lat=%{lat}<br>lon=%{lon}<extra></extra>",
         "lat": [
          40.74305,
          40.74318,
          40.74713,
          40.74022,
          40.74391
         ],
         "legendgroup": "",
         "line": {
          "color": "#636efa"
         },
         "lon": [
          -73.97213,
          -73.97207,
          -73.98145,
          -73.98641,
          -73.99519
         ],
         "mode": "lines",
         "name": "",
         "showlegend": false,
         "subplot": "mapbox",
         "type": "scattermapbox"
        },
        {
         "hovertemplate": "lat=%{lat}<br>lon=%{lon}<extra></extra>",
         "lat": [
          40.74305,
          40.74318,
          40.74777,
          40.74966,
          40.7517,
          40.75294,
          40.75487
         ],
         "legendgroup": "",
         "line": {
          "color": "#636efa"
         },
         "lon": [
          -73.97213,
          -73.97207,
          -73.98296,
          -73.98157,
          -73.9864,
          -73.98548,
          -73.99007
         ],
         "mode": "lines",
         "name": "",
         "showlegend": false,
         "subplot": "mapbox",
         "type": "scattermapbox"
        },
        {
         "hovertemplate": "lat=%{lat}<br>lon=%{lon}<extra></extra>",
         "lat": [
          40.74305,
          40.74318,
          40.74777,
          40.74966,
          40.7517,
          40.75294,
          40.75448
         ],
         "legendgroup": "",
         "line": {
          "color": "#636efa"
         },
         "lon": [
          -73.97213,
          -73.97207,
          -73.98296,
          -73.98157,
          -73.9864,
          -73.98548,
          -73.98913
         ],
         "mode": "lines",
         "name": "",
         "showlegend": false,
         "subplot": "mapbox",
         "type": "scattermapbox"
        },
        {
         "hovertemplate": "lat=%{lat}<br>lon=%{lon}<extra></extra>",
         "lat": [
          40.74305,
          40.74318,
          40.7522,
          40.75409,
          40.75485
         ],
         "legendgroup": "",
         "line": {
          "color": "#636efa"
         },
         "lon": [
          -73.97213,
          -73.97207,
          -73.99346,
          -73.99208,
          -73.99388
         ],
         "mode": "lines",
         "name": "",
         "showlegend": false,
         "subplot": "mapbox",
         "type": "scattermapbox"
        },
        {
         "hovertemplate": "lat=%{lat}<br>lon=%{lon}<extra></extra>",
         "lat": [
          40.74305,
          40.74318,
          40.74713,
          40.73892,
          40.73945
         ],
         "legendgroup": "",
         "line": {
          "color": "#636efa"
         },
         "lon": [
          -73.97213,
          -73.97207,
          -73.98145,
          -73.98735,
          -73.98858
         ],
         "mode": "lines",
         "name": "",
         "showlegend": false,
         "subplot": "mapbox",
         "type": "scattermapbox"
        },
        {
         "hovertemplate": "lat=%{lat}<br>lon=%{lon}<extra></extra>",
         "lat": [
          40.74305,
          40.74318,
          40.7445,
          40.74518,
          40.74546,
          40.73722,
          40.73622,
          40.73648
         ],
         "legendgroup": "",
         "line": {
          "color": "#636efa"
         },
         "lon": [
          -73.97213,
          -73.97207,
          -73.9752,
          -73.97474,
          -73.97541,
          -73.9814,
          -73.97901,
          -73.97885
         ],
         "mode": "lines",
         "name": "",
         "showlegend": false,
         "subplot": "mapbox",
         "type": "scattermapbox"
        },
        {
         "hovertemplate": "lat=%{lat}<br>lon=%{lon}<extra></extra>",
         "lat": [
          40.74305,
          40.74318,
          40.74379,
          40.74778,
          40.74797,
          40.74888,
          40.75484,
          40.75578
         ],
         "legendgroup": "",
         "line": {
          "color": "#636efa"
         },
         "lon": [
          -73.97213,
          -73.97207,
          -73.97351,
          -73.97061,
          -73.97053,
          -73.96997,
          -73.98412,
          -73.98343
         ],
         "mode": "lines",
         "name": "",
         "showlegend": false,
         "subplot": "mapbox",
         "type": "scattermapbox"
        },
        {
         "hovertemplate": "lat=%{lat}<br>lon=%{lon}<extra></extra>",
         "lat": [
          40.74854,
          40.7491,
          40.74411,
          40.74391
         ],
         "legendgroup": "",
         "line": {
          "color": "#636efa"
         },
         "lon": [
          -73.99068,
          -73.99201,
          -73.99564,
          -73.99519
         ],
         "mode": "lines",
         "name": "",
         "showlegend": false,
         "subplot": "mapbox",
         "type": "scattermapbox"
        },
        {
         "hovertemplate": "lat=%{lat}<br>lon=%{lon}<extra></extra>",
         "lat": [
          40.74854,
          40.75029,
          40.75595,
          40.75475,
          40.75415,
          40.75487
         ],
         "legendgroup": "",
         "line": {
          "color": "#636efa"
         },
         "lon": [
          -73.99068,
          -73.99485,
          -73.99073,
          -73.98789,
          -73.98832,
          -73.99007
         ],
         "mode": "lines",
         "name": "",
         "showlegend": false,
         "subplot": "mapbox",
         "type": "scattermapbox"
        },
        {
         "hovertemplate": "lat=%{lat}<br>lon=%{lon}<extra></extra>",
         "lat": [
          40.74854,
          40.75029,
          40.75595,
          40.75475,
          40.75415,
          40.75448
         ],
         "legendgroup": "",
         "line": {
          "color": "#636efa"
         },
         "lon": [
          -73.99068,
          -73.99485,
          -73.99073,
          -73.98789,
          -73.98832,
          -73.98913
         ],
         "mode": "lines",
         "name": "",
         "showlegend": false,
         "subplot": "mapbox",
         "type": "scattermapbox"
        },
        {
         "hovertemplate": "lat=%{lat}<br>lon=%{lon}<extra></extra>",
         "lat": [
          40.74854,
          40.75029,
          40.75409,
          40.75485
         ],
         "legendgroup": "",
         "line": {
          "color": "#636efa"
         },
         "lon": [
          -73.99068,
          -73.99485,
          -73.99208,
          -73.99388
         ],
         "mode": "lines",
         "name": "",
         "showlegend": false,
         "subplot": "mapbox",
         "type": "scattermapbox"
        },
        {
         "hovertemplate": "lat=%{lat}<br>lon=%{lon}<extra></extra>",
         "lat": [
          40.74854,
          40.7491,
          40.74411,
          40.74022,
          40.73892,
          40.73945
         ],
         "legendgroup": "",
         "line": {
          "color": "#636efa"
         },
         "lon": [
          -73.99068,
          -73.99201,
          -73.99564,
          -73.98641,
          -73.98735,
          -73.98858
         ],
         "mode": "lines",
         "name": "",
         "showlegend": false,
         "subplot": "mapbox",
         "type": "scattermapbox"
        },
        {
         "hovertemplate": "lat=%{lat}<br>lon=%{lon}<extra></extra>",
         "lat": [
          40.74854,
          40.7491,
          40.74411,
          40.73789,
          40.73722,
          40.73622,
          40.73648
         ],
         "legendgroup": "",
         "line": {
          "color": "#636efa"
         },
         "lon": [
          -73.99068,
          -73.99201,
          -73.99564,
          -73.98091,
          -73.9814,
          -73.97901,
          -73.97885
         ],
         "mode": "lines",
         "name": "",
         "showlegend": false,
         "subplot": "mapbox",
         "type": "scattermapbox"
        },
        {
         "hovertemplate": "lat=%{lat}<br>lon=%{lon}<extra></extra>",
         "lat": [
          40.74854,
          40.7491,
          40.74847,
          40.74728,
          40.75578
         ],
         "legendgroup": "",
         "line": {
          "color": "#636efa"
         },
         "lon": [
          -73.99068,
          -73.99201,
          -73.99246,
          -73.98962,
          -73.98343
         ],
         "mode": "lines",
         "name": "",
         "showlegend": false,
         "subplot": "mapbox",
         "type": "scattermapbox"
        },
        {
         "hovertemplate": "lat=%{lat}<br>lon=%{lon}<extra></extra>",
         "lat": [
          40.74391,
          40.7453,
          40.75595,
          40.75475,
          40.75415,
          40.75487
         ],
         "legendgroup": "",
         "line": {
          "color": "#636efa"
         },
         "lon": [
          -73.99519,
          -73.99847,
          -73.99073,
          -73.98789,
          -73.98832,
          -73.99007
         ],
         "mode": "lines",
         "name": "",
         "showlegend": false,
         "subplot": "mapbox",
         "type": "scattermapbox"
        },
        {
         "hovertemplate": "lat=%{lat}<br>lon=%{lon}<extra></extra>",
         "lat": [
          40.74391,
          40.7453,
          40.75595,
          40.75475,
          40.75415,
          40.75448
         ],
         "legendgroup": "",
         "line": {
          "color": "#636efa"
         },
         "lon": [
          -73.99519,
          -73.99847,
          -73.99073,
          -73.98789,
          -73.98832,
          -73.98913
         ],
         "mode": "lines",
         "name": "",
         "showlegend": false,
         "subplot": "mapbox",
         "type": "scattermapbox"
        },
        {
         "hovertemplate": "lat=%{lat}<br>lon=%{lon}<extra></extra>",
         "lat": [
          40.74391,
          40.7453,
          40.75409,
          40.75485
         ],
         "legendgroup": "",
         "line": {
          "color": "#636efa"
         },
         "lon": [
          -73.99519,
          -73.99847,
          -73.99208,
          -73.99388
         ],
         "mode": "lines",
         "name": "",
         "showlegend": false,
         "subplot": "mapbox",
         "type": "scattermapbox"
        },
        {
         "hovertemplate": "lat=%{lat}<br>lon=%{lon}<extra></extra>",
         "lat": [
          40.74391,
          40.74022,
          40.73892,
          40.73945
         ],
         "legendgroup": "",
         "line": {
          "color": "#636efa"
         },
         "lon": [
          -73.99519,
          -73.98641,
          -73.98735,
          -73.98858
         ],
         "mode": "lines",
         "name": "",
         "showlegend": false,
         "subplot": "mapbox",
         "type": "scattermapbox"
        },
        {
         "hovertemplate": "lat=%{lat}<br>lon=%{lon}<extra></extra>",
         "lat": [
          40.74391,
          40.73789,
          40.73722,
          40.73622,
          40.73648
         ],
         "legendgroup": "",
         "line": {
          "color": "#636efa"
         },
         "lon": [
          -73.99519,
          -73.98091,
          -73.9814,
          -73.97901,
          -73.97885
         ],
         "mode": "lines",
         "name": "",
         "showlegend": false,
         "subplot": "mapbox",
         "type": "scattermapbox"
        },
        {
         "hovertemplate": "lat=%{lat}<br>lon=%{lon}<extra></extra>",
         "lat": [
          40.74391,
          40.7453,
          40.75723,
          40.75484,
          40.75578
         ],
         "legendgroup": "",
         "line": {
          "color": "#636efa"
         },
         "lon": [
          -73.99519,
          -73.99847,
          -73.98979,
          -73.98412,
          -73.98343
         ],
         "mode": "lines",
         "name": "",
         "showlegend": false,
         "subplot": "mapbox",
         "type": "scattermapbox"
        },
        {
         "hovertemplate": "lat=%{lat}<br>lon=%{lon}<extra></extra>",
         "lat": [
          40.75487,
          40.75533,
          40.75595,
          40.75475,
          40.75415,
          40.75448
         ],
         "legendgroup": "",
         "line": {
          "color": "#636efa"
         },
         "lon": [
          -73.99007,
          -73.99118,
          -73.99073,
          -73.98789,
          -73.98832,
          -73.98913
         ],
         "mode": "lines",
         "name": "",
         "showlegend": false,
         "subplot": "mapbox",
         "type": "scattermapbox"
        },
        {
         "hovertemplate": "lat=%{lat}<br>lon=%{lon}<extra></extra>",
         "lat": [
          40.75487,
          40.75533,
          40.75595,
          40.75475,
          40.75289,
          40.75485
         ],
         "legendgroup": "",
         "line": {
          "color": "#636efa"
         },
         "lon": [
          -73.99007,
          -73.99118,
          -73.99073,
          -73.98789,
          -73.98924,
          -73.99388
         ],
         "mode": "lines",
         "name": "",
         "showlegend": false,
         "subplot": "mapbox",
         "type": "scattermapbox"
        },
        {
         "hovertemplate": "lat=%{lat}<br>lon=%{lon}<extra></extra>",
         "lat": [
          40.75487,
          40.75533,
          40.75595,
          40.75475,
          40.75101,
          40.74713,
          40.73892,
          40.73945
         ],
         "legendgroup": "",
         "line": {
          "color": "#636efa"
         },
         "lon": [
          -73.99007,
          -73.99118,
          -73.99073,
          -73.98789,
          -73.99061,
          -73.98145,
          -73.98735,
          -73.98858
         ],
         "mode": "lines",
         "name": "",
         "showlegend": false,
         "subplot": "mapbox",
         "type": "scattermapbox"
        },
        {
         "hovertemplate": "lat=%{lat}<br>lon=%{lon}<extra></extra>",
         "lat": [
          40.75487,
          40.75533,
          40.75595,
          40.75475,
          40.75101,
          40.74479,
          40.73722,
          40.73622,
          40.73648
         ],
         "legendgroup": "",
         "line": {
          "color": "#636efa"
         },
         "lon": [
          -73.99007,
          -73.99118,
          -73.99073,
          -73.98789,
          -73.99061,
          -73.97589,
          -73.9814,
          -73.97901,
          -73.97885
         ],
         "mode": "lines",
         "name": "",
         "showlegend": false,
         "subplot": "mapbox",
         "type": "scattermapbox"
        },
        {
         "hovertemplate": "lat=%{lat}<br>lon=%{lon}<extra></extra>",
         "lat": [
          40.75487,
          40.75533,
          40.75723,
          40.75484,
          40.75578
         ],
         "legendgroup": "",
         "line": {
          "color": "#636efa"
         },
         "lon": [
          -73.99007,
          -73.99118,
          -73.98979,
          -73.98412,
          -73.98343
         ],
         "mode": "lines",
         "name": "",
         "showlegend": false,
         "subplot": "mapbox",
         "type": "scattermapbox"
        },
        {
         "hovertemplate": "lat=%{lat}<br>lon=%{lon}<extra></extra>",
         "lat": [
          40.75448,
          40.75533,
          40.75595,
          40.75475,
          40.75289,
          40.75485
         ],
         "legendgroup": "",
         "line": {
          "color": "#636efa"
         },
         "lon": [
          -73.98913,
          -73.99118,
          -73.99073,
          -73.98789,
          -73.98924,
          -73.99388
         ],
         "mode": "lines",
         "name": "",
         "showlegend": false,
         "subplot": "mapbox",
         "type": "scattermapbox"
        },
        {
         "hovertemplate": "lat=%{lat}<br>lon=%{lon}<extra></extra>",
         "lat": [
          40.75448,
          40.75533,
          40.75595,
          40.75475,
          40.75101,
          40.74713,
          40.73892,
          40.73945
         ],
         "legendgroup": "",
         "line": {
          "color": "#636efa"
         },
         "lon": [
          -73.98913,
          -73.99118,
          -73.99073,
          -73.98789,
          -73.99061,
          -73.98145,
          -73.98735,
          -73.98858
         ],
         "mode": "lines",
         "name": "",
         "showlegend": false,
         "subplot": "mapbox",
         "type": "scattermapbox"
        },
        {
         "hovertemplate": "lat=%{lat}<br>lon=%{lon}<extra></extra>",
         "lat": [
          40.75448,
          40.75533,
          40.75595,
          40.75475,
          40.75101,
          40.74479,
          40.73722,
          40.73622,
          40.73648
         ],
         "legendgroup": "",
         "line": {
          "color": "#636efa"
         },
         "lon": [
          -73.98913,
          -73.99118,
          -73.99073,
          -73.98789,
          -73.99061,
          -73.97589,
          -73.9814,
          -73.97901,
          -73.97885
         ],
         "mode": "lines",
         "name": "",
         "showlegend": false,
         "subplot": "mapbox",
         "type": "scattermapbox"
        },
        {
         "hovertemplate": "lat=%{lat}<br>lon=%{lon}<extra></extra>",
         "lat": [
          40.75448,
          40.75533,
          40.75723,
          40.75484,
          40.75578
         ],
         "legendgroup": "",
         "line": {
          "color": "#636efa"
         },
         "lon": [
          -73.98913,
          -73.99118,
          -73.98979,
          -73.98412,
          -73.98343
         ],
         "mode": "lines",
         "name": "",
         "showlegend": false,
         "subplot": "mapbox",
         "type": "scattermapbox"
        },
        {
         "hovertemplate": "lat=%{lat}<br>lon=%{lon}<extra></extra>",
         "lat": [
          40.75485,
          40.75529,
          40.75341,
          40.74713,
          40.73892,
          40.73945
         ],
         "legendgroup": "",
         "line": {
          "color": "#636efa"
         },
         "lon": [
          -73.99388,
          -73.99493,
          -73.99632,
          -73.98145,
          -73.98735,
          -73.98858
         ],
         "mode": "lines",
         "name": "",
         "showlegend": false,
         "subplot": "mapbox",
         "type": "scattermapbox"
        },
        {
         "hovertemplate": "lat=%{lat}<br>lon=%{lon}<extra></extra>",
         "lat": [
          40.75485,
          40.75529,
          40.75341,
          40.74479,
          40.73722,
          40.73622,
          40.73648
         ],
         "legendgroup": "",
         "line": {
          "color": "#636efa"
         },
         "lon": [
          -73.99388,
          -73.99493,
          -73.99632,
          -73.97589,
          -73.9814,
          -73.97901,
          -73.97885
         ],
         "mode": "lines",
         "name": "",
         "showlegend": false,
         "subplot": "mapbox",
         "type": "scattermapbox"
        },
        {
         "hovertemplate": "lat=%{lat}<br>lon=%{lon}<extra></extra>",
         "lat": [
          40.75485,
          40.75529,
          40.75469,
          40.75109,
          40.75578
         ],
         "legendgroup": "",
         "line": {
          "color": "#636efa"
         },
         "lon": [
          -73.99388,
          -73.99493,
          -73.99538,
          -73.98682,
          -73.98343
         ],
         "mode": "lines",
         "name": "",
         "showlegend": false,
         "subplot": "mapbox",
         "type": "scattermapbox"
        },
        {
         "hovertemplate": "lat=%{lat}<br>lon=%{lon}<extra></extra>",
         "lat": [
          40.73945,
          40.73987,
          40.73917,
          40.735,
          40.73648
         ],
         "legendgroup": "",
         "line": {
          "color": "#636efa"
         },
         "lon": [
          -73.98858,
          -73.98957,
          -73.98975,
          -73.9799,
          -73.97885
         ],
         "mode": "lines",
         "name": "",
         "showlegend": false,
         "subplot": "mapbox",
         "type": "scattermapbox"
        },
        {
         "hovertemplate": "lat=%{lat}<br>lon=%{lon}<extra></extra>",
         "lat": [
          40.73945,
          40.74162,
          40.75578
         ],
         "legendgroup": "",
         "line": {
          "color": "#636efa"
         },
         "lon": [
          -73.98858,
          -73.99374,
          -73.98343
         ],
         "mode": "lines",
         "name": "",
         "showlegend": false,
         "subplot": "mapbox",
         "type": "scattermapbox"
        },
        {
         "hovertemplate": "lat=%{lat}<br>lon=%{lon}<extra></extra>",
         "lat": [
          40.73648,
          40.74778,
          40.74797,
          40.74888,
          40.75484,
          40.75578
         ],
         "legendgroup": "",
         "line": {
          "color": "#636efa"
         },
         "lon": [
          -73.97885,
          -73.97061,
          -73.97053,
          -73.96997,
          -73.98412,
          -73.98343
         ],
         "mode": "lines",
         "name": "",
         "showlegend": false,
         "subplot": "mapbox",
         "type": "scattermapbox"
        },
        {
         "hovertemplate": "lat=%{lat}<br>lon=%{lon}<extra></extra>",
         "lat": [
          40.74881,
          40.74318,
          40.74308,
          40.74197,
          40.7393,
          40.73742,
          40.73698,
          40.7363,
          40.73546,
          40.73537,
          40.73677,
          40.73931,
          40.74305
         ],
         "legendgroup": "",
         "line": {
          "color": "#636efa"
         },
         "lon": [
          -73.98543,
          -73.97207,
          -73.97222,
          -73.97274,
          -73.97324,
          -73.9745,
          -73.9749,
          -73.97514,
          -73.97514,
          -73.9748,
          -73.97462,
          -73.97295,
          -73.97213
         ],
         "mode": "lines",
         "name": "",
         "showlegend": false,
         "subplot": "mapbox",
         "type": "scattermapbox"
        },
        {
         "hovertemplate": "lat=%{lat}<br>lon=%{lon}<extra></extra>",
         "lat": [
          40.74881,
          40.74844,
          40.74653,
          40.74854
         ],
         "legendgroup": "",
         "line": {
          "color": "#636efa"
         },
         "lon": [
          -73.98543,
          -73.98456,
          -73.98594,
          -73.99068
         ],
         "mode": "lines",
         "name": "",
         "showlegend": false,
         "subplot": "mapbox",
         "type": "scattermapbox"
        },
        {
         "hovertemplate": "lat=%{lat}<br>lon=%{lon}<extra></extra>",
         "lat": [
          40.74881,
          40.74844,
          40.74155,
          40.74391
         ],
         "legendgroup": "",
         "line": {
          "color": "#636efa"
         },
         "lon": [
          -73.98543,
          -73.98456,
          -73.9896,
          -73.99519
         ],
         "mode": "lines",
         "name": "",
         "showlegend": false,
         "subplot": "mapbox",
         "type": "scattermapbox"
        },
        {
         "hovertemplate": "lat=%{lat}<br>lon=%{lon}<extra></extra>",
         "lat": [
          40.74881,
          40.74777,
          40.74966,
          40.7517,
          40.75294,
          40.75487
         ],
         "legendgroup": "",
         "line": {
          "color": "#636efa"
         },
         "lon": [
          -73.98543,
          -73.98296,
          -73.98157,
          -73.9864,
          -73.98548,
          -73.99007
         ],
         "mode": "lines",
         "name": "",
         "showlegend": false,
         "subplot": "mapbox",
         "type": "scattermapbox"
        },
        {
         "hovertemplate": "lat=%{lat}<br>lon=%{lon}<extra></extra>",
         "lat": [
          40.74881,
          40.74777,
          40.74966,
          40.7517,
          40.75294,
          40.75448
         ],
         "legendgroup": "",
         "line": {
          "color": "#636efa"
         },
         "lon": [
          -73.98543,
          -73.98296,
          -73.98157,
          -73.9864,
          -73.98548,
          -73.98913
         ],
         "mode": "lines",
         "name": "",
         "showlegend": false,
         "subplot": "mapbox",
         "type": "scattermapbox"
        },
        {
         "hovertemplate": "lat=%{lat}<br>lon=%{lon}<extra></extra>",
         "lat": [
          40.74881,
          40.7522,
          40.75409,
          40.75485
         ],
         "legendgroup": "",
         "line": {
          "color": "#636efa"
         },
         "lon": [
          -73.98543,
          -73.99346,
          -73.99208,
          -73.99388
         ],
         "mode": "lines",
         "name": "",
         "showlegend": false,
         "subplot": "mapbox",
         "type": "scattermapbox"
        },
        {
         "hovertemplate": "lat=%{lat}<br>lon=%{lon}<extra></extra>",
         "lat": [
          40.74881,
          40.74713,
          40.73892,
          40.73945
         ],
         "legendgroup": "",
         "line": {
          "color": "#636efa"
         },
         "lon": [
          -73.98543,
          -73.98145,
          -73.98735,
          -73.98858
         ],
         "mode": "lines",
         "name": "",
         "showlegend": false,
         "subplot": "mapbox",
         "type": "scattermapbox"
        },
        {
         "hovertemplate": "lat=%{lat}<br>lon=%{lon}<extra></extra>",
         "lat": [
          40.74881,
          40.74479,
          40.73722,
          40.73622,
          40.73648
         ],
         "legendgroup": "",
         "line": {
          "color": "#636efa"
         },
         "lon": [
          -73.98543,
          -73.97589,
          -73.9814,
          -73.97901,
          -73.97885
         ],
         "mode": "lines",
         "name": "",
         "showlegend": false,
         "subplot": "mapbox",
         "type": "scattermapbox"
        },
        {
         "hovertemplate": "lat=%{lat}<br>lon=%{lon}<extra></extra>",
         "lat": [
          40.74881,
          40.74777,
          40.75281,
          40.75484,
          40.75578
         ],
         "legendgroup": "",
         "line": {
          "color": "#636efa"
         },
         "lon": [
          -73.98543,
          -73.98296,
          -73.97929,
          -73.98412,
          -73.98343
         ],
         "mode": "lines",
         "name": "",
         "showlegend": false,
         "subplot": "mapbox",
         "type": "scattermapbox"
        },
        {
         "hovertemplate": "lat=%{lat}<br>lon=%{lon}<extra></extra>",
         "lat": [
          40.74305,
          40.74318,
          40.74713,
          40.74521,
          40.74854
         ],
         "legendgroup": "",
         "line": {
          "color": "#636efa"
         },
         "lon": [
          -73.97213,
          -73.97207,
          -73.98145,
          -73.98279,
          -73.99068
         ],
         "mode": "lines",
         "name": "",
         "showlegend": false,
         "subplot": "mapbox",
         "type": "scattermapbox"
        },
        {
         "hovertemplate": "lat=%{lat}<br>lon=%{lon}<extra></extra>",
         "lat": [
          40.74305,
          40.74318,
          40.74713,
          40.74022,
          40.74391
         ],
         "legendgroup": "",
         "line": {
          "color": "#636efa"
         },
         "lon": [
          -73.97213,
          -73.97207,
          -73.98145,
          -73.98641,
          -73.99519
         ],
         "mode": "lines",
         "name": "",
         "showlegend": false,
         "subplot": "mapbox",
         "type": "scattermapbox"
        },
        {
         "hovertemplate": "lat=%{lat}<br>lon=%{lon}<extra></extra>",
         "lat": [
          40.74305,
          40.74318,
          40.74777,
          40.74966,
          40.7517,
          40.75294,
          40.75487
         ],
         "legendgroup": "",
         "line": {
          "color": "#636efa"
         },
         "lon": [
          -73.97213,
          -73.97207,
          -73.98296,
          -73.98157,
          -73.9864,
          -73.98548,
          -73.99007
         ],
         "mode": "lines",
         "name": "",
         "showlegend": false,
         "subplot": "mapbox",
         "type": "scattermapbox"
        },
        {
         "hovertemplate": "lat=%{lat}<br>lon=%{lon}<extra></extra>",
         "lat": [
          40.74305,
          40.74318,
          40.74777,
          40.74966,
          40.7517,
          40.75294,
          40.75448
         ],
         "legendgroup": "",
         "line": {
          "color": "#636efa"
         },
         "lon": [
          -73.97213,
          -73.97207,
          -73.98296,
          -73.98157,
          -73.9864,
          -73.98548,
          -73.98913
         ],
         "mode": "lines",
         "name": "",
         "showlegend": false,
         "subplot": "mapbox",
         "type": "scattermapbox"
        },
        {
         "hovertemplate": "lat=%{lat}<br>lon=%{lon}<extra></extra>",
         "lat": [
          40.74305,
          40.74318,
          40.7522,
          40.75409,
          40.75485
         ],
         "legendgroup": "",
         "line": {
          "color": "#636efa"
         },
         "lon": [
          -73.97213,
          -73.97207,
          -73.99346,
          -73.99208,
          -73.99388
         ],
         "mode": "lines",
         "name": "",
         "showlegend": false,
         "subplot": "mapbox",
         "type": "scattermapbox"
        },
        {
         "hovertemplate": "lat=%{lat}<br>lon=%{lon}<extra></extra>",
         "lat": [
          40.74305,
          40.74318,
          40.74713,
          40.73892,
          40.73945
         ],
         "legendgroup": "",
         "line": {
          "color": "#636efa"
         },
         "lon": [
          -73.97213,
          -73.97207,
          -73.98145,
          -73.98735,
          -73.98858
         ],
         "mode": "lines",
         "name": "",
         "showlegend": false,
         "subplot": "mapbox",
         "type": "scattermapbox"
        },
        {
         "hovertemplate": "lat=%{lat}<br>lon=%{lon}<extra></extra>",
         "lat": [
          40.74305,
          40.74318,
          40.7445,
          40.74518,
          40.74546,
          40.73722,
          40.73622,
          40.73648
         ],
         "legendgroup": "",
         "line": {
          "color": "#636efa"
         },
         "lon": [
          -73.97213,
          -73.97207,
          -73.9752,
          -73.97474,
          -73.97541,
          -73.9814,
          -73.97901,
          -73.97885
         ],
         "mode": "lines",
         "name": "",
         "showlegend": false,
         "subplot": "mapbox",
         "type": "scattermapbox"
        },
        {
         "hovertemplate": "lat=%{lat}<br>lon=%{lon}<extra></extra>",
         "lat": [
          40.74305,
          40.74318,
          40.74379,
          40.74778,
          40.74797,
          40.74888,
          40.75484,
          40.75578
         ],
         "legendgroup": "",
         "line": {
          "color": "#636efa"
         },
         "lon": [
          -73.97213,
          -73.97207,
          -73.97351,
          -73.97061,
          -73.97053,
          -73.96997,
          -73.98412,
          -73.98343
         ],
         "mode": "lines",
         "name": "",
         "showlegend": false,
         "subplot": "mapbox",
         "type": "scattermapbox"
        },
        {
         "hovertemplate": "lat=%{lat}<br>lon=%{lon}<extra></extra>",
         "lat": [
          40.74854,
          40.7491,
          40.74411,
          40.74391
         ],
         "legendgroup": "",
         "line": {
          "color": "#636efa"
         },
         "lon": [
          -73.99068,
          -73.99201,
          -73.99564,
          -73.99519
         ],
         "mode": "lines",
         "name": "",
         "showlegend": false,
         "subplot": "mapbox",
         "type": "scattermapbox"
        },
        {
         "hovertemplate": "lat=%{lat}<br>lon=%{lon}<extra></extra>",
         "lat": [
          40.74854,
          40.75029,
          40.75595,
          40.75475,
          40.75415,
          40.75487
         ],
         "legendgroup": "",
         "line": {
          "color": "#636efa"
         },
         "lon": [
          -73.99068,
          -73.99485,
          -73.99073,
          -73.98789,
          -73.98832,
          -73.99007
         ],
         "mode": "lines",
         "name": "",
         "showlegend": false,
         "subplot": "mapbox",
         "type": "scattermapbox"
        },
        {
         "hovertemplate": "lat=%{lat}<br>lon=%{lon}<extra></extra>",
         "lat": [
          40.74854,
          40.75029,
          40.75595,
          40.75475,
          40.75415,
          40.75448
         ],
         "legendgroup": "",
         "line": {
          "color": "#636efa"
         },
         "lon": [
          -73.99068,
          -73.99485,
          -73.99073,
          -73.98789,
          -73.98832,
          -73.98913
         ],
         "mode": "lines",
         "name": "",
         "showlegend": false,
         "subplot": "mapbox",
         "type": "scattermapbox"
        },
        {
         "hovertemplate": "lat=%{lat}<br>lon=%{lon}<extra></extra>",
         "lat": [
          40.74854,
          40.75029,
          40.75409,
          40.75485
         ],
         "legendgroup": "",
         "line": {
          "color": "#636efa"
         },
         "lon": [
          -73.99068,
          -73.99485,
          -73.99208,
          -73.99388
         ],
         "mode": "lines",
         "name": "",
         "showlegend": false,
         "subplot": "mapbox",
         "type": "scattermapbox"
        },
        {
         "hovertemplate": "lat=%{lat}<br>lon=%{lon}<extra></extra>",
         "lat": [
          40.74854,
          40.7491,
          40.74411,
          40.74022,
          40.73892,
          40.73945
         ],
         "legendgroup": "",
         "line": {
          "color": "#636efa"
         },
         "lon": [
          -73.99068,
          -73.99201,
          -73.99564,
          -73.98641,
          -73.98735,
          -73.98858
         ],
         "mode": "lines",
         "name": "",
         "showlegend": false,
         "subplot": "mapbox",
         "type": "scattermapbox"
        },
        {
         "hovertemplate": "lat=%{lat}<br>lon=%{lon}<extra></extra>",
         "lat": [
          40.74854,
          40.7491,
          40.74411,
          40.73789,
          40.73722,
          40.73622,
          40.73648
         ],
         "legendgroup": "",
         "line": {
          "color": "#636efa"
         },
         "lon": [
          -73.99068,
          -73.99201,
          -73.99564,
          -73.98091,
          -73.9814,
          -73.97901,
          -73.97885
         ],
         "mode": "lines",
         "name": "",
         "showlegend": false,
         "subplot": "mapbox",
         "type": "scattermapbox"
        },
        {
         "hovertemplate": "lat=%{lat}<br>lon=%{lon}<extra></extra>",
         "lat": [
          40.74854,
          40.7491,
          40.74847,
          40.74728,
          40.75578
         ],
         "legendgroup": "",
         "line": {
          "color": "#636efa"
         },
         "lon": [
          -73.99068,
          -73.99201,
          -73.99246,
          -73.98962,
          -73.98343
         ],
         "mode": "lines",
         "name": "",
         "showlegend": false,
         "subplot": "mapbox",
         "type": "scattermapbox"
        },
        {
         "hovertemplate": "lat=%{lat}<br>lon=%{lon}<extra></extra>",
         "lat": [
          40.74391,
          40.7453,
          40.75595,
          40.75475,
          40.75415,
          40.75487
         ],
         "legendgroup": "",
         "line": {
          "color": "#636efa"
         },
         "lon": [
          -73.99519,
          -73.99847,
          -73.99073,
          -73.98789,
          -73.98832,
          -73.99007
         ],
         "mode": "lines",
         "name": "",
         "showlegend": false,
         "subplot": "mapbox",
         "type": "scattermapbox"
        },
        {
         "hovertemplate": "lat=%{lat}<br>lon=%{lon}<extra></extra>",
         "lat": [
          40.74391,
          40.7453,
          40.75595,
          40.75475,
          40.75415,
          40.75448
         ],
         "legendgroup": "",
         "line": {
          "color": "#636efa"
         },
         "lon": [
          -73.99519,
          -73.99847,
          -73.99073,
          -73.98789,
          -73.98832,
          -73.98913
         ],
         "mode": "lines",
         "name": "",
         "showlegend": false,
         "subplot": "mapbox",
         "type": "scattermapbox"
        },
        {
         "hovertemplate": "lat=%{lat}<br>lon=%{lon}<extra></extra>",
         "lat": [
          40.74391,
          40.7453,
          40.75409,
          40.75485
         ],
         "legendgroup": "",
         "line": {
          "color": "#636efa"
         },
         "lon": [
          -73.99519,
          -73.99847,
          -73.99208,
          -73.99388
         ],
         "mode": "lines",
         "name": "",
         "showlegend": false,
         "subplot": "mapbox",
         "type": "scattermapbox"
        },
        {
         "hovertemplate": "lat=%{lat}<br>lon=%{lon}<extra></extra>",
         "lat": [
          40.74391,
          40.74022,
          40.73892,
          40.73945
         ],
         "legendgroup": "",
         "line": {
          "color": "#636efa"
         },
         "lon": [
          -73.99519,
          -73.98641,
          -73.98735,
          -73.98858
         ],
         "mode": "lines",
         "name": "",
         "showlegend": false,
         "subplot": "mapbox",
         "type": "scattermapbox"
        },
        {
         "hovertemplate": "lat=%{lat}<br>lon=%{lon}<extra></extra>",
         "lat": [
          40.74391,
          40.73789,
          40.73722,
          40.73622,
          40.73648
         ],
         "legendgroup": "",
         "line": {
          "color": "#636efa"
         },
         "lon": [
          -73.99519,
          -73.98091,
          -73.9814,
          -73.97901,
          -73.97885
         ],
         "mode": "lines",
         "name": "",
         "showlegend": false,
         "subplot": "mapbox",
         "type": "scattermapbox"
        },
        {
         "hovertemplate": "lat=%{lat}<br>lon=%{lon}<extra></extra>",
         "lat": [
          40.74391,
          40.7453,
          40.75723,
          40.75484,
          40.75578
         ],
         "legendgroup": "",
         "line": {
          "color": "#636efa"
         },
         "lon": [
          -73.99519,
          -73.99847,
          -73.98979,
          -73.98412,
          -73.98343
         ],
         "mode": "lines",
         "name": "",
         "showlegend": false,
         "subplot": "mapbox",
         "type": "scattermapbox"
        },
        {
         "hovertemplate": "lat=%{lat}<br>lon=%{lon}<extra></extra>",
         "lat": [
          40.75487,
          40.75533,
          40.75595,
          40.75475,
          40.75415,
          40.75448
         ],
         "legendgroup": "",
         "line": {
          "color": "#636efa"
         },
         "lon": [
          -73.99007,
          -73.99118,
          -73.99073,
          -73.98789,
          -73.98832,
          -73.98913
         ],
         "mode": "lines",
         "name": "",
         "showlegend": false,
         "subplot": "mapbox",
         "type": "scattermapbox"
        },
        {
         "hovertemplate": "lat=%{lat}<br>lon=%{lon}<extra></extra>",
         "lat": [
          40.75487,
          40.75533,
          40.75595,
          40.75475,
          40.75289,
          40.75485
         ],
         "legendgroup": "",
         "line": {
          "color": "#636efa"
         },
         "lon": [
          -73.99007,
          -73.99118,
          -73.99073,
          -73.98789,
          -73.98924,
          -73.99388
         ],
         "mode": "lines",
         "name": "",
         "showlegend": false,
         "subplot": "mapbox",
         "type": "scattermapbox"
        },
        {
         "hovertemplate": "lat=%{lat}<br>lon=%{lon}<extra></extra>",
         "lat": [
          40.75487,
          40.75533,
          40.75595,
          40.75475,
          40.75101,
          40.74713,
          40.73892,
          40.73945
         ],
         "legendgroup": "",
         "line": {
          "color": "#636efa"
         },
         "lon": [
          -73.99007,
          -73.99118,
          -73.99073,
          -73.98789,
          -73.99061,
          -73.98145,
          -73.98735,
          -73.98858
         ],
         "mode": "lines",
         "name": "",
         "showlegend": false,
         "subplot": "mapbox",
         "type": "scattermapbox"
        },
        {
         "hovertemplate": "lat=%{lat}<br>lon=%{lon}<extra></extra>",
         "lat": [
          40.75487,
          40.75533,
          40.75595,
          40.75475,
          40.75101,
          40.74479,
          40.73722,
          40.73622,
          40.73648
         ],
         "legendgroup": "",
         "line": {
          "color": "#636efa"
         },
         "lon": [
          -73.99007,
          -73.99118,
          -73.99073,
          -73.98789,
          -73.99061,
          -73.97589,
          -73.9814,
          -73.97901,
          -73.97885
         ],
         "mode": "lines",
         "name": "",
         "showlegend": false,
         "subplot": "mapbox",
         "type": "scattermapbox"
        },
        {
         "hovertemplate": "lat=%{lat}<br>lon=%{lon}<extra></extra>",
         "lat": [
          40.75487,
          40.75533,
          40.75723,
          40.75484,
          40.75578
         ],
         "legendgroup": "",
         "line": {
          "color": "#636efa"
         },
         "lon": [
          -73.99007,
          -73.99118,
          -73.98979,
          -73.98412,
          -73.98343
         ],
         "mode": "lines",
         "name": "",
         "showlegend": false,
         "subplot": "mapbox",
         "type": "scattermapbox"
        },
        {
         "hovertemplate": "lat=%{lat}<br>lon=%{lon}<extra></extra>",
         "lat": [
          40.75448,
          40.75533,
          40.75595,
          40.75475,
          40.75289,
          40.75485
         ],
         "legendgroup": "",
         "line": {
          "color": "#636efa"
         },
         "lon": [
          -73.98913,
          -73.99118,
          -73.99073,
          -73.98789,
          -73.98924,
          -73.99388
         ],
         "mode": "lines",
         "name": "",
         "showlegend": false,
         "subplot": "mapbox",
         "type": "scattermapbox"
        },
        {
         "hovertemplate": "lat=%{lat}<br>lon=%{lon}<extra></extra>",
         "lat": [
          40.75448,
          40.75533,
          40.75595,
          40.75475,
          40.75101,
          40.74713,
          40.73892,
          40.73945
         ],
         "legendgroup": "",
         "line": {
          "color": "#636efa"
         },
         "lon": [
          -73.98913,
          -73.99118,
          -73.99073,
          -73.98789,
          -73.99061,
          -73.98145,
          -73.98735,
          -73.98858
         ],
         "mode": "lines",
         "name": "",
         "showlegend": false,
         "subplot": "mapbox",
         "type": "scattermapbox"
        },
        {
         "hovertemplate": "lat=%{lat}<br>lon=%{lon}<extra></extra>",
         "lat": [
          40.75448,
          40.75533,
          40.75595,
          40.75475,
          40.75101,
          40.74479,
          40.73722,
          40.73622,
          40.73648
         ],
         "legendgroup": "",
         "line": {
          "color": "#636efa"
         },
         "lon": [
          -73.98913,
          -73.99118,
          -73.99073,
          -73.98789,
          -73.99061,
          -73.97589,
          -73.9814,
          -73.97901,
          -73.97885
         ],
         "mode": "lines",
         "name": "",
         "showlegend": false,
         "subplot": "mapbox",
         "type": "scattermapbox"
        },
        {
         "hovertemplate": "lat=%{lat}<br>lon=%{lon}<extra></extra>",
         "lat": [
          40.75448,
          40.75533,
          40.75723,
          40.75484,
          40.75578
         ],
         "legendgroup": "",
         "line": {
          "color": "#636efa"
         },
         "lon": [
          -73.98913,
          -73.99118,
          -73.98979,
          -73.98412,
          -73.98343
         ],
         "mode": "lines",
         "name": "",
         "showlegend": false,
         "subplot": "mapbox",
         "type": "scattermapbox"
        },
        {
         "hovertemplate": "lat=%{lat}<br>lon=%{lon}<extra></extra>",
         "lat": [
          40.75485,
          40.75529,
          40.75341,
          40.74713,
          40.73892,
          40.73945
         ],
         "legendgroup": "",
         "line": {
          "color": "#636efa"
         },
         "lon": [
          -73.99388,
          -73.99493,
          -73.99632,
          -73.98145,
          -73.98735,
          -73.98858
         ],
         "mode": "lines",
         "name": "",
         "showlegend": false,
         "subplot": "mapbox",
         "type": "scattermapbox"
        },
        {
         "hovertemplate": "lat=%{lat}<br>lon=%{lon}<extra></extra>",
         "lat": [
          40.75485,
          40.75529,
          40.75341,
          40.74479,
          40.73722,
          40.73622,
          40.73648
         ],
         "legendgroup": "",
         "line": {
          "color": "#636efa"
         },
         "lon": [
          -73.99388,
          -73.99493,
          -73.99632,
          -73.97589,
          -73.9814,
          -73.97901,
          -73.97885
         ],
         "mode": "lines",
         "name": "",
         "showlegend": false,
         "subplot": "mapbox",
         "type": "scattermapbox"
        },
        {
         "hovertemplate": "lat=%{lat}<br>lon=%{lon}<extra></extra>",
         "lat": [
          40.75485,
          40.75529,
          40.75469,
          40.75109,
          40.75578
         ],
         "legendgroup": "",
         "line": {
          "color": "#636efa"
         },
         "lon": [
          -73.99388,
          -73.99493,
          -73.99538,
          -73.98682,
          -73.98343
         ],
         "mode": "lines",
         "name": "",
         "showlegend": false,
         "subplot": "mapbox",
         "type": "scattermapbox"
        },
        {
         "hovertemplate": "lat=%{lat}<br>lon=%{lon}<extra></extra>",
         "lat": [
          40.73945,
          40.73987,
          40.73917,
          40.735,
          40.73648
         ],
         "legendgroup": "",
         "line": {
          "color": "#636efa"
         },
         "lon": [
          -73.98858,
          -73.98957,
          -73.98975,
          -73.9799,
          -73.97885
         ],
         "mode": "lines",
         "name": "",
         "showlegend": false,
         "subplot": "mapbox",
         "type": "scattermapbox"
        },
        {
         "hovertemplate": "lat=%{lat}<br>lon=%{lon}<extra></extra>",
         "lat": [
          40.73945,
          40.74162,
          40.75578
         ],
         "legendgroup": "",
         "line": {
          "color": "#636efa"
         },
         "lon": [
          -73.98858,
          -73.99374,
          -73.98343
         ],
         "mode": "lines",
         "name": "",
         "showlegend": false,
         "subplot": "mapbox",
         "type": "scattermapbox"
        },
        {
         "hovertemplate": "lat=%{lat}<br>lon=%{lon}<extra></extra>",
         "lat": [
          40.73648,
          40.74778,
          40.74797,
          40.74888,
          40.75484,
          40.75578
         ],
         "legendgroup": "",
         "line": {
          "color": "#636efa"
         },
         "lon": [
          -73.97885,
          -73.97061,
          -73.97053,
          -73.96997,
          -73.98412,
          -73.98343
         ],
         "mode": "lines",
         "name": "",
         "showlegend": false,
         "subplot": "mapbox",
         "type": "scattermapbox"
        },
        {
         "hovertemplate": "lat=%{lat}<br>lon=%{lon}<extra></extra>",
         "lat": [
          40.74881,
          40.74318,
          40.74308,
          40.74197,
          40.7393,
          40.73742,
          40.73698,
          40.7363,
          40.73546,
          40.73537,
          40.73677,
          40.73931,
          40.74305
         ],
         "legendgroup": "",
         "line": {
          "color": "#636efa"
         },
         "lon": [
          -73.98543,
          -73.97207,
          -73.97222,
          -73.97274,
          -73.97324,
          -73.9745,
          -73.9749,
          -73.97514,
          -73.97514,
          -73.9748,
          -73.97462,
          -73.97295,
          -73.97213
         ],
         "mode": "lines",
         "name": "",
         "showlegend": false,
         "subplot": "mapbox",
         "type": "scattermapbox"
        },
        {
         "hovertemplate": "lat=%{lat}<br>lon=%{lon}<extra></extra>",
         "lat": [
          40.74881,
          40.74844,
          40.74653,
          40.74854
         ],
         "legendgroup": "",
         "line": {
          "color": "#636efa"
         },
         "lon": [
          -73.98543,
          -73.98456,
          -73.98594,
          -73.99068
         ],
         "mode": "lines",
         "name": "",
         "showlegend": false,
         "subplot": "mapbox",
         "type": "scattermapbox"
        },
        {
         "hovertemplate": "lat=%{lat}<br>lon=%{lon}<extra></extra>",
         "lat": [
          40.74881,
          40.74844,
          40.74155,
          40.74391
         ],
         "legendgroup": "",
         "line": {
          "color": "#636efa"
         },
         "lon": [
          -73.98543,
          -73.98456,
          -73.9896,
          -73.99519
         ],
         "mode": "lines",
         "name": "",
         "showlegend": false,
         "subplot": "mapbox",
         "type": "scattermapbox"
        },
        {
         "hovertemplate": "lat=%{lat}<br>lon=%{lon}<extra></extra>",
         "lat": [
          40.74881,
          40.74777,
          40.74966,
          40.7517,
          40.75294,
          40.75487
         ],
         "legendgroup": "",
         "line": {
          "color": "#636efa"
         },
         "lon": [
          -73.98543,
          -73.98296,
          -73.98157,
          -73.9864,
          -73.98548,
          -73.99007
         ],
         "mode": "lines",
         "name": "",
         "showlegend": false,
         "subplot": "mapbox",
         "type": "scattermapbox"
        },
        {
         "hovertemplate": "lat=%{lat}<br>lon=%{lon}<extra></extra>",
         "lat": [
          40.74881,
          40.74777,
          40.74966,
          40.7517,
          40.75294,
          40.75448
         ],
         "legendgroup": "",
         "line": {
          "color": "#636efa"
         },
         "lon": [
          -73.98543,
          -73.98296,
          -73.98157,
          -73.9864,
          -73.98548,
          -73.98913
         ],
         "mode": "lines",
         "name": "",
         "showlegend": false,
         "subplot": "mapbox",
         "type": "scattermapbox"
        },
        {
         "hovertemplate": "lat=%{lat}<br>lon=%{lon}<extra></extra>",
         "lat": [
          40.74881,
          40.7522,
          40.75409,
          40.75485
         ],
         "legendgroup": "",
         "line": {
          "color": "#636efa"
         },
         "lon": [
          -73.98543,
          -73.99346,
          -73.99208,
          -73.99388
         ],
         "mode": "lines",
         "name": "",
         "showlegend": false,
         "subplot": "mapbox",
         "type": "scattermapbox"
        },
        {
         "hovertemplate": "lat=%{lat}<br>lon=%{lon}<extra></extra>",
         "lat": [
          40.74881,
          40.74713,
          40.73892,
          40.73945
         ],
         "legendgroup": "",
         "line": {
          "color": "#636efa"
         },
         "lon": [
          -73.98543,
          -73.98145,
          -73.98735,
          -73.98858
         ],
         "mode": "lines",
         "name": "",
         "showlegend": false,
         "subplot": "mapbox",
         "type": "scattermapbox"
        },
        {
         "hovertemplate": "lat=%{lat}<br>lon=%{lon}<extra></extra>",
         "lat": [
          40.74881,
          40.74479,
          40.73722,
          40.73622,
          40.73648
         ],
         "legendgroup": "",
         "line": {
          "color": "#636efa"
         },
         "lon": [
          -73.98543,
          -73.97589,
          -73.9814,
          -73.97901,
          -73.97885
         ],
         "mode": "lines",
         "name": "",
         "showlegend": false,
         "subplot": "mapbox",
         "type": "scattermapbox"
        },
        {
         "hovertemplate": "lat=%{lat}<br>lon=%{lon}<extra></extra>",
         "lat": [
          40.74881,
          40.74777,
          40.75281,
          40.75484,
          40.75578
         ],
         "legendgroup": "",
         "line": {
          "color": "#636efa"
         },
         "lon": [
          -73.98543,
          -73.98296,
          -73.97929,
          -73.98412,
          -73.98343
         ],
         "mode": "lines",
         "name": "",
         "showlegend": false,
         "subplot": "mapbox",
         "type": "scattermapbox"
        },
        {
         "hovertemplate": "lat=%{lat}<br>lon=%{lon}<extra></extra>",
         "lat": [
          40.74305,
          40.74318,
          40.74713,
          40.74521,
          40.74854
         ],
         "legendgroup": "",
         "line": {
          "color": "#636efa"
         },
         "lon": [
          -73.97213,
          -73.97207,
          -73.98145,
          -73.98279,
          -73.99068
         ],
         "mode": "lines",
         "name": "",
         "showlegend": false,
         "subplot": "mapbox",
         "type": "scattermapbox"
        },
        {
         "hovertemplate": "lat=%{lat}<br>lon=%{lon}<extra></extra>",
         "lat": [
          40.74305,
          40.74318,
          40.74713,
          40.74022,
          40.74391
         ],
         "legendgroup": "",
         "line": {
          "color": "#636efa"
         },
         "lon": [
          -73.97213,
          -73.97207,
          -73.98145,
          -73.98641,
          -73.99519
         ],
         "mode": "lines",
         "name": "",
         "showlegend": false,
         "subplot": "mapbox",
         "type": "scattermapbox"
        },
        {
         "hovertemplate": "lat=%{lat}<br>lon=%{lon}<extra></extra>",
         "lat": [
          40.74305,
          40.74318,
          40.74777,
          40.74966,
          40.7517,
          40.75294,
          40.75487
         ],
         "legendgroup": "",
         "line": {
          "color": "#636efa"
         },
         "lon": [
          -73.97213,
          -73.97207,
          -73.98296,
          -73.98157,
          -73.9864,
          -73.98548,
          -73.99007
         ],
         "mode": "lines",
         "name": "",
         "showlegend": false,
         "subplot": "mapbox",
         "type": "scattermapbox"
        },
        {
         "hovertemplate": "lat=%{lat}<br>lon=%{lon}<extra></extra>",
         "lat": [
          40.74305,
          40.74318,
          40.74777,
          40.74966,
          40.7517,
          40.75294,
          40.75448
         ],
         "legendgroup": "",
         "line": {
          "color": "#636efa"
         },
         "lon": [
          -73.97213,
          -73.97207,
          -73.98296,
          -73.98157,
          -73.9864,
          -73.98548,
          -73.98913
         ],
         "mode": "lines",
         "name": "",
         "showlegend": false,
         "subplot": "mapbox",
         "type": "scattermapbox"
        },
        {
         "hovertemplate": "lat=%{lat}<br>lon=%{lon}<extra></extra>",
         "lat": [
          40.74305,
          40.74318,
          40.7522,
          40.75409,
          40.75485
         ],
         "legendgroup": "",
         "line": {
          "color": "#636efa"
         },
         "lon": [
          -73.97213,
          -73.97207,
          -73.99346,
          -73.99208,
          -73.99388
         ],
         "mode": "lines",
         "name": "",
         "showlegend": false,
         "subplot": "mapbox",
         "type": "scattermapbox"
        },
        {
         "hovertemplate": "lat=%{lat}<br>lon=%{lon}<extra></extra>",
         "lat": [
          40.74305,
          40.74318,
          40.74713,
          40.73892,
          40.73945
         ],
         "legendgroup": "",
         "line": {
          "color": "#636efa"
         },
         "lon": [
          -73.97213,
          -73.97207,
          -73.98145,
          -73.98735,
          -73.98858
         ],
         "mode": "lines",
         "name": "",
         "showlegend": false,
         "subplot": "mapbox",
         "type": "scattermapbox"
        },
        {
         "hovertemplate": "lat=%{lat}<br>lon=%{lon}<extra></extra>",
         "lat": [
          40.74305,
          40.74318,
          40.7445,
          40.74518,
          40.74546,
          40.73722,
          40.73622,
          40.73648
         ],
         "legendgroup": "",
         "line": {
          "color": "#636efa"
         },
         "lon": [
          -73.97213,
          -73.97207,
          -73.9752,
          -73.97474,
          -73.97541,
          -73.9814,
          -73.97901,
          -73.97885
         ],
         "mode": "lines",
         "name": "",
         "showlegend": false,
         "subplot": "mapbox",
         "type": "scattermapbox"
        },
        {
         "hovertemplate": "lat=%{lat}<br>lon=%{lon}<extra></extra>",
         "lat": [
          40.74305,
          40.74318,
          40.74379,
          40.74778,
          40.74797,
          40.74888,
          40.75484,
          40.75578
         ],
         "legendgroup": "",
         "line": {
          "color": "#636efa"
         },
         "lon": [
          -73.97213,
          -73.97207,
          -73.97351,
          -73.97061,
          -73.97053,
          -73.96997,
          -73.98412,
          -73.98343
         ],
         "mode": "lines",
         "name": "",
         "showlegend": false,
         "subplot": "mapbox",
         "type": "scattermapbox"
        },
        {
         "hovertemplate": "lat=%{lat}<br>lon=%{lon}<extra></extra>",
         "lat": [
          40.74854,
          40.7491,
          40.74411,
          40.74391
         ],
         "legendgroup": "",
         "line": {
          "color": "#636efa"
         },
         "lon": [
          -73.99068,
          -73.99201,
          -73.99564,
          -73.99519
         ],
         "mode": "lines",
         "name": "",
         "showlegend": false,
         "subplot": "mapbox",
         "type": "scattermapbox"
        },
        {
         "hovertemplate": "lat=%{lat}<br>lon=%{lon}<extra></extra>",
         "lat": [
          40.74854,
          40.75029,
          40.75595,
          40.75475,
          40.75415,
          40.75487
         ],
         "legendgroup": "",
         "line": {
          "color": "#636efa"
         },
         "lon": [
          -73.99068,
          -73.99485,
          -73.99073,
          -73.98789,
          -73.98832,
          -73.99007
         ],
         "mode": "lines",
         "name": "",
         "showlegend": false,
         "subplot": "mapbox",
         "type": "scattermapbox"
        },
        {
         "hovertemplate": "lat=%{lat}<br>lon=%{lon}<extra></extra>",
         "lat": [
          40.74854,
          40.75029,
          40.75595,
          40.75475,
          40.75415,
          40.75448
         ],
         "legendgroup": "",
         "line": {
          "color": "#636efa"
         },
         "lon": [
          -73.99068,
          -73.99485,
          -73.99073,
          -73.98789,
          -73.98832,
          -73.98913
         ],
         "mode": "lines",
         "name": "",
         "showlegend": false,
         "subplot": "mapbox",
         "type": "scattermapbox"
        },
        {
         "hovertemplate": "lat=%{lat}<br>lon=%{lon}<extra></extra>",
         "lat": [
          40.74854,
          40.75029,
          40.75409,
          40.75485
         ],
         "legendgroup": "",
         "line": {
          "color": "#636efa"
         },
         "lon": [
          -73.99068,
          -73.99485,
          -73.99208,
          -73.99388
         ],
         "mode": "lines",
         "name": "",
         "showlegend": false,
         "subplot": "mapbox",
         "type": "scattermapbox"
        },
        {
         "hovertemplate": "lat=%{lat}<br>lon=%{lon}<extra></extra>",
         "lat": [
          40.74854,
          40.7491,
          40.74411,
          40.74022,
          40.73892,
          40.73945
         ],
         "legendgroup": "",
         "line": {
          "color": "#636efa"
         },
         "lon": [
          -73.99068,
          -73.99201,
          -73.99564,
          -73.98641,
          -73.98735,
          -73.98858
         ],
         "mode": "lines",
         "name": "",
         "showlegend": false,
         "subplot": "mapbox",
         "type": "scattermapbox"
        },
        {
         "hovertemplate": "lat=%{lat}<br>lon=%{lon}<extra></extra>",
         "lat": [
          40.74854,
          40.7491,
          40.74411,
          40.73789,
          40.73722,
          40.73622,
          40.73648
         ],
         "legendgroup": "",
         "line": {
          "color": "#636efa"
         },
         "lon": [
          -73.99068,
          -73.99201,
          -73.99564,
          -73.98091,
          -73.9814,
          -73.97901,
          -73.97885
         ],
         "mode": "lines",
         "name": "",
         "showlegend": false,
         "subplot": "mapbox",
         "type": "scattermapbox"
        },
        {
         "hovertemplate": "lat=%{lat}<br>lon=%{lon}<extra></extra>",
         "lat": [
          40.74854,
          40.7491,
          40.74847,
          40.74728,
          40.75578
         ],
         "legendgroup": "",
         "line": {
          "color": "#636efa"
         },
         "lon": [
          -73.99068,
          -73.99201,
          -73.99246,
          -73.98962,
          -73.98343
         ],
         "mode": "lines",
         "name": "",
         "showlegend": false,
         "subplot": "mapbox",
         "type": "scattermapbox"
        },
        {
         "hovertemplate": "lat=%{lat}<br>lon=%{lon}<extra></extra>",
         "lat": [
          40.74391,
          40.7453,
          40.75595,
          40.75475,
          40.75415,
          40.75487
         ],
         "legendgroup": "",
         "line": {
          "color": "#636efa"
         },
         "lon": [
          -73.99519,
          -73.99847,
          -73.99073,
          -73.98789,
          -73.98832,
          -73.99007
         ],
         "mode": "lines",
         "name": "",
         "showlegend": false,
         "subplot": "mapbox",
         "type": "scattermapbox"
        },
        {
         "hovertemplate": "lat=%{lat}<br>lon=%{lon}<extra></extra>",
         "lat": [
          40.74391,
          40.7453,
          40.75595,
          40.75475,
          40.75415,
          40.75448
         ],
         "legendgroup": "",
         "line": {
          "color": "#636efa"
         },
         "lon": [
          -73.99519,
          -73.99847,
          -73.99073,
          -73.98789,
          -73.98832,
          -73.98913
         ],
         "mode": "lines",
         "name": "",
         "showlegend": false,
         "subplot": "mapbox",
         "type": "scattermapbox"
        },
        {
         "hovertemplate": "lat=%{lat}<br>lon=%{lon}<extra></extra>",
         "lat": [
          40.74391,
          40.7453,
          40.75409,
          40.75485
         ],
         "legendgroup": "",
         "line": {
          "color": "#636efa"
         },
         "lon": [
          -73.99519,
          -73.99847,
          -73.99208,
          -73.99388
         ],
         "mode": "lines",
         "name": "",
         "showlegend": false,
         "subplot": "mapbox",
         "type": "scattermapbox"
        },
        {
         "hovertemplate": "lat=%{lat}<br>lon=%{lon}<extra></extra>",
         "lat": [
          40.74391,
          40.74022,
          40.73892,
          40.73945
         ],
         "legendgroup": "",
         "line": {
          "color": "#636efa"
         },
         "lon": [
          -73.99519,
          -73.98641,
          -73.98735,
          -73.98858
         ],
         "mode": "lines",
         "name": "",
         "showlegend": false,
         "subplot": "mapbox",
         "type": "scattermapbox"
        },
        {
         "hovertemplate": "lat=%{lat}<br>lon=%{lon}<extra></extra>",
         "lat": [
          40.74391,
          40.73789,
          40.73722,
          40.73622,
          40.73648
         ],
         "legendgroup": "",
         "line": {
          "color": "#636efa"
         },
         "lon": [
          -73.99519,
          -73.98091,
          -73.9814,
          -73.97901,
          -73.97885
         ],
         "mode": "lines",
         "name": "",
         "showlegend": false,
         "subplot": "mapbox",
         "type": "scattermapbox"
        },
        {
         "hovertemplate": "lat=%{lat}<br>lon=%{lon}<extra></extra>",
         "lat": [
          40.74391,
          40.7453,
          40.75723,
          40.75484,
          40.75578
         ],
         "legendgroup": "",
         "line": {
          "color": "#636efa"
         },
         "lon": [
          -73.99519,
          -73.99847,
          -73.98979,
          -73.98412,
          -73.98343
         ],
         "mode": "lines",
         "name": "",
         "showlegend": false,
         "subplot": "mapbox",
         "type": "scattermapbox"
        },
        {
         "hovertemplate": "lat=%{lat}<br>lon=%{lon}<extra></extra>",
         "lat": [
          40.75487,
          40.75533,
          40.75595,
          40.75475,
          40.75415,
          40.75448
         ],
         "legendgroup": "",
         "line": {
          "color": "#636efa"
         },
         "lon": [
          -73.99007,
          -73.99118,
          -73.99073,
          -73.98789,
          -73.98832,
          -73.98913
         ],
         "mode": "lines",
         "name": "",
         "showlegend": false,
         "subplot": "mapbox",
         "type": "scattermapbox"
        },
        {
         "hovertemplate": "lat=%{lat}<br>lon=%{lon}<extra></extra>",
         "lat": [
          40.75487,
          40.75533,
          40.75595,
          40.75475,
          40.75289,
          40.75485
         ],
         "legendgroup": "",
         "line": {
          "color": "#636efa"
         },
         "lon": [
          -73.99007,
          -73.99118,
          -73.99073,
          -73.98789,
          -73.98924,
          -73.99388
         ],
         "mode": "lines",
         "name": "",
         "showlegend": false,
         "subplot": "mapbox",
         "type": "scattermapbox"
        },
        {
         "hovertemplate": "lat=%{lat}<br>lon=%{lon}<extra></extra>",
         "lat": [
          40.75487,
          40.75533,
          40.75595,
          40.75475,
          40.75101,
          40.74713,
          40.73892,
          40.73945
         ],
         "legendgroup": "",
         "line": {
          "color": "#636efa"
         },
         "lon": [
          -73.99007,
          -73.99118,
          -73.99073,
          -73.98789,
          -73.99061,
          -73.98145,
          -73.98735,
          -73.98858
         ],
         "mode": "lines",
         "name": "",
         "showlegend": false,
         "subplot": "mapbox",
         "type": "scattermapbox"
        },
        {
         "hovertemplate": "lat=%{lat}<br>lon=%{lon}<extra></extra>",
         "lat": [
          40.75487,
          40.75533,
          40.75595,
          40.75475,
          40.75101,
          40.74479,
          40.73722,
          40.73622,
          40.73648
         ],
         "legendgroup": "",
         "line": {
          "color": "#636efa"
         },
         "lon": [
          -73.99007,
          -73.99118,
          -73.99073,
          -73.98789,
          -73.99061,
          -73.97589,
          -73.9814,
          -73.97901,
          -73.97885
         ],
         "mode": "lines",
         "name": "",
         "showlegend": false,
         "subplot": "mapbox",
         "type": "scattermapbox"
        },
        {
         "hovertemplate": "lat=%{lat}<br>lon=%{lon}<extra></extra>",
         "lat": [
          40.75487,
          40.75533,
          40.75723,
          40.75484,
          40.75578
         ],
         "legendgroup": "",
         "line": {
          "color": "#636efa"
         },
         "lon": [
          -73.99007,
          -73.99118,
          -73.98979,
          -73.98412,
          -73.98343
         ],
         "mode": "lines",
         "name": "",
         "showlegend": false,
         "subplot": "mapbox",
         "type": "scattermapbox"
        },
        {
         "hovertemplate": "lat=%{lat}<br>lon=%{lon}<extra></extra>",
         "lat": [
          40.75448,
          40.75533,
          40.75595,
          40.75475,
          40.75289,
          40.75485
         ],
         "legendgroup": "",
         "line": {
          "color": "#636efa"
         },
         "lon": [
          -73.98913,
          -73.99118,
          -73.99073,
          -73.98789,
          -73.98924,
          -73.99388
         ],
         "mode": "lines",
         "name": "",
         "showlegend": false,
         "subplot": "mapbox",
         "type": "scattermapbox"
        },
        {
         "hovertemplate": "lat=%{lat}<br>lon=%{lon}<extra></extra>",
         "lat": [
          40.75448,
          40.75533,
          40.75595,
          40.75475,
          40.75101,
          40.74713,
          40.73892,
          40.73945
         ],
         "legendgroup": "",
         "line": {
          "color": "#636efa"
         },
         "lon": [
          -73.98913,
          -73.99118,
          -73.99073,
          -73.98789,
          -73.99061,
          -73.98145,
          -73.98735,
          -73.98858
         ],
         "mode": "lines",
         "name": "",
         "showlegend": false,
         "subplot": "mapbox",
         "type": "scattermapbox"
        },
        {
         "hovertemplate": "lat=%{lat}<br>lon=%{lon}<extra></extra>",
         "lat": [
          40.75448,
          40.75533,
          40.75595,
          40.75475,
          40.75101,
          40.74479,
          40.73722,
          40.73622,
          40.73648
         ],
         "legendgroup": "",
         "line": {
          "color": "#636efa"
         },
         "lon": [
          -73.98913,
          -73.99118,
          -73.99073,
          -73.98789,
          -73.99061,
          -73.97589,
          -73.9814,
          -73.97901,
          -73.97885
         ],
         "mode": "lines",
         "name": "",
         "showlegend": false,
         "subplot": "mapbox",
         "type": "scattermapbox"
        },
        {
         "hovertemplate": "lat=%{lat}<br>lon=%{lon}<extra></extra>",
         "lat": [
          40.75448,
          40.75533,
          40.75723,
          40.75484,
          40.75578
         ],
         "legendgroup": "",
         "line": {
          "color": "#636efa"
         },
         "lon": [
          -73.98913,
          -73.99118,
          -73.98979,
          -73.98412,
          -73.98343
         ],
         "mode": "lines",
         "name": "",
         "showlegend": false,
         "subplot": "mapbox",
         "type": "scattermapbox"
        },
        {
         "hovertemplate": "lat=%{lat}<br>lon=%{lon}<extra></extra>",
         "lat": [
          40.75485,
          40.75529,
          40.75341,
          40.74713,
          40.73892,
          40.73945
         ],
         "legendgroup": "",
         "line": {
          "color": "#636efa"
         },
         "lon": [
          -73.99388,
          -73.99493,
          -73.99632,
          -73.98145,
          -73.98735,
          -73.98858
         ],
         "mode": "lines",
         "name": "",
         "showlegend": false,
         "subplot": "mapbox",
         "type": "scattermapbox"
        },
        {
         "hovertemplate": "lat=%{lat}<br>lon=%{lon}<extra></extra>",
         "lat": [
          40.75485,
          40.75529,
          40.75341,
          40.74479,
          40.73722,
          40.73622,
          40.73648
         ],
         "legendgroup": "",
         "line": {
          "color": "#636efa"
         },
         "lon": [
          -73.99388,
          -73.99493,
          -73.99632,
          -73.97589,
          -73.9814,
          -73.97901,
          -73.97885
         ],
         "mode": "lines",
         "name": "",
         "showlegend": false,
         "subplot": "mapbox",
         "type": "scattermapbox"
        },
        {
         "hovertemplate": "lat=%{lat}<br>lon=%{lon}<extra></extra>",
         "lat": [
          40.75485,
          40.75529,
          40.75469,
          40.75109,
          40.75578
         ],
         "legendgroup": "",
         "line": {
          "color": "#636efa"
         },
         "lon": [
          -73.99388,
          -73.99493,
          -73.99538,
          -73.98682,
          -73.98343
         ],
         "mode": "lines",
         "name": "",
         "showlegend": false,
         "subplot": "mapbox",
         "type": "scattermapbox"
        },
        {
         "hovertemplate": "lat=%{lat}<br>lon=%{lon}<extra></extra>",
         "lat": [
          40.73945,
          40.73987,
          40.73917,
          40.735,
          40.73648
         ],
         "legendgroup": "",
         "line": {
          "color": "#636efa"
         },
         "lon": [
          -73.98858,
          -73.98957,
          -73.98975,
          -73.9799,
          -73.97885
         ],
         "mode": "lines",
         "name": "",
         "showlegend": false,
         "subplot": "mapbox",
         "type": "scattermapbox"
        },
        {
         "hovertemplate": "lat=%{lat}<br>lon=%{lon}<extra></extra>",
         "lat": [
          40.73945,
          40.74162,
          40.75578
         ],
         "legendgroup": "",
         "line": {
          "color": "#636efa"
         },
         "lon": [
          -73.98858,
          -73.99374,
          -73.98343
         ],
         "mode": "lines",
         "name": "",
         "showlegend": false,
         "subplot": "mapbox",
         "type": "scattermapbox"
        },
        {
         "hovertemplate": "lat=%{lat}<br>lon=%{lon}<extra></extra>",
         "lat": [
          40.73648,
          40.74778,
          40.74797,
          40.74888,
          40.75484,
          40.75578
         ],
         "legendgroup": "",
         "line": {
          "color": "#636efa"
         },
         "lon": [
          -73.97885,
          -73.97061,
          -73.97053,
          -73.96997,
          -73.98412,
          -73.98343
         ],
         "mode": "lines",
         "name": "",
         "showlegend": false,
         "subplot": "mapbox",
         "type": "scattermapbox"
        }
       ],
       "layout": {
        "legend": {
         "tracegroupgap": 0
        },
        "mapbox": {
         "center": {
          "lat": 40.748817,
          "lon": -73.985428
         },
         "domain": {
          "x": [
           0,
           1
          ],
          "y": [
           0,
           1
          ]
         },
         "style": "open-street-map",
         "zoom": 12
        },
        "margin": {
         "t": 60
        },
        "template": {
         "data": {
          "bar": [
           {
            "error_x": {
             "color": "#2a3f5f"
            },
            "error_y": {
             "color": "#2a3f5f"
            },
            "marker": {
             "line": {
              "color": "#E5ECF6",
              "width": 0.5
             }
            },
            "type": "bar"
           }
          ],
          "barpolar": [
           {
            "marker": {
             "line": {
              "color": "#E5ECF6",
              "width": 0.5
             }
            },
            "type": "barpolar"
           }
          ],
          "carpet": [
           {
            "aaxis": {
             "endlinecolor": "#2a3f5f",
             "gridcolor": "white",
             "linecolor": "white",
             "minorgridcolor": "white",
             "startlinecolor": "#2a3f5f"
            },
            "baxis": {
             "endlinecolor": "#2a3f5f",
             "gridcolor": "white",
             "linecolor": "white",
             "minorgridcolor": "white",
             "startlinecolor": "#2a3f5f"
            },
            "type": "carpet"
           }
          ],
          "choropleth": [
           {
            "colorbar": {
             "outlinewidth": 0,
             "ticks": ""
            },
            "type": "choropleth"
           }
          ],
          "contour": [
           {
            "colorbar": {
             "outlinewidth": 0,
             "ticks": ""
            },
            "colorscale": [
             [
              0,
              "#0d0887"
             ],
             [
              0.1111111111111111,
              "#46039f"
             ],
             [
              0.2222222222222222,
              "#7201a8"
             ],
             [
              0.3333333333333333,
              "#9c179e"
             ],
             [
              0.4444444444444444,
              "#bd3786"
             ],
             [
              0.5555555555555556,
              "#d8576b"
             ],
             [
              0.6666666666666666,
              "#ed7953"
             ],
             [
              0.7777777777777778,
              "#fb9f3a"
             ],
             [
              0.8888888888888888,
              "#fdca26"
             ],
             [
              1,
              "#f0f921"
             ]
            ],
            "type": "contour"
           }
          ],
          "contourcarpet": [
           {
            "colorbar": {
             "outlinewidth": 0,
             "ticks": ""
            },
            "type": "contourcarpet"
           }
          ],
          "heatmap": [
           {
            "colorbar": {
             "outlinewidth": 0,
             "ticks": ""
            },
            "colorscale": [
             [
              0,
              "#0d0887"
             ],
             [
              0.1111111111111111,
              "#46039f"
             ],
             [
              0.2222222222222222,
              "#7201a8"
             ],
             [
              0.3333333333333333,
              "#9c179e"
             ],
             [
              0.4444444444444444,
              "#bd3786"
             ],
             [
              0.5555555555555556,
              "#d8576b"
             ],
             [
              0.6666666666666666,
              "#ed7953"
             ],
             [
              0.7777777777777778,
              "#fb9f3a"
             ],
             [
              0.8888888888888888,
              "#fdca26"
             ],
             [
              1,
              "#f0f921"
             ]
            ],
            "type": "heatmap"
           }
          ],
          "heatmapgl": [
           {
            "colorbar": {
             "outlinewidth": 0,
             "ticks": ""
            },
            "colorscale": [
             [
              0,
              "#0d0887"
             ],
             [
              0.1111111111111111,
              "#46039f"
             ],
             [
              0.2222222222222222,
              "#7201a8"
             ],
             [
              0.3333333333333333,
              "#9c179e"
             ],
             [
              0.4444444444444444,
              "#bd3786"
             ],
             [
              0.5555555555555556,
              "#d8576b"
             ],
             [
              0.6666666666666666,
              "#ed7953"
             ],
             [
              0.7777777777777778,
              "#fb9f3a"
             ],
             [
              0.8888888888888888,
              "#fdca26"
             ],
             [
              1,
              "#f0f921"
             ]
            ],
            "type": "heatmapgl"
           }
          ],
          "histogram": [
           {
            "marker": {
             "colorbar": {
              "outlinewidth": 0,
              "ticks": ""
             }
            },
            "type": "histogram"
           }
          ],
          "histogram2d": [
           {
            "colorbar": {
             "outlinewidth": 0,
             "ticks": ""
            },
            "colorscale": [
             [
              0,
              "#0d0887"
             ],
             [
              0.1111111111111111,
              "#46039f"
             ],
             [
              0.2222222222222222,
              "#7201a8"
             ],
             [
              0.3333333333333333,
              "#9c179e"
             ],
             [
              0.4444444444444444,
              "#bd3786"
             ],
             [
              0.5555555555555556,
              "#d8576b"
             ],
             [
              0.6666666666666666,
              "#ed7953"
             ],
             [
              0.7777777777777778,
              "#fb9f3a"
             ],
             [
              0.8888888888888888,
              "#fdca26"
             ],
             [
              1,
              "#f0f921"
             ]
            ],
            "type": "histogram2d"
           }
          ],
          "histogram2dcontour": [
           {
            "colorbar": {
             "outlinewidth": 0,
             "ticks": ""
            },
            "colorscale": [
             [
              0,
              "#0d0887"
             ],
             [
              0.1111111111111111,
              "#46039f"
             ],
             [
              0.2222222222222222,
              "#7201a8"
             ],
             [
              0.3333333333333333,
              "#9c179e"
             ],
             [
              0.4444444444444444,
              "#bd3786"
             ],
             [
              0.5555555555555556,
              "#d8576b"
             ],
             [
              0.6666666666666666,
              "#ed7953"
             ],
             [
              0.7777777777777778,
              "#fb9f3a"
             ],
             [
              0.8888888888888888,
              "#fdca26"
             ],
             [
              1,
              "#f0f921"
             ]
            ],
            "type": "histogram2dcontour"
           }
          ],
          "mesh3d": [
           {
            "colorbar": {
             "outlinewidth": 0,
             "ticks": ""
            },
            "type": "mesh3d"
           }
          ],
          "parcoords": [
           {
            "line": {
             "colorbar": {
              "outlinewidth": 0,
              "ticks": ""
             }
            },
            "type": "parcoords"
           }
          ],
          "pie": [
           {
            "automargin": true,
            "type": "pie"
           }
          ],
          "scatter": [
           {
            "marker": {
             "colorbar": {
              "outlinewidth": 0,
              "ticks": ""
             }
            },
            "type": "scatter"
           }
          ],
          "scatter3d": [
           {
            "line": {
             "colorbar": {
              "outlinewidth": 0,
              "ticks": ""
             }
            },
            "marker": {
             "colorbar": {
              "outlinewidth": 0,
              "ticks": ""
             }
            },
            "type": "scatter3d"
           }
          ],
          "scattercarpet": [
           {
            "marker": {
             "colorbar": {
              "outlinewidth": 0,
              "ticks": ""
             }
            },
            "type": "scattercarpet"
           }
          ],
          "scattergeo": [
           {
            "marker": {
             "colorbar": {
              "outlinewidth": 0,
              "ticks": ""
             }
            },
            "type": "scattergeo"
           }
          ],
          "scattergl": [
           {
            "marker": {
             "colorbar": {
              "outlinewidth": 0,
              "ticks": ""
             }
            },
            "type": "scattergl"
           }
          ],
          "scattermapbox": [
           {
            "marker": {
             "colorbar": {
              "outlinewidth": 0,
              "ticks": ""
             }
            },
            "type": "scattermapbox"
           }
          ],
          "scatterpolar": [
           {
            "marker": {
             "colorbar": {
              "outlinewidth": 0,
              "ticks": ""
             }
            },
            "type": "scatterpolar"
           }
          ],
          "scatterpolargl": [
           {
            "marker": {
             "colorbar": {
              "outlinewidth": 0,
              "ticks": ""
             }
            },
            "type": "scatterpolargl"
           }
          ],
          "scatterternary": [
           {
            "marker": {
             "colorbar": {
              "outlinewidth": 0,
              "ticks": ""
             }
            },
            "type": "scatterternary"
           }
          ],
          "surface": [
           {
            "colorbar": {
             "outlinewidth": 0,
             "ticks": ""
            },
            "colorscale": [
             [
              0,
              "#0d0887"
             ],
             [
              0.1111111111111111,
              "#46039f"
             ],
             [
              0.2222222222222222,
              "#7201a8"
             ],
             [
              0.3333333333333333,
              "#9c179e"
             ],
             [
              0.4444444444444444,
              "#bd3786"
             ],
             [
              0.5555555555555556,
              "#d8576b"
             ],
             [
              0.6666666666666666,
              "#ed7953"
             ],
             [
              0.7777777777777778,
              "#fb9f3a"
             ],
             [
              0.8888888888888888,
              "#fdca26"
             ],
             [
              1,
              "#f0f921"
             ]
            ],
            "type": "surface"
           }
          ],
          "table": [
           {
            "cells": {
             "fill": {
              "color": "#EBF0F8"
             },
             "line": {
              "color": "white"
             }
            },
            "header": {
             "fill": {
              "color": "#C8D4E3"
             },
             "line": {
              "color": "white"
             }
            },
            "type": "table"
           }
          ]
         },
         "layout": {
          "annotationdefaults": {
           "arrowcolor": "#2a3f5f",
           "arrowhead": 0,
           "arrowwidth": 1
          },
          "autotypenumbers": "strict",
          "coloraxis": {
           "colorbar": {
            "outlinewidth": 0,
            "ticks": ""
           }
          },
          "colorscale": {
           "diverging": [
            [
             0,
             "#8e0152"
            ],
            [
             0.1,
             "#c51b7d"
            ],
            [
             0.2,
             "#de77ae"
            ],
            [
             0.3,
             "#f1b6da"
            ],
            [
             0.4,
             "#fde0ef"
            ],
            [
             0.5,
             "#f7f7f7"
            ],
            [
             0.6,
             "#e6f5d0"
            ],
            [
             0.7,
             "#b8e186"
            ],
            [
             0.8,
             "#7fbc41"
            ],
            [
             0.9,
             "#4d9221"
            ],
            [
             1,
             "#276419"
            ]
           ],
           "sequential": [
            [
             0,
             "#0d0887"
            ],
            [
             0.1111111111111111,
             "#46039f"
            ],
            [
             0.2222222222222222,
             "#7201a8"
            ],
            [
             0.3333333333333333,
             "#9c179e"
            ],
            [
             0.4444444444444444,
             "#bd3786"
            ],
            [
             0.5555555555555556,
             "#d8576b"
            ],
            [
             0.6666666666666666,
             "#ed7953"
            ],
            [
             0.7777777777777778,
             "#fb9f3a"
            ],
            [
             0.8888888888888888,
             "#fdca26"
            ],
            [
             1,
             "#f0f921"
            ]
           ],
           "sequentialminus": [
            [
             0,
             "#0d0887"
            ],
            [
             0.1111111111111111,
             "#46039f"
            ],
            [
             0.2222222222222222,
             "#7201a8"
            ],
            [
             0.3333333333333333,
             "#9c179e"
            ],
            [
             0.4444444444444444,
             "#bd3786"
            ],
            [
             0.5555555555555556,
             "#d8576b"
            ],
            [
             0.6666666666666666,
             "#ed7953"
            ],
            [
             0.7777777777777778,
             "#fb9f3a"
            ],
            [
             0.8888888888888888,
             "#fdca26"
            ],
            [
             1,
             "#f0f921"
            ]
           ]
          },
          "colorway": [
           "#636efa",
           "#EF553B",
           "#00cc96",
           "#ab63fa",
           "#FFA15A",
           "#19d3f3",
           "#FF6692",
           "#B6E880",
           "#FF97FF",
           "#FECB52"
          ],
          "font": {
           "color": "#2a3f5f"
          },
          "geo": {
           "bgcolor": "white",
           "lakecolor": "white",
           "landcolor": "#E5ECF6",
           "showlakes": true,
           "showland": true,
           "subunitcolor": "white"
          },
          "hoverlabel": {
           "align": "left"
          },
          "hovermode": "closest",
          "mapbox": {
           "style": "light"
          },
          "paper_bgcolor": "white",
          "plot_bgcolor": "#E5ECF6",
          "polar": {
           "angularaxis": {
            "gridcolor": "white",
            "linecolor": "white",
            "ticks": ""
           },
           "bgcolor": "#E5ECF6",
           "radialaxis": {
            "gridcolor": "white",
            "linecolor": "white",
            "ticks": ""
           }
          },
          "scene": {
           "xaxis": {
            "backgroundcolor": "#E5ECF6",
            "gridcolor": "white",
            "gridwidth": 2,
            "linecolor": "white",
            "showbackground": true,
            "ticks": "",
            "zerolinecolor": "white"
           },
           "yaxis": {
            "backgroundcolor": "#E5ECF6",
            "gridcolor": "white",
            "gridwidth": 2,
            "linecolor": "white",
            "showbackground": true,
            "ticks": "",
            "zerolinecolor": "white"
           },
           "zaxis": {
            "backgroundcolor": "#E5ECF6",
            "gridcolor": "white",
            "gridwidth": 2,
            "linecolor": "white",
            "showbackground": true,
            "ticks": "",
            "zerolinecolor": "white"
           }
          },
          "shapedefaults": {
           "line": {
            "color": "#2a3f5f"
           }
          },
          "ternary": {
           "aaxis": {
            "gridcolor": "white",
            "linecolor": "white",
            "ticks": ""
           },
           "baxis": {
            "gridcolor": "white",
            "linecolor": "white",
            "ticks": ""
           },
           "bgcolor": "#E5ECF6",
           "caxis": {
            "gridcolor": "white",
            "linecolor": "white",
            "ticks": ""
           }
          },
          "title": {
           "x": 0.05
          },
          "xaxis": {
           "automargin": true,
           "gridcolor": "white",
           "linecolor": "white",
           "ticks": "",
           "title": {
            "standoff": 15
           },
           "zerolinecolor": "white",
           "zerolinewidth": 2
          },
          "yaxis": {
           "automargin": true,
           "gridcolor": "white",
           "linecolor": "white",
           "ticks": "",
           "title": {
            "standoff": 15
           },
           "zerolinecolor": "white",
           "zerolinewidth": 2
          }
         }
        }
       }
      }
     },
     "metadata": {},
     "output_type": "display_data"
    }
   ],
   "source": [
    "import plotly.express as px\n",
    "import json\n",
    "import polyline\n",
    "fig = px.scatter_mapbox(df, lat=\"latitude\", lon=\"longitude\", zoom=12)\n",
    "color_list = [\"red\", \"blue\", \"green\"]\n",
    "# # Adding the routes to the figure\n",
    "# for k in range(vehicle_count):\n",
    "#     for i in range(customer_count):\n",
    "#         for j in range(customer_count):\n",
    "#             if i != j and pulp.value(x[i][j][k]) == 1:\n",
    "#                 fig.add_trace(px.line_mapbox(\n",
    "#                     lat=[df.latitude[i], df.latitude[j]],\n",
    "#                     lon=[df.longitude[i], df.longitude[j]]\n",
    "#                 ).data[0])\n",
    "\n",
    "# fig.update_layout(mapbox_style=\"open-street-map\", mapbox_center_lon=depot_longitude, mapbox_center_lat=depot_latitude)\n",
    "# fig.show()\n",
    "\n",
    "# Adding the routes to the figure\n",
    "for k in range(vehicle_count):\n",
    "    for i in range(customer_count):\n",
    "        for j in range(customer_count):\n",
    "            if i != j and f\"Distance_{i}_{j}\" in distances:\n",
    "                route_data = distances[f\"Distance_{i}_{j}\"]\n",
    "                if 'routes' in route_data and route_data['routes']:\n",
    "                    route_distance = route_data['routes'][0]['distance']\n",
    "                    encoded_polyline = route_data['routes'][0]['geometry']\n",
    "                    route_geometry = polyline.decode(encoded_polyline)\n",
    "                    lon_list, lat_list = zip(*[(lon, lat) for lat, lon in route_geometry])\n",
    "                    fig.add_trace(px.line_mapbox(\n",
    "                        lat=lat_list,\n",
    "                        lon=lon_list\n",
    "                    ).data[0])\n",
    "                else:\n",
    "                    print(f\"No route data found for points {i} and {j}.\")\n",
    "\n",
    "fig.update_layout(mapbox_style=\"open-street-map\", mapbox_center_lon=depot_longitude, mapbox_center_lat=depot_latitude)\n",
    "fig.show()"
   ]
  },
  {
   "cell_type": "code",
   "execution_count": 11,
   "metadata": {},
   "outputs": [
    {
     "name": "stdout",
     "output_type": "stream",
     "text": [
      "\n",
      "For Vehicle 1:\n",
      "\n",
      "For Vehicle 2:\n",
      "\n",
      "For Vehicle 3:\n"
     ]
    },
    {
     "data": {
      "application/vnd.plotly.v1+json": {
       "config": {
        "plotlyServerURL": "https://plot.ly"
       },
       "data": [
        {
         "hovertemplate": "latitude=%{lat}<br>longitude=%{lon}<extra></extra>",
         "lat": [
          40.748817,
          40.74305722602184,
          40.74835933928491,
          40.74382346653062,
          40.7551614562113,
          40.75418065711651,
          40.754599378500416,
          40.73955122050164,
          40.73654988833227,
          40.7558341434788
         ],
         "legendgroup": "",
         "lon": [
          -73.985428,
          -73.97216187367623,
          -73.99081350218243,
          -73.99524967142555,
          -73.98985527253669,
          -73.9893401156745,
          -73.9940606196935,
          -73.98850452464795,
          -73.97902448918126,
          -73.98357271348812
         ],
         "marker": {
          "color": "#636efa"
         },
         "mode": "markers",
         "name": "",
         "showlegend": false,
         "subplot": "mapbox",
         "type": "scattermapbox"
        },
        {
         "hovertemplate": "lat=%{lat}<br>lon=%{lon}<extra></extra>",
         "lat": [
          40.74881,
          40.74318,
          40.74308,
          40.74197,
          40.7393,
          40.73742,
          40.73698,
          40.7363,
          40.73546,
          40.73537,
          40.73677,
          40.73931,
          40.74305
         ],
         "legendgroup": "",
         "line": {
          "color": "#636efa"
         },
         "lon": [
          -73.98543,
          -73.97207,
          -73.97222,
          -73.97274,
          -73.97324,
          -73.9745,
          -73.9749,
          -73.97514,
          -73.97514,
          -73.9748,
          -73.97462,
          -73.97295,
          -73.97213
         ],
         "mode": "lines",
         "name": "",
         "showlegend": false,
         "subplot": "mapbox",
         "type": "scattermapbox"
        },
        {
         "hovertemplate": "lat=%{lat}<br>lon=%{lon}<extra></extra>",
         "lat": [
          40.74881,
          40.74844,
          40.74653,
          40.74854
         ],
         "legendgroup": "",
         "line": {
          "color": "#636efa"
         },
         "lon": [
          -73.98543,
          -73.98456,
          -73.98594,
          -73.99068
         ],
         "mode": "lines",
         "name": "",
         "showlegend": false,
         "subplot": "mapbox",
         "type": "scattermapbox"
        },
        {
         "hovertemplate": "lat=%{lat}<br>lon=%{lon}<extra></extra>",
         "lat": [
          40.74881,
          40.74844,
          40.74155,
          40.74391
         ],
         "legendgroup": "",
         "line": {
          "color": "#636efa"
         },
         "lon": [
          -73.98543,
          -73.98456,
          -73.9896,
          -73.99519
         ],
         "mode": "lines",
         "name": "",
         "showlegend": false,
         "subplot": "mapbox",
         "type": "scattermapbox"
        },
        {
         "hovertemplate": "lat=%{lat}<br>lon=%{lon}<extra></extra>",
         "lat": [
          40.74881,
          40.74777,
          40.74966,
          40.7517,
          40.75294,
          40.75487
         ],
         "legendgroup": "",
         "line": {
          "color": "#636efa"
         },
         "lon": [
          -73.98543,
          -73.98296,
          -73.98157,
          -73.9864,
          -73.98548,
          -73.99007
         ],
         "mode": "lines",
         "name": "",
         "showlegend": false,
         "subplot": "mapbox",
         "type": "scattermapbox"
        },
        {
         "hovertemplate": "lat=%{lat}<br>lon=%{lon}<extra></extra>",
         "lat": [
          40.74881,
          40.74777,
          40.74966,
          40.7517,
          40.75294,
          40.75448
         ],
         "legendgroup": "",
         "line": {
          "color": "#636efa"
         },
         "lon": [
          -73.98543,
          -73.98296,
          -73.98157,
          -73.9864,
          -73.98548,
          -73.98913
         ],
         "mode": "lines",
         "name": "",
         "showlegend": false,
         "subplot": "mapbox",
         "type": "scattermapbox"
        },
        {
         "hovertemplate": "lat=%{lat}<br>lon=%{lon}<extra></extra>",
         "lat": [
          40.74881,
          40.7522,
          40.75409,
          40.75485
         ],
         "legendgroup": "",
         "line": {
          "color": "#636efa"
         },
         "lon": [
          -73.98543,
          -73.99346,
          -73.99208,
          -73.99388
         ],
         "mode": "lines",
         "name": "",
         "showlegend": false,
         "subplot": "mapbox",
         "type": "scattermapbox"
        },
        {
         "hovertemplate": "lat=%{lat}<br>lon=%{lon}<extra></extra>",
         "lat": [
          40.74881,
          40.74713,
          40.73892,
          40.73945
         ],
         "legendgroup": "",
         "line": {
          "color": "#636efa"
         },
         "lon": [
          -73.98543,
          -73.98145,
          -73.98735,
          -73.98858
         ],
         "mode": "lines",
         "name": "",
         "showlegend": false,
         "subplot": "mapbox",
         "type": "scattermapbox"
        },
        {
         "hovertemplate": "lat=%{lat}<br>lon=%{lon}<extra></extra>",
         "lat": [
          40.74881,
          40.74479,
          40.73722,
          40.73622,
          40.73648
         ],
         "legendgroup": "",
         "line": {
          "color": "#636efa"
         },
         "lon": [
          -73.98543,
          -73.97589,
          -73.9814,
          -73.97901,
          -73.97885
         ],
         "mode": "lines",
         "name": "",
         "showlegend": false,
         "subplot": "mapbox",
         "type": "scattermapbox"
        },
        {
         "hovertemplate": "lat=%{lat}<br>lon=%{lon}<extra></extra>",
         "lat": [
          40.74881,
          40.74777,
          40.75281,
          40.75484,
          40.75578
         ],
         "legendgroup": "",
         "line": {
          "color": "#636efa"
         },
         "lon": [
          -73.98543,
          -73.98296,
          -73.97929,
          -73.98412,
          -73.98343
         ],
         "mode": "lines",
         "name": "",
         "showlegend": false,
         "subplot": "mapbox",
         "type": "scattermapbox"
        },
        {
         "hovertemplate": "lat=%{lat}<br>lon=%{lon}<extra></extra>",
         "lat": [
          40.74305,
          40.74318,
          40.74713,
          40.74521,
          40.74854
         ],
         "legendgroup": "",
         "line": {
          "color": "#636efa"
         },
         "lon": [
          -73.97213,
          -73.97207,
          -73.98145,
          -73.98279,
          -73.99068
         ],
         "mode": "lines",
         "name": "",
         "showlegend": false,
         "subplot": "mapbox",
         "type": "scattermapbox"
        },
        {
         "hovertemplate": "lat=%{lat}<br>lon=%{lon}<extra></extra>",
         "lat": [
          40.74305,
          40.74318,
          40.74713,
          40.74022,
          40.74391
         ],
         "legendgroup": "",
         "line": {
          "color": "#636efa"
         },
         "lon": [
          -73.97213,
          -73.97207,
          -73.98145,
          -73.98641,
          -73.99519
         ],
         "mode": "lines",
         "name": "",
         "showlegend": false,
         "subplot": "mapbox",
         "type": "scattermapbox"
        },
        {
         "hovertemplate": "lat=%{lat}<br>lon=%{lon}<extra></extra>",
         "lat": [
          40.74305,
          40.74318,
          40.74777,
          40.74966,
          40.7517,
          40.75294,
          40.75487
         ],
         "legendgroup": "",
         "line": {
          "color": "#636efa"
         },
         "lon": [
          -73.97213,
          -73.97207,
          -73.98296,
          -73.98157,
          -73.9864,
          -73.98548,
          -73.99007
         ],
         "mode": "lines",
         "name": "",
         "showlegend": false,
         "subplot": "mapbox",
         "type": "scattermapbox"
        },
        {
         "hovertemplate": "lat=%{lat}<br>lon=%{lon}<extra></extra>",
         "lat": [
          40.74305,
          40.74318,
          40.74777,
          40.74966,
          40.7517,
          40.75294,
          40.75448
         ],
         "legendgroup": "",
         "line": {
          "color": "#636efa"
         },
         "lon": [
          -73.97213,
          -73.97207,
          -73.98296,
          -73.98157,
          -73.9864,
          -73.98548,
          -73.98913
         ],
         "mode": "lines",
         "name": "",
         "showlegend": false,
         "subplot": "mapbox",
         "type": "scattermapbox"
        },
        {
         "hovertemplate": "lat=%{lat}<br>lon=%{lon}<extra></extra>",
         "lat": [
          40.74305,
          40.74318,
          40.7522,
          40.75409,
          40.75485
         ],
         "legendgroup": "",
         "line": {
          "color": "#636efa"
         },
         "lon": [
          -73.97213,
          -73.97207,
          -73.99346,
          -73.99208,
          -73.99388
         ],
         "mode": "lines",
         "name": "",
         "showlegend": false,
         "subplot": "mapbox",
         "type": "scattermapbox"
        },
        {
         "hovertemplate": "lat=%{lat}<br>lon=%{lon}<extra></extra>",
         "lat": [
          40.74305,
          40.74318,
          40.74713,
          40.73892,
          40.73945
         ],
         "legendgroup": "",
         "line": {
          "color": "#636efa"
         },
         "lon": [
          -73.97213,
          -73.97207,
          -73.98145,
          -73.98735,
          -73.98858
         ],
         "mode": "lines",
         "name": "",
         "showlegend": false,
         "subplot": "mapbox",
         "type": "scattermapbox"
        },
        {
         "hovertemplate": "lat=%{lat}<br>lon=%{lon}<extra></extra>",
         "lat": [
          40.74305,
          40.74318,
          40.7445,
          40.74518,
          40.74546,
          40.73722,
          40.73622,
          40.73648
         ],
         "legendgroup": "",
         "line": {
          "color": "#636efa"
         },
         "lon": [
          -73.97213,
          -73.97207,
          -73.9752,
          -73.97474,
          -73.97541,
          -73.9814,
          -73.97901,
          -73.97885
         ],
         "mode": "lines",
         "name": "",
         "showlegend": false,
         "subplot": "mapbox",
         "type": "scattermapbox"
        },
        {
         "hovertemplate": "lat=%{lat}<br>lon=%{lon}<extra></extra>",
         "lat": [
          40.74305,
          40.74318,
          40.74379,
          40.74778,
          40.74797,
          40.74888,
          40.75484,
          40.75578
         ],
         "legendgroup": "",
         "line": {
          "color": "#636efa"
         },
         "lon": [
          -73.97213,
          -73.97207,
          -73.97351,
          -73.97061,
          -73.97053,
          -73.96997,
          -73.98412,
          -73.98343
         ],
         "mode": "lines",
         "name": "",
         "showlegend": false,
         "subplot": "mapbox",
         "type": "scattermapbox"
        },
        {
         "hovertemplate": "lat=%{lat}<br>lon=%{lon}<extra></extra>",
         "lat": [
          40.74854,
          40.7491,
          40.74411,
          40.74391
         ],
         "legendgroup": "",
         "line": {
          "color": "#636efa"
         },
         "lon": [
          -73.99068,
          -73.99201,
          -73.99564,
          -73.99519
         ],
         "mode": "lines",
         "name": "",
         "showlegend": false,
         "subplot": "mapbox",
         "type": "scattermapbox"
        },
        {
         "hovertemplate": "lat=%{lat}<br>lon=%{lon}<extra></extra>",
         "lat": [
          40.74854,
          40.75029,
          40.75595,
          40.75475,
          40.75415,
          40.75487
         ],
         "legendgroup": "",
         "line": {
          "color": "#636efa"
         },
         "lon": [
          -73.99068,
          -73.99485,
          -73.99073,
          -73.98789,
          -73.98832,
          -73.99007
         ],
         "mode": "lines",
         "name": "",
         "showlegend": false,
         "subplot": "mapbox",
         "type": "scattermapbox"
        },
        {
         "hovertemplate": "lat=%{lat}<br>lon=%{lon}<extra></extra>",
         "lat": [
          40.74854,
          40.75029,
          40.75595,
          40.75475,
          40.75415,
          40.75448
         ],
         "legendgroup": "",
         "line": {
          "color": "#636efa"
         },
         "lon": [
          -73.99068,
          -73.99485,
          -73.99073,
          -73.98789,
          -73.98832,
          -73.98913
         ],
         "mode": "lines",
         "name": "",
         "showlegend": false,
         "subplot": "mapbox",
         "type": "scattermapbox"
        },
        {
         "hovertemplate": "lat=%{lat}<br>lon=%{lon}<extra></extra>",
         "lat": [
          40.74854,
          40.75029,
          40.75409,
          40.75485
         ],
         "legendgroup": "",
         "line": {
          "color": "#636efa"
         },
         "lon": [
          -73.99068,
          -73.99485,
          -73.99208,
          -73.99388
         ],
         "mode": "lines",
         "name": "",
         "showlegend": false,
         "subplot": "mapbox",
         "type": "scattermapbox"
        },
        {
         "hovertemplate": "lat=%{lat}<br>lon=%{lon}<extra></extra>",
         "lat": [
          40.74854,
          40.7491,
          40.74411,
          40.74022,
          40.73892,
          40.73945
         ],
         "legendgroup": "",
         "line": {
          "color": "#636efa"
         },
         "lon": [
          -73.99068,
          -73.99201,
          -73.99564,
          -73.98641,
          -73.98735,
          -73.98858
         ],
         "mode": "lines",
         "name": "",
         "showlegend": false,
         "subplot": "mapbox",
         "type": "scattermapbox"
        },
        {
         "hovertemplate": "lat=%{lat}<br>lon=%{lon}<extra></extra>",
         "lat": [
          40.74854,
          40.7491,
          40.74411,
          40.73789,
          40.73722,
          40.73622,
          40.73648
         ],
         "legendgroup": "",
         "line": {
          "color": "#636efa"
         },
         "lon": [
          -73.99068,
          -73.99201,
          -73.99564,
          -73.98091,
          -73.9814,
          -73.97901,
          -73.97885
         ],
         "mode": "lines",
         "name": "",
         "showlegend": false,
         "subplot": "mapbox",
         "type": "scattermapbox"
        },
        {
         "hovertemplate": "lat=%{lat}<br>lon=%{lon}<extra></extra>",
         "lat": [
          40.74854,
          40.7491,
          40.74847,
          40.74728,
          40.75578
         ],
         "legendgroup": "",
         "line": {
          "color": "#636efa"
         },
         "lon": [
          -73.99068,
          -73.99201,
          -73.99246,
          -73.98962,
          -73.98343
         ],
         "mode": "lines",
         "name": "",
         "showlegend": false,
         "subplot": "mapbox",
         "type": "scattermapbox"
        },
        {
         "hovertemplate": "lat=%{lat}<br>lon=%{lon}<extra></extra>",
         "lat": [
          40.74391,
          40.7453,
          40.75595,
          40.75475,
          40.75415,
          40.75487
         ],
         "legendgroup": "",
         "line": {
          "color": "#636efa"
         },
         "lon": [
          -73.99519,
          -73.99847,
          -73.99073,
          -73.98789,
          -73.98832,
          -73.99007
         ],
         "mode": "lines",
         "name": "",
         "showlegend": false,
         "subplot": "mapbox",
         "type": "scattermapbox"
        },
        {
         "hovertemplate": "lat=%{lat}<br>lon=%{lon}<extra></extra>",
         "lat": [
          40.74391,
          40.7453,
          40.75595,
          40.75475,
          40.75415,
          40.75448
         ],
         "legendgroup": "",
         "line": {
          "color": "#636efa"
         },
         "lon": [
          -73.99519,
          -73.99847,
          -73.99073,
          -73.98789,
          -73.98832,
          -73.98913
         ],
         "mode": "lines",
         "name": "",
         "showlegend": false,
         "subplot": "mapbox",
         "type": "scattermapbox"
        },
        {
         "hovertemplate": "lat=%{lat}<br>lon=%{lon}<extra></extra>",
         "lat": [
          40.74391,
          40.7453,
          40.75409,
          40.75485
         ],
         "legendgroup": "",
         "line": {
          "color": "#636efa"
         },
         "lon": [
          -73.99519,
          -73.99847,
          -73.99208,
          -73.99388
         ],
         "mode": "lines",
         "name": "",
         "showlegend": false,
         "subplot": "mapbox",
         "type": "scattermapbox"
        },
        {
         "hovertemplate": "lat=%{lat}<br>lon=%{lon}<extra></extra>",
         "lat": [
          40.74391,
          40.74022,
          40.73892,
          40.73945
         ],
         "legendgroup": "",
         "line": {
          "color": "#636efa"
         },
         "lon": [
          -73.99519,
          -73.98641,
          -73.98735,
          -73.98858
         ],
         "mode": "lines",
         "name": "",
         "showlegend": false,
         "subplot": "mapbox",
         "type": "scattermapbox"
        },
        {
         "hovertemplate": "lat=%{lat}<br>lon=%{lon}<extra></extra>",
         "lat": [
          40.74391,
          40.73789,
          40.73722,
          40.73622,
          40.73648
         ],
         "legendgroup": "",
         "line": {
          "color": "#636efa"
         },
         "lon": [
          -73.99519,
          -73.98091,
          -73.9814,
          -73.97901,
          -73.97885
         ],
         "mode": "lines",
         "name": "",
         "showlegend": false,
         "subplot": "mapbox",
         "type": "scattermapbox"
        },
        {
         "hovertemplate": "lat=%{lat}<br>lon=%{lon}<extra></extra>",
         "lat": [
          40.74391,
          40.7453,
          40.75723,
          40.75484,
          40.75578
         ],
         "legendgroup": "",
         "line": {
          "color": "#636efa"
         },
         "lon": [
          -73.99519,
          -73.99847,
          -73.98979,
          -73.98412,
          -73.98343
         ],
         "mode": "lines",
         "name": "",
         "showlegend": false,
         "subplot": "mapbox",
         "type": "scattermapbox"
        },
        {
         "hovertemplate": "lat=%{lat}<br>lon=%{lon}<extra></extra>",
         "lat": [
          40.75487,
          40.75533,
          40.75595,
          40.75475,
          40.75415,
          40.75448
         ],
         "legendgroup": "",
         "line": {
          "color": "#636efa"
         },
         "lon": [
          -73.99007,
          -73.99118,
          -73.99073,
          -73.98789,
          -73.98832,
          -73.98913
         ],
         "mode": "lines",
         "name": "",
         "showlegend": false,
         "subplot": "mapbox",
         "type": "scattermapbox"
        },
        {
         "hovertemplate": "lat=%{lat}<br>lon=%{lon}<extra></extra>",
         "lat": [
          40.75487,
          40.75533,
          40.75595,
          40.75475,
          40.75289,
          40.75485
         ],
         "legendgroup": "",
         "line": {
          "color": "#636efa"
         },
         "lon": [
          -73.99007,
          -73.99118,
          -73.99073,
          -73.98789,
          -73.98924,
          -73.99388
         ],
         "mode": "lines",
         "name": "",
         "showlegend": false,
         "subplot": "mapbox",
         "type": "scattermapbox"
        },
        {
         "hovertemplate": "lat=%{lat}<br>lon=%{lon}<extra></extra>",
         "lat": [
          40.75487,
          40.75533,
          40.75595,
          40.75475,
          40.75101,
          40.74713,
          40.73892,
          40.73945
         ],
         "legendgroup": "",
         "line": {
          "color": "#636efa"
         },
         "lon": [
          -73.99007,
          -73.99118,
          -73.99073,
          -73.98789,
          -73.99061,
          -73.98145,
          -73.98735,
          -73.98858
         ],
         "mode": "lines",
         "name": "",
         "showlegend": false,
         "subplot": "mapbox",
         "type": "scattermapbox"
        },
        {
         "hovertemplate": "lat=%{lat}<br>lon=%{lon}<extra></extra>",
         "lat": [
          40.75487,
          40.75533,
          40.75595,
          40.75475,
          40.75101,
          40.74479,
          40.73722,
          40.73622,
          40.73648
         ],
         "legendgroup": "",
         "line": {
          "color": "#636efa"
         },
         "lon": [
          -73.99007,
          -73.99118,
          -73.99073,
          -73.98789,
          -73.99061,
          -73.97589,
          -73.9814,
          -73.97901,
          -73.97885
         ],
         "mode": "lines",
         "name": "",
         "showlegend": false,
         "subplot": "mapbox",
         "type": "scattermapbox"
        },
        {
         "hovertemplate": "lat=%{lat}<br>lon=%{lon}<extra></extra>",
         "lat": [
          40.75487,
          40.75533,
          40.75723,
          40.75484,
          40.75578
         ],
         "legendgroup": "",
         "line": {
          "color": "#636efa"
         },
         "lon": [
          -73.99007,
          -73.99118,
          -73.98979,
          -73.98412,
          -73.98343
         ],
         "mode": "lines",
         "name": "",
         "showlegend": false,
         "subplot": "mapbox",
         "type": "scattermapbox"
        },
        {
         "hovertemplate": "lat=%{lat}<br>lon=%{lon}<extra></extra>",
         "lat": [
          40.75448,
          40.75533,
          40.75595,
          40.75475,
          40.75289,
          40.75485
         ],
         "legendgroup": "",
         "line": {
          "color": "#636efa"
         },
         "lon": [
          -73.98913,
          -73.99118,
          -73.99073,
          -73.98789,
          -73.98924,
          -73.99388
         ],
         "mode": "lines",
         "name": "",
         "showlegend": false,
         "subplot": "mapbox",
         "type": "scattermapbox"
        },
        {
         "hovertemplate": "lat=%{lat}<br>lon=%{lon}<extra></extra>",
         "lat": [
          40.75448,
          40.75533,
          40.75595,
          40.75475,
          40.75101,
          40.74713,
          40.73892,
          40.73945
         ],
         "legendgroup": "",
         "line": {
          "color": "#636efa"
         },
         "lon": [
          -73.98913,
          -73.99118,
          -73.99073,
          -73.98789,
          -73.99061,
          -73.98145,
          -73.98735,
          -73.98858
         ],
         "mode": "lines",
         "name": "",
         "showlegend": false,
         "subplot": "mapbox",
         "type": "scattermapbox"
        },
        {
         "hovertemplate": "lat=%{lat}<br>lon=%{lon}<extra></extra>",
         "lat": [
          40.75448,
          40.75533,
          40.75595,
          40.75475,
          40.75101,
          40.74479,
          40.73722,
          40.73622,
          40.73648
         ],
         "legendgroup": "",
         "line": {
          "color": "#636efa"
         },
         "lon": [
          -73.98913,
          -73.99118,
          -73.99073,
          -73.98789,
          -73.99061,
          -73.97589,
          -73.9814,
          -73.97901,
          -73.97885
         ],
         "mode": "lines",
         "name": "",
         "showlegend": false,
         "subplot": "mapbox",
         "type": "scattermapbox"
        },
        {
         "hovertemplate": "lat=%{lat}<br>lon=%{lon}<extra></extra>",
         "lat": [
          40.75448,
          40.75533,
          40.75723,
          40.75484,
          40.75578
         ],
         "legendgroup": "",
         "line": {
          "color": "#636efa"
         },
         "lon": [
          -73.98913,
          -73.99118,
          -73.98979,
          -73.98412,
          -73.98343
         ],
         "mode": "lines",
         "name": "",
         "showlegend": false,
         "subplot": "mapbox",
         "type": "scattermapbox"
        },
        {
         "hovertemplate": "lat=%{lat}<br>lon=%{lon}<extra></extra>",
         "lat": [
          40.75485,
          40.75529,
          40.75341,
          40.74713,
          40.73892,
          40.73945
         ],
         "legendgroup": "",
         "line": {
          "color": "#636efa"
         },
         "lon": [
          -73.99388,
          -73.99493,
          -73.99632,
          -73.98145,
          -73.98735,
          -73.98858
         ],
         "mode": "lines",
         "name": "",
         "showlegend": false,
         "subplot": "mapbox",
         "type": "scattermapbox"
        },
        {
         "hovertemplate": "lat=%{lat}<br>lon=%{lon}<extra></extra>",
         "lat": [
          40.75485,
          40.75529,
          40.75341,
          40.74479,
          40.73722,
          40.73622,
          40.73648
         ],
         "legendgroup": "",
         "line": {
          "color": "#636efa"
         },
         "lon": [
          -73.99388,
          -73.99493,
          -73.99632,
          -73.97589,
          -73.9814,
          -73.97901,
          -73.97885
         ],
         "mode": "lines",
         "name": "",
         "showlegend": false,
         "subplot": "mapbox",
         "type": "scattermapbox"
        },
        {
         "hovertemplate": "lat=%{lat}<br>lon=%{lon}<extra></extra>",
         "lat": [
          40.75485,
          40.75529,
          40.75469,
          40.75109,
          40.75578
         ],
         "legendgroup": "",
         "line": {
          "color": "#636efa"
         },
         "lon": [
          -73.99388,
          -73.99493,
          -73.99538,
          -73.98682,
          -73.98343
         ],
         "mode": "lines",
         "name": "",
         "showlegend": false,
         "subplot": "mapbox",
         "type": "scattermapbox"
        },
        {
         "hovertemplate": "lat=%{lat}<br>lon=%{lon}<extra></extra>",
         "lat": [
          40.73945,
          40.73987,
          40.73917,
          40.735,
          40.73648
         ],
         "legendgroup": "",
         "line": {
          "color": "#636efa"
         },
         "lon": [
          -73.98858,
          -73.98957,
          -73.98975,
          -73.9799,
          -73.97885
         ],
         "mode": "lines",
         "name": "",
         "showlegend": false,
         "subplot": "mapbox",
         "type": "scattermapbox"
        },
        {
         "hovertemplate": "lat=%{lat}<br>lon=%{lon}<extra></extra>",
         "lat": [
          40.73945,
          40.74162,
          40.75578
         ],
         "legendgroup": "",
         "line": {
          "color": "#636efa"
         },
         "lon": [
          -73.98858,
          -73.99374,
          -73.98343
         ],
         "mode": "lines",
         "name": "",
         "showlegend": false,
         "subplot": "mapbox",
         "type": "scattermapbox"
        },
        {
         "hovertemplate": "lat=%{lat}<br>lon=%{lon}<extra></extra>",
         "lat": [
          40.73648,
          40.74778,
          40.74797,
          40.74888,
          40.75484,
          40.75578
         ],
         "legendgroup": "",
         "line": {
          "color": "#636efa"
         },
         "lon": [
          -73.97885,
          -73.97061,
          -73.97053,
          -73.96997,
          -73.98412,
          -73.98343
         ],
         "mode": "lines",
         "name": "",
         "showlegend": false,
         "subplot": "mapbox",
         "type": "scattermapbox"
        },
        {
         "hovertemplate": "lat=%{lat}<br>lon=%{lon}<extra></extra>",
         "lat": [
          40.74881,
          40.74318,
          40.74308,
          40.74197,
          40.7393,
          40.73742,
          40.73698,
          40.7363,
          40.73546,
          40.73537,
          40.73677,
          40.73931,
          40.74305
         ],
         "legendgroup": "",
         "line": {
          "color": "#636efa"
         },
         "lon": [
          -73.98543,
          -73.97207,
          -73.97222,
          -73.97274,
          -73.97324,
          -73.9745,
          -73.9749,
          -73.97514,
          -73.97514,
          -73.9748,
          -73.97462,
          -73.97295,
          -73.97213
         ],
         "mode": "lines",
         "name": "",
         "showlegend": false,
         "subplot": "mapbox",
         "type": "scattermapbox"
        },
        {
         "hovertemplate": "lat=%{lat}<br>lon=%{lon}<extra></extra>",
         "lat": [
          40.74881,
          40.74844,
          40.74653,
          40.74854
         ],
         "legendgroup": "",
         "line": {
          "color": "#636efa"
         },
         "lon": [
          -73.98543,
          -73.98456,
          -73.98594,
          -73.99068
         ],
         "mode": "lines",
         "name": "",
         "showlegend": false,
         "subplot": "mapbox",
         "type": "scattermapbox"
        },
        {
         "hovertemplate": "lat=%{lat}<br>lon=%{lon}<extra></extra>",
         "lat": [
          40.74881,
          40.74844,
          40.74155,
          40.74391
         ],
         "legendgroup": "",
         "line": {
          "color": "#636efa"
         },
         "lon": [
          -73.98543,
          -73.98456,
          -73.9896,
          -73.99519
         ],
         "mode": "lines",
         "name": "",
         "showlegend": false,
         "subplot": "mapbox",
         "type": "scattermapbox"
        },
        {
         "hovertemplate": "lat=%{lat}<br>lon=%{lon}<extra></extra>",
         "lat": [
          40.74881,
          40.74777,
          40.74966,
          40.7517,
          40.75294,
          40.75487
         ],
         "legendgroup": "",
         "line": {
          "color": "#636efa"
         },
         "lon": [
          -73.98543,
          -73.98296,
          -73.98157,
          -73.9864,
          -73.98548,
          -73.99007
         ],
         "mode": "lines",
         "name": "",
         "showlegend": false,
         "subplot": "mapbox",
         "type": "scattermapbox"
        },
        {
         "hovertemplate": "lat=%{lat}<br>lon=%{lon}<extra></extra>",
         "lat": [
          40.74881,
          40.74777,
          40.74966,
          40.7517,
          40.75294,
          40.75448
         ],
         "legendgroup": "",
         "line": {
          "color": "#636efa"
         },
         "lon": [
          -73.98543,
          -73.98296,
          -73.98157,
          -73.9864,
          -73.98548,
          -73.98913
         ],
         "mode": "lines",
         "name": "",
         "showlegend": false,
         "subplot": "mapbox",
         "type": "scattermapbox"
        },
        {
         "hovertemplate": "lat=%{lat}<br>lon=%{lon}<extra></extra>",
         "lat": [
          40.74881,
          40.7522,
          40.75409,
          40.75485
         ],
         "legendgroup": "",
         "line": {
          "color": "#636efa"
         },
         "lon": [
          -73.98543,
          -73.99346,
          -73.99208,
          -73.99388
         ],
         "mode": "lines",
         "name": "",
         "showlegend": false,
         "subplot": "mapbox",
         "type": "scattermapbox"
        },
        {
         "hovertemplate": "lat=%{lat}<br>lon=%{lon}<extra></extra>",
         "lat": [
          40.74881,
          40.74713,
          40.73892,
          40.73945
         ],
         "legendgroup": "",
         "line": {
          "color": "#636efa"
         },
         "lon": [
          -73.98543,
          -73.98145,
          -73.98735,
          -73.98858
         ],
         "mode": "lines",
         "name": "",
         "showlegend": false,
         "subplot": "mapbox",
         "type": "scattermapbox"
        },
        {
         "hovertemplate": "lat=%{lat}<br>lon=%{lon}<extra></extra>",
         "lat": [
          40.74881,
          40.74479,
          40.73722,
          40.73622,
          40.73648
         ],
         "legendgroup": "",
         "line": {
          "color": "#636efa"
         },
         "lon": [
          -73.98543,
          -73.97589,
          -73.9814,
          -73.97901,
          -73.97885
         ],
         "mode": "lines",
         "name": "",
         "showlegend": false,
         "subplot": "mapbox",
         "type": "scattermapbox"
        },
        {
         "hovertemplate": "lat=%{lat}<br>lon=%{lon}<extra></extra>",
         "lat": [
          40.74881,
          40.74777,
          40.75281,
          40.75484,
          40.75578
         ],
         "legendgroup": "",
         "line": {
          "color": "#636efa"
         },
         "lon": [
          -73.98543,
          -73.98296,
          -73.97929,
          -73.98412,
          -73.98343
         ],
         "mode": "lines",
         "name": "",
         "showlegend": false,
         "subplot": "mapbox",
         "type": "scattermapbox"
        },
        {
         "hovertemplate": "lat=%{lat}<br>lon=%{lon}<extra></extra>",
         "lat": [
          40.74305,
          40.74318,
          40.74713,
          40.74521,
          40.74854
         ],
         "legendgroup": "",
         "line": {
          "color": "#636efa"
         },
         "lon": [
          -73.97213,
          -73.97207,
          -73.98145,
          -73.98279,
          -73.99068
         ],
         "mode": "lines",
         "name": "",
         "showlegend": false,
         "subplot": "mapbox",
         "type": "scattermapbox"
        },
        {
         "hovertemplate": "lat=%{lat}<br>lon=%{lon}<extra></extra>",
         "lat": [
          40.74305,
          40.74318,
          40.74713,
          40.74022,
          40.74391
         ],
         "legendgroup": "",
         "line": {
          "color": "#636efa"
         },
         "lon": [
          -73.97213,
          -73.97207,
          -73.98145,
          -73.98641,
          -73.99519
         ],
         "mode": "lines",
         "name": "",
         "showlegend": false,
         "subplot": "mapbox",
         "type": "scattermapbox"
        },
        {
         "hovertemplate": "lat=%{lat}<br>lon=%{lon}<extra></extra>",
         "lat": [
          40.74305,
          40.74318,
          40.74777,
          40.74966,
          40.7517,
          40.75294,
          40.75487
         ],
         "legendgroup": "",
         "line": {
          "color": "#636efa"
         },
         "lon": [
          -73.97213,
          -73.97207,
          -73.98296,
          -73.98157,
          -73.9864,
          -73.98548,
          -73.99007
         ],
         "mode": "lines",
         "name": "",
         "showlegend": false,
         "subplot": "mapbox",
         "type": "scattermapbox"
        },
        {
         "hovertemplate": "lat=%{lat}<br>lon=%{lon}<extra></extra>",
         "lat": [
          40.74305,
          40.74318,
          40.74777,
          40.74966,
          40.7517,
          40.75294,
          40.75448
         ],
         "legendgroup": "",
         "line": {
          "color": "#636efa"
         },
         "lon": [
          -73.97213,
          -73.97207,
          -73.98296,
          -73.98157,
          -73.9864,
          -73.98548,
          -73.98913
         ],
         "mode": "lines",
         "name": "",
         "showlegend": false,
         "subplot": "mapbox",
         "type": "scattermapbox"
        },
        {
         "hovertemplate": "lat=%{lat}<br>lon=%{lon}<extra></extra>",
         "lat": [
          40.74305,
          40.74318,
          40.7522,
          40.75409,
          40.75485
         ],
         "legendgroup": "",
         "line": {
          "color": "#636efa"
         },
         "lon": [
          -73.97213,
          -73.97207,
          -73.99346,
          -73.99208,
          -73.99388
         ],
         "mode": "lines",
         "name": "",
         "showlegend": false,
         "subplot": "mapbox",
         "type": "scattermapbox"
        },
        {
         "hovertemplate": "lat=%{lat}<br>lon=%{lon}<extra></extra>",
         "lat": [
          40.74305,
          40.74318,
          40.74713,
          40.73892,
          40.73945
         ],
         "legendgroup": "",
         "line": {
          "color": "#636efa"
         },
         "lon": [
          -73.97213,
          -73.97207,
          -73.98145,
          -73.98735,
          -73.98858
         ],
         "mode": "lines",
         "name": "",
         "showlegend": false,
         "subplot": "mapbox",
         "type": "scattermapbox"
        },
        {
         "hovertemplate": "lat=%{lat}<br>lon=%{lon}<extra></extra>",
         "lat": [
          40.74305,
          40.74318,
          40.7445,
          40.74518,
          40.74546,
          40.73722,
          40.73622,
          40.73648
         ],
         "legendgroup": "",
         "line": {
          "color": "#636efa"
         },
         "lon": [
          -73.97213,
          -73.97207,
          -73.9752,
          -73.97474,
          -73.97541,
          -73.9814,
          -73.97901,
          -73.97885
         ],
         "mode": "lines",
         "name": "",
         "showlegend": false,
         "subplot": "mapbox",
         "type": "scattermapbox"
        },
        {
         "hovertemplate": "lat=%{lat}<br>lon=%{lon}<extra></extra>",
         "lat": [
          40.74305,
          40.74318,
          40.74379,
          40.74778,
          40.74797,
          40.74888,
          40.75484,
          40.75578
         ],
         "legendgroup": "",
         "line": {
          "color": "#636efa"
         },
         "lon": [
          -73.97213,
          -73.97207,
          -73.97351,
          -73.97061,
          -73.97053,
          -73.96997,
          -73.98412,
          -73.98343
         ],
         "mode": "lines",
         "name": "",
         "showlegend": false,
         "subplot": "mapbox",
         "type": "scattermapbox"
        },
        {
         "hovertemplate": "lat=%{lat}<br>lon=%{lon}<extra></extra>",
         "lat": [
          40.74854,
          40.7491,
          40.74411,
          40.74391
         ],
         "legendgroup": "",
         "line": {
          "color": "#636efa"
         },
         "lon": [
          -73.99068,
          -73.99201,
          -73.99564,
          -73.99519
         ],
         "mode": "lines",
         "name": "",
         "showlegend": false,
         "subplot": "mapbox",
         "type": "scattermapbox"
        },
        {
         "hovertemplate": "lat=%{lat}<br>lon=%{lon}<extra></extra>",
         "lat": [
          40.74854,
          40.75029,
          40.75595,
          40.75475,
          40.75415,
          40.75487
         ],
         "legendgroup": "",
         "line": {
          "color": "#636efa"
         },
         "lon": [
          -73.99068,
          -73.99485,
          -73.99073,
          -73.98789,
          -73.98832,
          -73.99007
         ],
         "mode": "lines",
         "name": "",
         "showlegend": false,
         "subplot": "mapbox",
         "type": "scattermapbox"
        },
        {
         "hovertemplate": "lat=%{lat}<br>lon=%{lon}<extra></extra>",
         "lat": [
          40.74854,
          40.75029,
          40.75595,
          40.75475,
          40.75415,
          40.75448
         ],
         "legendgroup": "",
         "line": {
          "color": "#636efa"
         },
         "lon": [
          -73.99068,
          -73.99485,
          -73.99073,
          -73.98789,
          -73.98832,
          -73.98913
         ],
         "mode": "lines",
         "name": "",
         "showlegend": false,
         "subplot": "mapbox",
         "type": "scattermapbox"
        },
        {
         "hovertemplate": "lat=%{lat}<br>lon=%{lon}<extra></extra>",
         "lat": [
          40.74854,
          40.75029,
          40.75409,
          40.75485
         ],
         "legendgroup": "",
         "line": {
          "color": "#636efa"
         },
         "lon": [
          -73.99068,
          -73.99485,
          -73.99208,
          -73.99388
         ],
         "mode": "lines",
         "name": "",
         "showlegend": false,
         "subplot": "mapbox",
         "type": "scattermapbox"
        },
        {
         "hovertemplate": "lat=%{lat}<br>lon=%{lon}<extra></extra>",
         "lat": [
          40.74854,
          40.7491,
          40.74411,
          40.74022,
          40.73892,
          40.73945
         ],
         "legendgroup": "",
         "line": {
          "color": "#636efa"
         },
         "lon": [
          -73.99068,
          -73.99201,
          -73.99564,
          -73.98641,
          -73.98735,
          -73.98858
         ],
         "mode": "lines",
         "name": "",
         "showlegend": false,
         "subplot": "mapbox",
         "type": "scattermapbox"
        },
        {
         "hovertemplate": "lat=%{lat}<br>lon=%{lon}<extra></extra>",
         "lat": [
          40.74854,
          40.7491,
          40.74411,
          40.73789,
          40.73722,
          40.73622,
          40.73648
         ],
         "legendgroup": "",
         "line": {
          "color": "#636efa"
         },
         "lon": [
          -73.99068,
          -73.99201,
          -73.99564,
          -73.98091,
          -73.9814,
          -73.97901,
          -73.97885
         ],
         "mode": "lines",
         "name": "",
         "showlegend": false,
         "subplot": "mapbox",
         "type": "scattermapbox"
        },
        {
         "hovertemplate": "lat=%{lat}<br>lon=%{lon}<extra></extra>",
         "lat": [
          40.74854,
          40.7491,
          40.74847,
          40.74728,
          40.75578
         ],
         "legendgroup": "",
         "line": {
          "color": "#636efa"
         },
         "lon": [
          -73.99068,
          -73.99201,
          -73.99246,
          -73.98962,
          -73.98343
         ],
         "mode": "lines",
         "name": "",
         "showlegend": false,
         "subplot": "mapbox",
         "type": "scattermapbox"
        },
        {
         "hovertemplate": "lat=%{lat}<br>lon=%{lon}<extra></extra>",
         "lat": [
          40.74391,
          40.7453,
          40.75595,
          40.75475,
          40.75415,
          40.75487
         ],
         "legendgroup": "",
         "line": {
          "color": "#636efa"
         },
         "lon": [
          -73.99519,
          -73.99847,
          -73.99073,
          -73.98789,
          -73.98832,
          -73.99007
         ],
         "mode": "lines",
         "name": "",
         "showlegend": false,
         "subplot": "mapbox",
         "type": "scattermapbox"
        },
        {
         "hovertemplate": "lat=%{lat}<br>lon=%{lon}<extra></extra>",
         "lat": [
          40.74391,
          40.7453,
          40.75595,
          40.75475,
          40.75415,
          40.75448
         ],
         "legendgroup": "",
         "line": {
          "color": "#636efa"
         },
         "lon": [
          -73.99519,
          -73.99847,
          -73.99073,
          -73.98789,
          -73.98832,
          -73.98913
         ],
         "mode": "lines",
         "name": "",
         "showlegend": false,
         "subplot": "mapbox",
         "type": "scattermapbox"
        },
        {
         "hovertemplate": "lat=%{lat}<br>lon=%{lon}<extra></extra>",
         "lat": [
          40.74391,
          40.7453,
          40.75409,
          40.75485
         ],
         "legendgroup": "",
         "line": {
          "color": "#636efa"
         },
         "lon": [
          -73.99519,
          -73.99847,
          -73.99208,
          -73.99388
         ],
         "mode": "lines",
         "name": "",
         "showlegend": false,
         "subplot": "mapbox",
         "type": "scattermapbox"
        },
        {
         "hovertemplate": "lat=%{lat}<br>lon=%{lon}<extra></extra>",
         "lat": [
          40.74391,
          40.74022,
          40.73892,
          40.73945
         ],
         "legendgroup": "",
         "line": {
          "color": "#636efa"
         },
         "lon": [
          -73.99519,
          -73.98641,
          -73.98735,
          -73.98858
         ],
         "mode": "lines",
         "name": "",
         "showlegend": false,
         "subplot": "mapbox",
         "type": "scattermapbox"
        },
        {
         "hovertemplate": "lat=%{lat}<br>lon=%{lon}<extra></extra>",
         "lat": [
          40.74391,
          40.73789,
          40.73722,
          40.73622,
          40.73648
         ],
         "legendgroup": "",
         "line": {
          "color": "#636efa"
         },
         "lon": [
          -73.99519,
          -73.98091,
          -73.9814,
          -73.97901,
          -73.97885
         ],
         "mode": "lines",
         "name": "",
         "showlegend": false,
         "subplot": "mapbox",
         "type": "scattermapbox"
        },
        {
         "hovertemplate": "lat=%{lat}<br>lon=%{lon}<extra></extra>",
         "lat": [
          40.74391,
          40.7453,
          40.75723,
          40.75484,
          40.75578
         ],
         "legendgroup": "",
         "line": {
          "color": "#636efa"
         },
         "lon": [
          -73.99519,
          -73.99847,
          -73.98979,
          -73.98412,
          -73.98343
         ],
         "mode": "lines",
         "name": "",
         "showlegend": false,
         "subplot": "mapbox",
         "type": "scattermapbox"
        },
        {
         "hovertemplate": "lat=%{lat}<br>lon=%{lon}<extra></extra>",
         "lat": [
          40.75487,
          40.75533,
          40.75595,
          40.75475,
          40.75415,
          40.75448
         ],
         "legendgroup": "",
         "line": {
          "color": "#636efa"
         },
         "lon": [
          -73.99007,
          -73.99118,
          -73.99073,
          -73.98789,
          -73.98832,
          -73.98913
         ],
         "mode": "lines",
         "name": "",
         "showlegend": false,
         "subplot": "mapbox",
         "type": "scattermapbox"
        },
        {
         "hovertemplate": "lat=%{lat}<br>lon=%{lon}<extra></extra>",
         "lat": [
          40.75487,
          40.75533,
          40.75595,
          40.75475,
          40.75289,
          40.75485
         ],
         "legendgroup": "",
         "line": {
          "color": "#636efa"
         },
         "lon": [
          -73.99007,
          -73.99118,
          -73.99073,
          -73.98789,
          -73.98924,
          -73.99388
         ],
         "mode": "lines",
         "name": "",
         "showlegend": false,
         "subplot": "mapbox",
         "type": "scattermapbox"
        },
        {
         "hovertemplate": "lat=%{lat}<br>lon=%{lon}<extra></extra>",
         "lat": [
          40.75487,
          40.75533,
          40.75595,
          40.75475,
          40.75101,
          40.74713,
          40.73892,
          40.73945
         ],
         "legendgroup": "",
         "line": {
          "color": "#636efa"
         },
         "lon": [
          -73.99007,
          -73.99118,
          -73.99073,
          -73.98789,
          -73.99061,
          -73.98145,
          -73.98735,
          -73.98858
         ],
         "mode": "lines",
         "name": "",
         "showlegend": false,
         "subplot": "mapbox",
         "type": "scattermapbox"
        },
        {
         "hovertemplate": "lat=%{lat}<br>lon=%{lon}<extra></extra>",
         "lat": [
          40.75487,
          40.75533,
          40.75595,
          40.75475,
          40.75101,
          40.74479,
          40.73722,
          40.73622,
          40.73648
         ],
         "legendgroup": "",
         "line": {
          "color": "#636efa"
         },
         "lon": [
          -73.99007,
          -73.99118,
          -73.99073,
          -73.98789,
          -73.99061,
          -73.97589,
          -73.9814,
          -73.97901,
          -73.97885
         ],
         "mode": "lines",
         "name": "",
         "showlegend": false,
         "subplot": "mapbox",
         "type": "scattermapbox"
        },
        {
         "hovertemplate": "lat=%{lat}<br>lon=%{lon}<extra></extra>",
         "lat": [
          40.75487,
          40.75533,
          40.75723,
          40.75484,
          40.75578
         ],
         "legendgroup": "",
         "line": {
          "color": "#636efa"
         },
         "lon": [
          -73.99007,
          -73.99118,
          -73.98979,
          -73.98412,
          -73.98343
         ],
         "mode": "lines",
         "name": "",
         "showlegend": false,
         "subplot": "mapbox",
         "type": "scattermapbox"
        },
        {
         "hovertemplate": "lat=%{lat}<br>lon=%{lon}<extra></extra>",
         "lat": [
          40.75448,
          40.75533,
          40.75595,
          40.75475,
          40.75289,
          40.75485
         ],
         "legendgroup": "",
         "line": {
          "color": "#636efa"
         },
         "lon": [
          -73.98913,
          -73.99118,
          -73.99073,
          -73.98789,
          -73.98924,
          -73.99388
         ],
         "mode": "lines",
         "name": "",
         "showlegend": false,
         "subplot": "mapbox",
         "type": "scattermapbox"
        },
        {
         "hovertemplate": "lat=%{lat}<br>lon=%{lon}<extra></extra>",
         "lat": [
          40.75448,
          40.75533,
          40.75595,
          40.75475,
          40.75101,
          40.74713,
          40.73892,
          40.73945
         ],
         "legendgroup": "",
         "line": {
          "color": "#636efa"
         },
         "lon": [
          -73.98913,
          -73.99118,
          -73.99073,
          -73.98789,
          -73.99061,
          -73.98145,
          -73.98735,
          -73.98858
         ],
         "mode": "lines",
         "name": "",
         "showlegend": false,
         "subplot": "mapbox",
         "type": "scattermapbox"
        },
        {
         "hovertemplate": "lat=%{lat}<br>lon=%{lon}<extra></extra>",
         "lat": [
          40.75448,
          40.75533,
          40.75595,
          40.75475,
          40.75101,
          40.74479,
          40.73722,
          40.73622,
          40.73648
         ],
         "legendgroup": "",
         "line": {
          "color": "#636efa"
         },
         "lon": [
          -73.98913,
          -73.99118,
          -73.99073,
          -73.98789,
          -73.99061,
          -73.97589,
          -73.9814,
          -73.97901,
          -73.97885
         ],
         "mode": "lines",
         "name": "",
         "showlegend": false,
         "subplot": "mapbox",
         "type": "scattermapbox"
        },
        {
         "hovertemplate": "lat=%{lat}<br>lon=%{lon}<extra></extra>",
         "lat": [
          40.75448,
          40.75533,
          40.75723,
          40.75484,
          40.75578
         ],
         "legendgroup": "",
         "line": {
          "color": "#636efa"
         },
         "lon": [
          -73.98913,
          -73.99118,
          -73.98979,
          -73.98412,
          -73.98343
         ],
         "mode": "lines",
         "name": "",
         "showlegend": false,
         "subplot": "mapbox",
         "type": "scattermapbox"
        },
        {
         "hovertemplate": "lat=%{lat}<br>lon=%{lon}<extra></extra>",
         "lat": [
          40.75485,
          40.75529,
          40.75341,
          40.74713,
          40.73892,
          40.73945
         ],
         "legendgroup": "",
         "line": {
          "color": "#636efa"
         },
         "lon": [
          -73.99388,
          -73.99493,
          -73.99632,
          -73.98145,
          -73.98735,
          -73.98858
         ],
         "mode": "lines",
         "name": "",
         "showlegend": false,
         "subplot": "mapbox",
         "type": "scattermapbox"
        },
        {
         "hovertemplate": "lat=%{lat}<br>lon=%{lon}<extra></extra>",
         "lat": [
          40.75485,
          40.75529,
          40.75341,
          40.74479,
          40.73722,
          40.73622,
          40.73648
         ],
         "legendgroup": "",
         "line": {
          "color": "#636efa"
         },
         "lon": [
          -73.99388,
          -73.99493,
          -73.99632,
          -73.97589,
          -73.9814,
          -73.97901,
          -73.97885
         ],
         "mode": "lines",
         "name": "",
         "showlegend": false,
         "subplot": "mapbox",
         "type": "scattermapbox"
        },
        {
         "hovertemplate": "lat=%{lat}<br>lon=%{lon}<extra></extra>",
         "lat": [
          40.75485,
          40.75529,
          40.75469,
          40.75109,
          40.75578
         ],
         "legendgroup": "",
         "line": {
          "color": "#636efa"
         },
         "lon": [
          -73.99388,
          -73.99493,
          -73.99538,
          -73.98682,
          -73.98343
         ],
         "mode": "lines",
         "name": "",
         "showlegend": false,
         "subplot": "mapbox",
         "type": "scattermapbox"
        },
        {
         "hovertemplate": "lat=%{lat}<br>lon=%{lon}<extra></extra>",
         "lat": [
          40.73945,
          40.73987,
          40.73917,
          40.735,
          40.73648
         ],
         "legendgroup": "",
         "line": {
          "color": "#636efa"
         },
         "lon": [
          -73.98858,
          -73.98957,
          -73.98975,
          -73.9799,
          -73.97885
         ],
         "mode": "lines",
         "name": "",
         "showlegend": false,
         "subplot": "mapbox",
         "type": "scattermapbox"
        },
        {
         "hovertemplate": "lat=%{lat}<br>lon=%{lon}<extra></extra>",
         "lat": [
          40.73945,
          40.74162,
          40.75578
         ],
         "legendgroup": "",
         "line": {
          "color": "#636efa"
         },
         "lon": [
          -73.98858,
          -73.99374,
          -73.98343
         ],
         "mode": "lines",
         "name": "",
         "showlegend": false,
         "subplot": "mapbox",
         "type": "scattermapbox"
        },
        {
         "hovertemplate": "lat=%{lat}<br>lon=%{lon}<extra></extra>",
         "lat": [
          40.73648,
          40.74778,
          40.74797,
          40.74888,
          40.75484,
          40.75578
         ],
         "legendgroup": "",
         "line": {
          "color": "#636efa"
         },
         "lon": [
          -73.97885,
          -73.97061,
          -73.97053,
          -73.96997,
          -73.98412,
          -73.98343
         ],
         "mode": "lines",
         "name": "",
         "showlegend": false,
         "subplot": "mapbox",
         "type": "scattermapbox"
        },
        {
         "hovertemplate": "lat=%{lat}<br>lon=%{lon}<extra></extra>",
         "lat": [
          40.74881,
          40.74318,
          40.74308,
          40.74197,
          40.7393,
          40.73742,
          40.73698,
          40.7363,
          40.73546,
          40.73537,
          40.73677,
          40.73931,
          40.74305
         ],
         "legendgroup": "",
         "line": {
          "color": "#636efa"
         },
         "lon": [
          -73.98543,
          -73.97207,
          -73.97222,
          -73.97274,
          -73.97324,
          -73.9745,
          -73.9749,
          -73.97514,
          -73.97514,
          -73.9748,
          -73.97462,
          -73.97295,
          -73.97213
         ],
         "mode": "lines",
         "name": "",
         "showlegend": false,
         "subplot": "mapbox",
         "type": "scattermapbox"
        },
        {
         "hovertemplate": "lat=%{lat}<br>lon=%{lon}<extra></extra>",
         "lat": [
          40.74881,
          40.74844,
          40.74653,
          40.74854
         ],
         "legendgroup": "",
         "line": {
          "color": "#636efa"
         },
         "lon": [
          -73.98543,
          -73.98456,
          -73.98594,
          -73.99068
         ],
         "mode": "lines",
         "name": "",
         "showlegend": false,
         "subplot": "mapbox",
         "type": "scattermapbox"
        },
        {
         "hovertemplate": "lat=%{lat}<br>lon=%{lon}<extra></extra>",
         "lat": [
          40.74881,
          40.74844,
          40.74155,
          40.74391
         ],
         "legendgroup": "",
         "line": {
          "color": "#636efa"
         },
         "lon": [
          -73.98543,
          -73.98456,
          -73.9896,
          -73.99519
         ],
         "mode": "lines",
         "name": "",
         "showlegend": false,
         "subplot": "mapbox",
         "type": "scattermapbox"
        },
        {
         "hovertemplate": "lat=%{lat}<br>lon=%{lon}<extra></extra>",
         "lat": [
          40.74881,
          40.74777,
          40.74966,
          40.7517,
          40.75294,
          40.75487
         ],
         "legendgroup": "",
         "line": {
          "color": "#636efa"
         },
         "lon": [
          -73.98543,
          -73.98296,
          -73.98157,
          -73.9864,
          -73.98548,
          -73.99007
         ],
         "mode": "lines",
         "name": "",
         "showlegend": false,
         "subplot": "mapbox",
         "type": "scattermapbox"
        },
        {
         "hovertemplate": "lat=%{lat}<br>lon=%{lon}<extra></extra>",
         "lat": [
          40.74881,
          40.74777,
          40.74966,
          40.7517,
          40.75294,
          40.75448
         ],
         "legendgroup": "",
         "line": {
          "color": "#636efa"
         },
         "lon": [
          -73.98543,
          -73.98296,
          -73.98157,
          -73.9864,
          -73.98548,
          -73.98913
         ],
         "mode": "lines",
         "name": "",
         "showlegend": false,
         "subplot": "mapbox",
         "type": "scattermapbox"
        },
        {
         "hovertemplate": "lat=%{lat}<br>lon=%{lon}<extra></extra>",
         "lat": [
          40.74881,
          40.7522,
          40.75409,
          40.75485
         ],
         "legendgroup": "",
         "line": {
          "color": "#636efa"
         },
         "lon": [
          -73.98543,
          -73.99346,
          -73.99208,
          -73.99388
         ],
         "mode": "lines",
         "name": "",
         "showlegend": false,
         "subplot": "mapbox",
         "type": "scattermapbox"
        },
        {
         "hovertemplate": "lat=%{lat}<br>lon=%{lon}<extra></extra>",
         "lat": [
          40.74881,
          40.74713,
          40.73892,
          40.73945
         ],
         "legendgroup": "",
         "line": {
          "color": "#636efa"
         },
         "lon": [
          -73.98543,
          -73.98145,
          -73.98735,
          -73.98858
         ],
         "mode": "lines",
         "name": "",
         "showlegend": false,
         "subplot": "mapbox",
         "type": "scattermapbox"
        },
        {
         "hovertemplate": "lat=%{lat}<br>lon=%{lon}<extra></extra>",
         "lat": [
          40.74881,
          40.74479,
          40.73722,
          40.73622,
          40.73648
         ],
         "legendgroup": "",
         "line": {
          "color": "#636efa"
         },
         "lon": [
          -73.98543,
          -73.97589,
          -73.9814,
          -73.97901,
          -73.97885
         ],
         "mode": "lines",
         "name": "",
         "showlegend": false,
         "subplot": "mapbox",
         "type": "scattermapbox"
        },
        {
         "hovertemplate": "lat=%{lat}<br>lon=%{lon}<extra></extra>",
         "lat": [
          40.74881,
          40.74777,
          40.75281,
          40.75484,
          40.75578
         ],
         "legendgroup": "",
         "line": {
          "color": "#636efa"
         },
         "lon": [
          -73.98543,
          -73.98296,
          -73.97929,
          -73.98412,
          -73.98343
         ],
         "mode": "lines",
         "name": "",
         "showlegend": false,
         "subplot": "mapbox",
         "type": "scattermapbox"
        },
        {
         "hovertemplate": "lat=%{lat}<br>lon=%{lon}<extra></extra>",
         "lat": [
          40.74305,
          40.74318,
          40.74713,
          40.74521,
          40.74854
         ],
         "legendgroup": "",
         "line": {
          "color": "#636efa"
         },
         "lon": [
          -73.97213,
          -73.97207,
          -73.98145,
          -73.98279,
          -73.99068
         ],
         "mode": "lines",
         "name": "",
         "showlegend": false,
         "subplot": "mapbox",
         "type": "scattermapbox"
        },
        {
         "hovertemplate": "lat=%{lat}<br>lon=%{lon}<extra></extra>",
         "lat": [
          40.74305,
          40.74318,
          40.74713,
          40.74022,
          40.74391
         ],
         "legendgroup": "",
         "line": {
          "color": "#636efa"
         },
         "lon": [
          -73.97213,
          -73.97207,
          -73.98145,
          -73.98641,
          -73.99519
         ],
         "mode": "lines",
         "name": "",
         "showlegend": false,
         "subplot": "mapbox",
         "type": "scattermapbox"
        },
        {
         "hovertemplate": "lat=%{lat}<br>lon=%{lon}<extra></extra>",
         "lat": [
          40.74305,
          40.74318,
          40.74777,
          40.74966,
          40.7517,
          40.75294,
          40.75487
         ],
         "legendgroup": "",
         "line": {
          "color": "#636efa"
         },
         "lon": [
          -73.97213,
          -73.97207,
          -73.98296,
          -73.98157,
          -73.9864,
          -73.98548,
          -73.99007
         ],
         "mode": "lines",
         "name": "",
         "showlegend": false,
         "subplot": "mapbox",
         "type": "scattermapbox"
        },
        {
         "hovertemplate": "lat=%{lat}<br>lon=%{lon}<extra></extra>",
         "lat": [
          40.74305,
          40.74318,
          40.74777,
          40.74966,
          40.7517,
          40.75294,
          40.75448
         ],
         "legendgroup": "",
         "line": {
          "color": "#636efa"
         },
         "lon": [
          -73.97213,
          -73.97207,
          -73.98296,
          -73.98157,
          -73.9864,
          -73.98548,
          -73.98913
         ],
         "mode": "lines",
         "name": "",
         "showlegend": false,
         "subplot": "mapbox",
         "type": "scattermapbox"
        },
        {
         "hovertemplate": "lat=%{lat}<br>lon=%{lon}<extra></extra>",
         "lat": [
          40.74305,
          40.74318,
          40.7522,
          40.75409,
          40.75485
         ],
         "legendgroup": "",
         "line": {
          "color": "#636efa"
         },
         "lon": [
          -73.97213,
          -73.97207,
          -73.99346,
          -73.99208,
          -73.99388
         ],
         "mode": "lines",
         "name": "",
         "showlegend": false,
         "subplot": "mapbox",
         "type": "scattermapbox"
        },
        {
         "hovertemplate": "lat=%{lat}<br>lon=%{lon}<extra></extra>",
         "lat": [
          40.74305,
          40.74318,
          40.74713,
          40.73892,
          40.73945
         ],
         "legendgroup": "",
         "line": {
          "color": "#636efa"
         },
         "lon": [
          -73.97213,
          -73.97207,
          -73.98145,
          -73.98735,
          -73.98858
         ],
         "mode": "lines",
         "name": "",
         "showlegend": false,
         "subplot": "mapbox",
         "type": "scattermapbox"
        },
        {
         "hovertemplate": "lat=%{lat}<br>lon=%{lon}<extra></extra>",
         "lat": [
          40.74305,
          40.74318,
          40.7445,
          40.74518,
          40.74546,
          40.73722,
          40.73622,
          40.73648
         ],
         "legendgroup": "",
         "line": {
          "color": "#636efa"
         },
         "lon": [
          -73.97213,
          -73.97207,
          -73.9752,
          -73.97474,
          -73.97541,
          -73.9814,
          -73.97901,
          -73.97885
         ],
         "mode": "lines",
         "name": "",
         "showlegend": false,
         "subplot": "mapbox",
         "type": "scattermapbox"
        },
        {
         "hovertemplate": "lat=%{lat}<br>lon=%{lon}<extra></extra>",
         "lat": [
          40.74305,
          40.74318,
          40.74379,
          40.74778,
          40.74797,
          40.74888,
          40.75484,
          40.75578
         ],
         "legendgroup": "",
         "line": {
          "color": "#636efa"
         },
         "lon": [
          -73.97213,
          -73.97207,
          -73.97351,
          -73.97061,
          -73.97053,
          -73.96997,
          -73.98412,
          -73.98343
         ],
         "mode": "lines",
         "name": "",
         "showlegend": false,
         "subplot": "mapbox",
         "type": "scattermapbox"
        },
        {
         "hovertemplate": "lat=%{lat}<br>lon=%{lon}<extra></extra>",
         "lat": [
          40.74854,
          40.7491,
          40.74411,
          40.74391
         ],
         "legendgroup": "",
         "line": {
          "color": "#636efa"
         },
         "lon": [
          -73.99068,
          -73.99201,
          -73.99564,
          -73.99519
         ],
         "mode": "lines",
         "name": "",
         "showlegend": false,
         "subplot": "mapbox",
         "type": "scattermapbox"
        },
        {
         "hovertemplate": "lat=%{lat}<br>lon=%{lon}<extra></extra>",
         "lat": [
          40.74854,
          40.75029,
          40.75595,
          40.75475,
          40.75415,
          40.75487
         ],
         "legendgroup": "",
         "line": {
          "color": "#636efa"
         },
         "lon": [
          -73.99068,
          -73.99485,
          -73.99073,
          -73.98789,
          -73.98832,
          -73.99007
         ],
         "mode": "lines",
         "name": "",
         "showlegend": false,
         "subplot": "mapbox",
         "type": "scattermapbox"
        },
        {
         "hovertemplate": "lat=%{lat}<br>lon=%{lon}<extra></extra>",
         "lat": [
          40.74854,
          40.75029,
          40.75595,
          40.75475,
          40.75415,
          40.75448
         ],
         "legendgroup": "",
         "line": {
          "color": "#636efa"
         },
         "lon": [
          -73.99068,
          -73.99485,
          -73.99073,
          -73.98789,
          -73.98832,
          -73.98913
         ],
         "mode": "lines",
         "name": "",
         "showlegend": false,
         "subplot": "mapbox",
         "type": "scattermapbox"
        },
        {
         "hovertemplate": "lat=%{lat}<br>lon=%{lon}<extra></extra>",
         "lat": [
          40.74854,
          40.75029,
          40.75409,
          40.75485
         ],
         "legendgroup": "",
         "line": {
          "color": "#636efa"
         },
         "lon": [
          -73.99068,
          -73.99485,
          -73.99208,
          -73.99388
         ],
         "mode": "lines",
         "name": "",
         "showlegend": false,
         "subplot": "mapbox",
         "type": "scattermapbox"
        },
        {
         "hovertemplate": "lat=%{lat}<br>lon=%{lon}<extra></extra>",
         "lat": [
          40.74854,
          40.7491,
          40.74411,
          40.74022,
          40.73892,
          40.73945
         ],
         "legendgroup": "",
         "line": {
          "color": "#636efa"
         },
         "lon": [
          -73.99068,
          -73.99201,
          -73.99564,
          -73.98641,
          -73.98735,
          -73.98858
         ],
         "mode": "lines",
         "name": "",
         "showlegend": false,
         "subplot": "mapbox",
         "type": "scattermapbox"
        },
        {
         "hovertemplate": "lat=%{lat}<br>lon=%{lon}<extra></extra>",
         "lat": [
          40.74854,
          40.7491,
          40.74411,
          40.73789,
          40.73722,
          40.73622,
          40.73648
         ],
         "legendgroup": "",
         "line": {
          "color": "#636efa"
         },
         "lon": [
          -73.99068,
          -73.99201,
          -73.99564,
          -73.98091,
          -73.9814,
          -73.97901,
          -73.97885
         ],
         "mode": "lines",
         "name": "",
         "showlegend": false,
         "subplot": "mapbox",
         "type": "scattermapbox"
        },
        {
         "hovertemplate": "lat=%{lat}<br>lon=%{lon}<extra></extra>",
         "lat": [
          40.74854,
          40.7491,
          40.74847,
          40.74728,
          40.75578
         ],
         "legendgroup": "",
         "line": {
          "color": "#636efa"
         },
         "lon": [
          -73.99068,
          -73.99201,
          -73.99246,
          -73.98962,
          -73.98343
         ],
         "mode": "lines",
         "name": "",
         "showlegend": false,
         "subplot": "mapbox",
         "type": "scattermapbox"
        },
        {
         "hovertemplate": "lat=%{lat}<br>lon=%{lon}<extra></extra>",
         "lat": [
          40.74391,
          40.7453,
          40.75595,
          40.75475,
          40.75415,
          40.75487
         ],
         "legendgroup": "",
         "line": {
          "color": "#636efa"
         },
         "lon": [
          -73.99519,
          -73.99847,
          -73.99073,
          -73.98789,
          -73.98832,
          -73.99007
         ],
         "mode": "lines",
         "name": "",
         "showlegend": false,
         "subplot": "mapbox",
         "type": "scattermapbox"
        },
        {
         "hovertemplate": "lat=%{lat}<br>lon=%{lon}<extra></extra>",
         "lat": [
          40.74391,
          40.7453,
          40.75595,
          40.75475,
          40.75415,
          40.75448
         ],
         "legendgroup": "",
         "line": {
          "color": "#636efa"
         },
         "lon": [
          -73.99519,
          -73.99847,
          -73.99073,
          -73.98789,
          -73.98832,
          -73.98913
         ],
         "mode": "lines",
         "name": "",
         "showlegend": false,
         "subplot": "mapbox",
         "type": "scattermapbox"
        },
        {
         "hovertemplate": "lat=%{lat}<br>lon=%{lon}<extra></extra>",
         "lat": [
          40.74391,
          40.7453,
          40.75409,
          40.75485
         ],
         "legendgroup": "",
         "line": {
          "color": "#636efa"
         },
         "lon": [
          -73.99519,
          -73.99847,
          -73.99208,
          -73.99388
         ],
         "mode": "lines",
         "name": "",
         "showlegend": false,
         "subplot": "mapbox",
         "type": "scattermapbox"
        },
        {
         "hovertemplate": "lat=%{lat}<br>lon=%{lon}<extra></extra>",
         "lat": [
          40.74391,
          40.74022,
          40.73892,
          40.73945
         ],
         "legendgroup": "",
         "line": {
          "color": "#636efa"
         },
         "lon": [
          -73.99519,
          -73.98641,
          -73.98735,
          -73.98858
         ],
         "mode": "lines",
         "name": "",
         "showlegend": false,
         "subplot": "mapbox",
         "type": "scattermapbox"
        },
        {
         "hovertemplate": "lat=%{lat}<br>lon=%{lon}<extra></extra>",
         "lat": [
          40.74391,
          40.73789,
          40.73722,
          40.73622,
          40.73648
         ],
         "legendgroup": "",
         "line": {
          "color": "#636efa"
         },
         "lon": [
          -73.99519,
          -73.98091,
          -73.9814,
          -73.97901,
          -73.97885
         ],
         "mode": "lines",
         "name": "",
         "showlegend": false,
         "subplot": "mapbox",
         "type": "scattermapbox"
        },
        {
         "hovertemplate": "lat=%{lat}<br>lon=%{lon}<extra></extra>",
         "lat": [
          40.74391,
          40.7453,
          40.75723,
          40.75484,
          40.75578
         ],
         "legendgroup": "",
         "line": {
          "color": "#636efa"
         },
         "lon": [
          -73.99519,
          -73.99847,
          -73.98979,
          -73.98412,
          -73.98343
         ],
         "mode": "lines",
         "name": "",
         "showlegend": false,
         "subplot": "mapbox",
         "type": "scattermapbox"
        },
        {
         "hovertemplate": "lat=%{lat}<br>lon=%{lon}<extra></extra>",
         "lat": [
          40.75487,
          40.75533,
          40.75595,
          40.75475,
          40.75415,
          40.75448
         ],
         "legendgroup": "",
         "line": {
          "color": "#636efa"
         },
         "lon": [
          -73.99007,
          -73.99118,
          -73.99073,
          -73.98789,
          -73.98832,
          -73.98913
         ],
         "mode": "lines",
         "name": "",
         "showlegend": false,
         "subplot": "mapbox",
         "type": "scattermapbox"
        },
        {
         "hovertemplate": "lat=%{lat}<br>lon=%{lon}<extra></extra>",
         "lat": [
          40.75487,
          40.75533,
          40.75595,
          40.75475,
          40.75289,
          40.75485
         ],
         "legendgroup": "",
         "line": {
          "color": "#636efa"
         },
         "lon": [
          -73.99007,
          -73.99118,
          -73.99073,
          -73.98789,
          -73.98924,
          -73.99388
         ],
         "mode": "lines",
         "name": "",
         "showlegend": false,
         "subplot": "mapbox",
         "type": "scattermapbox"
        },
        {
         "hovertemplate": "lat=%{lat}<br>lon=%{lon}<extra></extra>",
         "lat": [
          40.75487,
          40.75533,
          40.75595,
          40.75475,
          40.75101,
          40.74713,
          40.73892,
          40.73945
         ],
         "legendgroup": "",
         "line": {
          "color": "#636efa"
         },
         "lon": [
          -73.99007,
          -73.99118,
          -73.99073,
          -73.98789,
          -73.99061,
          -73.98145,
          -73.98735,
          -73.98858
         ],
         "mode": "lines",
         "name": "",
         "showlegend": false,
         "subplot": "mapbox",
         "type": "scattermapbox"
        },
        {
         "hovertemplate": "lat=%{lat}<br>lon=%{lon}<extra></extra>",
         "lat": [
          40.75487,
          40.75533,
          40.75595,
          40.75475,
          40.75101,
          40.74479,
          40.73722,
          40.73622,
          40.73648
         ],
         "legendgroup": "",
         "line": {
          "color": "#636efa"
         },
         "lon": [
          -73.99007,
          -73.99118,
          -73.99073,
          -73.98789,
          -73.99061,
          -73.97589,
          -73.9814,
          -73.97901,
          -73.97885
         ],
         "mode": "lines",
         "name": "",
         "showlegend": false,
         "subplot": "mapbox",
         "type": "scattermapbox"
        },
        {
         "hovertemplate": "lat=%{lat}<br>lon=%{lon}<extra></extra>",
         "lat": [
          40.75487,
          40.75533,
          40.75723,
          40.75484,
          40.75578
         ],
         "legendgroup": "",
         "line": {
          "color": "#636efa"
         },
         "lon": [
          -73.99007,
          -73.99118,
          -73.98979,
          -73.98412,
          -73.98343
         ],
         "mode": "lines",
         "name": "",
         "showlegend": false,
         "subplot": "mapbox",
         "type": "scattermapbox"
        },
        {
         "hovertemplate": "lat=%{lat}<br>lon=%{lon}<extra></extra>",
         "lat": [
          40.75448,
          40.75533,
          40.75595,
          40.75475,
          40.75289,
          40.75485
         ],
         "legendgroup": "",
         "line": {
          "color": "#636efa"
         },
         "lon": [
          -73.98913,
          -73.99118,
          -73.99073,
          -73.98789,
          -73.98924,
          -73.99388
         ],
         "mode": "lines",
         "name": "",
         "showlegend": false,
         "subplot": "mapbox",
         "type": "scattermapbox"
        },
        {
         "hovertemplate": "lat=%{lat}<br>lon=%{lon}<extra></extra>",
         "lat": [
          40.75448,
          40.75533,
          40.75595,
          40.75475,
          40.75101,
          40.74713,
          40.73892,
          40.73945
         ],
         "legendgroup": "",
         "line": {
          "color": "#636efa"
         },
         "lon": [
          -73.98913,
          -73.99118,
          -73.99073,
          -73.98789,
          -73.99061,
          -73.98145,
          -73.98735,
          -73.98858
         ],
         "mode": "lines",
         "name": "",
         "showlegend": false,
         "subplot": "mapbox",
         "type": "scattermapbox"
        },
        {
         "hovertemplate": "lat=%{lat}<br>lon=%{lon}<extra></extra>",
         "lat": [
          40.75448,
          40.75533,
          40.75595,
          40.75475,
          40.75101,
          40.74479,
          40.73722,
          40.73622,
          40.73648
         ],
         "legendgroup": "",
         "line": {
          "color": "#636efa"
         },
         "lon": [
          -73.98913,
          -73.99118,
          -73.99073,
          -73.98789,
          -73.99061,
          -73.97589,
          -73.9814,
          -73.97901,
          -73.97885
         ],
         "mode": "lines",
         "name": "",
         "showlegend": false,
         "subplot": "mapbox",
         "type": "scattermapbox"
        },
        {
         "hovertemplate": "lat=%{lat}<br>lon=%{lon}<extra></extra>",
         "lat": [
          40.75448,
          40.75533,
          40.75723,
          40.75484,
          40.75578
         ],
         "legendgroup": "",
         "line": {
          "color": "#636efa"
         },
         "lon": [
          -73.98913,
          -73.99118,
          -73.98979,
          -73.98412,
          -73.98343
         ],
         "mode": "lines",
         "name": "",
         "showlegend": false,
         "subplot": "mapbox",
         "type": "scattermapbox"
        },
        {
         "hovertemplate": "lat=%{lat}<br>lon=%{lon}<extra></extra>",
         "lat": [
          40.75485,
          40.75529,
          40.75341,
          40.74713,
          40.73892,
          40.73945
         ],
         "legendgroup": "",
         "line": {
          "color": "#636efa"
         },
         "lon": [
          -73.99388,
          -73.99493,
          -73.99632,
          -73.98145,
          -73.98735,
          -73.98858
         ],
         "mode": "lines",
         "name": "",
         "showlegend": false,
         "subplot": "mapbox",
         "type": "scattermapbox"
        },
        {
         "hovertemplate": "lat=%{lat}<br>lon=%{lon}<extra></extra>",
         "lat": [
          40.75485,
          40.75529,
          40.75341,
          40.74479,
          40.73722,
          40.73622,
          40.73648
         ],
         "legendgroup": "",
         "line": {
          "color": "#636efa"
         },
         "lon": [
          -73.99388,
          -73.99493,
          -73.99632,
          -73.97589,
          -73.9814,
          -73.97901,
          -73.97885
         ],
         "mode": "lines",
         "name": "",
         "showlegend": false,
         "subplot": "mapbox",
         "type": "scattermapbox"
        },
        {
         "hovertemplate": "lat=%{lat}<br>lon=%{lon}<extra></extra>",
         "lat": [
          40.75485,
          40.75529,
          40.75469,
          40.75109,
          40.75578
         ],
         "legendgroup": "",
         "line": {
          "color": "#636efa"
         },
         "lon": [
          -73.99388,
          -73.99493,
          -73.99538,
          -73.98682,
          -73.98343
         ],
         "mode": "lines",
         "name": "",
         "showlegend": false,
         "subplot": "mapbox",
         "type": "scattermapbox"
        },
        {
         "hovertemplate": "lat=%{lat}<br>lon=%{lon}<extra></extra>",
         "lat": [
          40.73945,
          40.73987,
          40.73917,
          40.735,
          40.73648
         ],
         "legendgroup": "",
         "line": {
          "color": "#636efa"
         },
         "lon": [
          -73.98858,
          -73.98957,
          -73.98975,
          -73.9799,
          -73.97885
         ],
         "mode": "lines",
         "name": "",
         "showlegend": false,
         "subplot": "mapbox",
         "type": "scattermapbox"
        },
        {
         "hovertemplate": "lat=%{lat}<br>lon=%{lon}<extra></extra>",
         "lat": [
          40.73945,
          40.74162,
          40.75578
         ],
         "legendgroup": "",
         "line": {
          "color": "#636efa"
         },
         "lon": [
          -73.98858,
          -73.99374,
          -73.98343
         ],
         "mode": "lines",
         "name": "",
         "showlegend": false,
         "subplot": "mapbox",
         "type": "scattermapbox"
        },
        {
         "hovertemplate": "lat=%{lat}<br>lon=%{lon}<extra></extra>",
         "lat": [
          40.73648,
          40.74778,
          40.74797,
          40.74888,
          40.75484,
          40.75578
         ],
         "legendgroup": "",
         "line": {
          "color": "#636efa"
         },
         "lon": [
          -73.97885,
          -73.97061,
          -73.97053,
          -73.96997,
          -73.98412,
          -73.98343
         ],
         "mode": "lines",
         "name": "",
         "showlegend": false,
         "subplot": "mapbox",
         "type": "scattermapbox"
        },
        {
         "hoverinfo": "text",
         "hovertext": "Vehicle 1 Route",
         "lat": [
          40.74305,
          40.74318,
          40.74713,
          40.74521,
          40.74854
         ],
         "line": {
          "color": "red",
          "width": 2
         },
         "lon": [
          -73.97213,
          -73.97207,
          -73.98145,
          -73.98279,
          -73.99068
         ],
         "mode": "lines",
         "type": "scattermapbox"
        },
        {
         "hoverinfo": "text",
         "hovertext": "Vehicle 2 Route",
         "lat": [
          40.74305,
          40.74318,
          40.74713,
          40.74521,
          40.74854
         ],
         "line": {
          "color": "blue",
          "width": 2
         },
         "lon": [
          -73.97213,
          -73.97207,
          -73.98145,
          -73.98279,
          -73.99068
         ],
         "mode": "lines",
         "type": "scattermapbox"
        },
        {
         "hoverinfo": "text",
         "hovertext": "Vehicle 3 Route",
         "lat": [
          40.74305,
          40.74318,
          40.74713,
          40.74521,
          40.74854
         ],
         "line": {
          "color": "green",
          "width": 2
         },
         "lon": [
          -73.97213,
          -73.97207,
          -73.98145,
          -73.98279,
          -73.99068
         ],
         "mode": "lines",
         "type": "scattermapbox"
        },
        {
         "hoverinfo": "text",
         "hovertext": "Vehicle 1 Route",
         "lat": [
          40.74305,
          40.74318,
          40.74379,
          40.74778,
          40.74797,
          40.74888,
          40.75484,
          40.75578
         ],
         "line": {
          "color": "red",
          "width": 2
         },
         "lon": [
          -73.97213,
          -73.97207,
          -73.97351,
          -73.97061,
          -73.97053,
          -73.96997,
          -73.98412,
          -73.98343
         ],
         "mode": "lines",
         "type": "scattermapbox"
        },
        {
         "hoverinfo": "text",
         "hovertext": "Vehicle 2 Route",
         "lat": [
          40.74305,
          40.74318,
          40.74379,
          40.74778,
          40.74797,
          40.74888,
          40.75484,
          40.75578
         ],
         "line": {
          "color": "blue",
          "width": 2
         },
         "lon": [
          -73.97213,
          -73.97207,
          -73.97351,
          -73.97061,
          -73.97053,
          -73.96997,
          -73.98412,
          -73.98343
         ],
         "mode": "lines",
         "type": "scattermapbox"
        },
        {
         "hoverinfo": "text",
         "hovertext": "Vehicle 3 Route",
         "lat": [
          40.74305,
          40.74318,
          40.74379,
          40.74778,
          40.74797,
          40.74888,
          40.75484,
          40.75578
         ],
         "line": {
          "color": "green",
          "width": 2
         },
         "lon": [
          -73.97213,
          -73.97207,
          -73.97351,
          -73.97061,
          -73.97053,
          -73.96997,
          -73.98412,
          -73.98343
         ],
         "mode": "lines",
         "type": "scattermapbox"
        }
       ],
       "layout": {
        "legend": {
         "tracegroupgap": 0
        },
        "mapbox": {
         "center": {
          "lat": 40.748817,
          "lon": -73.985428
         },
         "domain": {
          "x": [
           0,
           1
          ],
          "y": [
           0,
           1
          ]
         },
         "style": "open-street-map",
         "zoom": 12
        },
        "margin": {
         "t": 60
        },
        "template": {
         "data": {
          "bar": [
           {
            "error_x": {
             "color": "#2a3f5f"
            },
            "error_y": {
             "color": "#2a3f5f"
            },
            "marker": {
             "line": {
              "color": "#E5ECF6",
              "width": 0.5
             }
            },
            "type": "bar"
           }
          ],
          "barpolar": [
           {
            "marker": {
             "line": {
              "color": "#E5ECF6",
              "width": 0.5
             }
            },
            "type": "barpolar"
           }
          ],
          "carpet": [
           {
            "aaxis": {
             "endlinecolor": "#2a3f5f",
             "gridcolor": "white",
             "linecolor": "white",
             "minorgridcolor": "white",
             "startlinecolor": "#2a3f5f"
            },
            "baxis": {
             "endlinecolor": "#2a3f5f",
             "gridcolor": "white",
             "linecolor": "white",
             "minorgridcolor": "white",
             "startlinecolor": "#2a3f5f"
            },
            "type": "carpet"
           }
          ],
          "choropleth": [
           {
            "colorbar": {
             "outlinewidth": 0,
             "ticks": ""
            },
            "type": "choropleth"
           }
          ],
          "contour": [
           {
            "colorbar": {
             "outlinewidth": 0,
             "ticks": ""
            },
            "colorscale": [
             [
              0,
              "#0d0887"
             ],
             [
              0.1111111111111111,
              "#46039f"
             ],
             [
              0.2222222222222222,
              "#7201a8"
             ],
             [
              0.3333333333333333,
              "#9c179e"
             ],
             [
              0.4444444444444444,
              "#bd3786"
             ],
             [
              0.5555555555555556,
              "#d8576b"
             ],
             [
              0.6666666666666666,
              "#ed7953"
             ],
             [
              0.7777777777777778,
              "#fb9f3a"
             ],
             [
              0.8888888888888888,
              "#fdca26"
             ],
             [
              1,
              "#f0f921"
             ]
            ],
            "type": "contour"
           }
          ],
          "contourcarpet": [
           {
            "colorbar": {
             "outlinewidth": 0,
             "ticks": ""
            },
            "type": "contourcarpet"
           }
          ],
          "heatmap": [
           {
            "colorbar": {
             "outlinewidth": 0,
             "ticks": ""
            },
            "colorscale": [
             [
              0,
              "#0d0887"
             ],
             [
              0.1111111111111111,
              "#46039f"
             ],
             [
              0.2222222222222222,
              "#7201a8"
             ],
             [
              0.3333333333333333,
              "#9c179e"
             ],
             [
              0.4444444444444444,
              "#bd3786"
             ],
             [
              0.5555555555555556,
              "#d8576b"
             ],
             [
              0.6666666666666666,
              "#ed7953"
             ],
             [
              0.7777777777777778,
              "#fb9f3a"
             ],
             [
              0.8888888888888888,
              "#fdca26"
             ],
             [
              1,
              "#f0f921"
             ]
            ],
            "type": "heatmap"
           }
          ],
          "heatmapgl": [
           {
            "colorbar": {
             "outlinewidth": 0,
             "ticks": ""
            },
            "colorscale": [
             [
              0,
              "#0d0887"
             ],
             [
              0.1111111111111111,
              "#46039f"
             ],
             [
              0.2222222222222222,
              "#7201a8"
             ],
             [
              0.3333333333333333,
              "#9c179e"
             ],
             [
              0.4444444444444444,
              "#bd3786"
             ],
             [
              0.5555555555555556,
              "#d8576b"
             ],
             [
              0.6666666666666666,
              "#ed7953"
             ],
             [
              0.7777777777777778,
              "#fb9f3a"
             ],
             [
              0.8888888888888888,
              "#fdca26"
             ],
             [
              1,
              "#f0f921"
             ]
            ],
            "type": "heatmapgl"
           }
          ],
          "histogram": [
           {
            "marker": {
             "colorbar": {
              "outlinewidth": 0,
              "ticks": ""
             }
            },
            "type": "histogram"
           }
          ],
          "histogram2d": [
           {
            "colorbar": {
             "outlinewidth": 0,
             "ticks": ""
            },
            "colorscale": [
             [
              0,
              "#0d0887"
             ],
             [
              0.1111111111111111,
              "#46039f"
             ],
             [
              0.2222222222222222,
              "#7201a8"
             ],
             [
              0.3333333333333333,
              "#9c179e"
             ],
             [
              0.4444444444444444,
              "#bd3786"
             ],
             [
              0.5555555555555556,
              "#d8576b"
             ],
             [
              0.6666666666666666,
              "#ed7953"
             ],
             [
              0.7777777777777778,
              "#fb9f3a"
             ],
             [
              0.8888888888888888,
              "#fdca26"
             ],
             [
              1,
              "#f0f921"
             ]
            ],
            "type": "histogram2d"
           }
          ],
          "histogram2dcontour": [
           {
            "colorbar": {
             "outlinewidth": 0,
             "ticks": ""
            },
            "colorscale": [
             [
              0,
              "#0d0887"
             ],
             [
              0.1111111111111111,
              "#46039f"
             ],
             [
              0.2222222222222222,
              "#7201a8"
             ],
             [
              0.3333333333333333,
              "#9c179e"
             ],
             [
              0.4444444444444444,
              "#bd3786"
             ],
             [
              0.5555555555555556,
              "#d8576b"
             ],
             [
              0.6666666666666666,
              "#ed7953"
             ],
             [
              0.7777777777777778,
              "#fb9f3a"
             ],
             [
              0.8888888888888888,
              "#fdca26"
             ],
             [
              1,
              "#f0f921"
             ]
            ],
            "type": "histogram2dcontour"
           }
          ],
          "mesh3d": [
           {
            "colorbar": {
             "outlinewidth": 0,
             "ticks": ""
            },
            "type": "mesh3d"
           }
          ],
          "parcoords": [
           {
            "line": {
             "colorbar": {
              "outlinewidth": 0,
              "ticks": ""
             }
            },
            "type": "parcoords"
           }
          ],
          "pie": [
           {
            "automargin": true,
            "type": "pie"
           }
          ],
          "scatter": [
           {
            "marker": {
             "colorbar": {
              "outlinewidth": 0,
              "ticks": ""
             }
            },
            "type": "scatter"
           }
          ],
          "scatter3d": [
           {
            "line": {
             "colorbar": {
              "outlinewidth": 0,
              "ticks": ""
             }
            },
            "marker": {
             "colorbar": {
              "outlinewidth": 0,
              "ticks": ""
             }
            },
            "type": "scatter3d"
           }
          ],
          "scattercarpet": [
           {
            "marker": {
             "colorbar": {
              "outlinewidth": 0,
              "ticks": ""
             }
            },
            "type": "scattercarpet"
           }
          ],
          "scattergeo": [
           {
            "marker": {
             "colorbar": {
              "outlinewidth": 0,
              "ticks": ""
             }
            },
            "type": "scattergeo"
           }
          ],
          "scattergl": [
           {
            "marker": {
             "colorbar": {
              "outlinewidth": 0,
              "ticks": ""
             }
            },
            "type": "scattergl"
           }
          ],
          "scattermapbox": [
           {
            "marker": {
             "colorbar": {
              "outlinewidth": 0,
              "ticks": ""
             }
            },
            "type": "scattermapbox"
           }
          ],
          "scatterpolar": [
           {
            "marker": {
             "colorbar": {
              "outlinewidth": 0,
              "ticks": ""
             }
            },
            "type": "scatterpolar"
           }
          ],
          "scatterpolargl": [
           {
            "marker": {
             "colorbar": {
              "outlinewidth": 0,
              "ticks": ""
             }
            },
            "type": "scatterpolargl"
           }
          ],
          "scatterternary": [
           {
            "marker": {
             "colorbar": {
              "outlinewidth": 0,
              "ticks": ""
             }
            },
            "type": "scatterternary"
           }
          ],
          "surface": [
           {
            "colorbar": {
             "outlinewidth": 0,
             "ticks": ""
            },
            "colorscale": [
             [
              0,
              "#0d0887"
             ],
             [
              0.1111111111111111,
              "#46039f"
             ],
             [
              0.2222222222222222,
              "#7201a8"
             ],
             [
              0.3333333333333333,
              "#9c179e"
             ],
             [
              0.4444444444444444,
              "#bd3786"
             ],
             [
              0.5555555555555556,
              "#d8576b"
             ],
             [
              0.6666666666666666,
              "#ed7953"
             ],
             [
              0.7777777777777778,
              "#fb9f3a"
             ],
             [
              0.8888888888888888,
              "#fdca26"
             ],
             [
              1,
              "#f0f921"
             ]
            ],
            "type": "surface"
           }
          ],
          "table": [
           {
            "cells": {
             "fill": {
              "color": "#EBF0F8"
             },
             "line": {
              "color": "white"
             }
            },
            "header": {
             "fill": {
              "color": "#C8D4E3"
             },
             "line": {
              "color": "white"
             }
            },
            "type": "table"
           }
          ]
         },
         "layout": {
          "annotationdefaults": {
           "arrowcolor": "#2a3f5f",
           "arrowhead": 0,
           "arrowwidth": 1
          },
          "autotypenumbers": "strict",
          "coloraxis": {
           "colorbar": {
            "outlinewidth": 0,
            "ticks": ""
           }
          },
          "colorscale": {
           "diverging": [
            [
             0,
             "#8e0152"
            ],
            [
             0.1,
             "#c51b7d"
            ],
            [
             0.2,
             "#de77ae"
            ],
            [
             0.3,
             "#f1b6da"
            ],
            [
             0.4,
             "#fde0ef"
            ],
            [
             0.5,
             "#f7f7f7"
            ],
            [
             0.6,
             "#e6f5d0"
            ],
            [
             0.7,
             "#b8e186"
            ],
            [
             0.8,
             "#7fbc41"
            ],
            [
             0.9,
             "#4d9221"
            ],
            [
             1,
             "#276419"
            ]
           ],
           "sequential": [
            [
             0,
             "#0d0887"
            ],
            [
             0.1111111111111111,
             "#46039f"
            ],
            [
             0.2222222222222222,
             "#7201a8"
            ],
            [
             0.3333333333333333,
             "#9c179e"
            ],
            [
             0.4444444444444444,
             "#bd3786"
            ],
            [
             0.5555555555555556,
             "#d8576b"
            ],
            [
             0.6666666666666666,
             "#ed7953"
            ],
            [
             0.7777777777777778,
             "#fb9f3a"
            ],
            [
             0.8888888888888888,
             "#fdca26"
            ],
            [
             1,
             "#f0f921"
            ]
           ],
           "sequentialminus": [
            [
             0,
             "#0d0887"
            ],
            [
             0.1111111111111111,
             "#46039f"
            ],
            [
             0.2222222222222222,
             "#7201a8"
            ],
            [
             0.3333333333333333,
             "#9c179e"
            ],
            [
             0.4444444444444444,
             "#bd3786"
            ],
            [
             0.5555555555555556,
             "#d8576b"
            ],
            [
             0.6666666666666666,
             "#ed7953"
            ],
            [
             0.7777777777777778,
             "#fb9f3a"
            ],
            [
             0.8888888888888888,
             "#fdca26"
            ],
            [
             1,
             "#f0f921"
            ]
           ]
          },
          "colorway": [
           "#636efa",
           "#EF553B",
           "#00cc96",
           "#ab63fa",
           "#FFA15A",
           "#19d3f3",
           "#FF6692",
           "#B6E880",
           "#FF97FF",
           "#FECB52"
          ],
          "font": {
           "color": "#2a3f5f"
          },
          "geo": {
           "bgcolor": "white",
           "lakecolor": "white",
           "landcolor": "#E5ECF6",
           "showlakes": true,
           "showland": true,
           "subunitcolor": "white"
          },
          "hoverlabel": {
           "align": "left"
          },
          "hovermode": "closest",
          "mapbox": {
           "style": "light"
          },
          "paper_bgcolor": "white",
          "plot_bgcolor": "#E5ECF6",
          "polar": {
           "angularaxis": {
            "gridcolor": "white",
            "linecolor": "white",
            "ticks": ""
           },
           "bgcolor": "#E5ECF6",
           "radialaxis": {
            "gridcolor": "white",
            "linecolor": "white",
            "ticks": ""
           }
          },
          "scene": {
           "xaxis": {
            "backgroundcolor": "#E5ECF6",
            "gridcolor": "white",
            "gridwidth": 2,
            "linecolor": "white",
            "showbackground": true,
            "ticks": "",
            "zerolinecolor": "white"
           },
           "yaxis": {
            "backgroundcolor": "#E5ECF6",
            "gridcolor": "white",
            "gridwidth": 2,
            "linecolor": "white",
            "showbackground": true,
            "ticks": "",
            "zerolinecolor": "white"
           },
           "zaxis": {
            "backgroundcolor": "#E5ECF6",
            "gridcolor": "white",
            "gridwidth": 2,
            "linecolor": "white",
            "showbackground": true,
            "ticks": "",
            "zerolinecolor": "white"
           }
          },
          "shapedefaults": {
           "line": {
            "color": "#2a3f5f"
           }
          },
          "ternary": {
           "aaxis": {
            "gridcolor": "white",
            "linecolor": "white",
            "ticks": ""
           },
           "baxis": {
            "gridcolor": "white",
            "linecolor": "white",
            "ticks": ""
           },
           "bgcolor": "#E5ECF6",
           "caxis": {
            "gridcolor": "white",
            "linecolor": "white",
            "ticks": ""
           }
          },
          "title": {
           "x": 0.05
          },
          "xaxis": {
           "automargin": true,
           "gridcolor": "white",
           "linecolor": "white",
           "ticks": "",
           "title": {
            "standoff": 15
           },
           "zerolinecolor": "white",
           "zerolinewidth": 2
          },
          "yaxis": {
           "automargin": true,
           "gridcolor": "white",
           "linecolor": "white",
           "ticks": "",
           "title": {
            "standoff": 15
           },
           "zerolinecolor": "white",
           "zerolinewidth": 2
          }
         }
        }
       }
      }
     },
     "metadata": {},
     "output_type": "display_data"
    }
   ],
   "source": [
    "vehicle_routes = {k: [] for k in range(vehicle_count)}\n",
    "import plotly.graph_objs as go\n",
    "def get_user_input():\n",
    "    while True:\n",
    "        try:\n",
    "            start_node = 1 \n",
    "            end_node = 9\n",
    "            if 0 < start_node <= 10 and 0 < end_node <= 10 and start_node != end_node:\n",
    "                return start_node, end_node\n",
    "            else:\n",
    "                print(\"Invalid input. Please enter valid nodes.\")\n",
    "        except ValueError:\n",
    "            print(\"Invalid input. Please enter valid nodes.\")\n",
    "\n",
    "# Getting user input for each vehicle's route\n",
    "for k in range(vehicle_count):\n",
    "    print(f\"\\nFor Vehicle {k + 1}:\")\n",
    "    start_node, end_node = get_user_input()\n",
    "    if f\"Distance_{start_node}_{end_node}\" in distances:\n",
    "        route_data = distances[f\"Distance_{start_node}_{end_node}\"]\n",
    "        if 'routes' in route_data and route_data['routes']:\n",
    "            route_distance = route_data['routes'][0]['distance']\n",
    "            encoded_polyline = route_data['routes'][0]['geometry']\n",
    "            route_geometry = polyline.decode(encoded_polyline)\n",
    "            lon_list, lat_list = zip(*[(lon, lat) for lat, lon in route_geometry])\n",
    "            vehicle_routes[k] = list(zip(lon_list, lat_list))\n",
    "        else:\n",
    "            print(f\"No route data found for points {start_node} and {end_node}.\")\n",
    "    else:\n",
    "        print(f\"No distance data found for points {start_node} and {end_node}.\")\n",
    "\n",
    "# Plotting each vehicle's route\n",
    "for k, route in vehicle_routes.items():\n",
    "    if route:  # Checking if the route is not empty\n",
    "        lon, lat = zip(*route)\n",
    "        fig.add_trace(go.Scattermapbox(\n",
    "            mode=\"lines\",\n",
    "            lon=lon,\n",
    "            lat=lat,\n",
    "            line=dict(width=2, color=color_list[k]),\n",
    "            hoverinfo=\"text\",\n",
    "            hovertext=f\"Vehicle {k + 1} Route\",\n",
    "        ))\n",
    "\n",
    "fig.update_layout(mapbox_style=\"open-street-map\", mapbox_center_lon=depot_longitude, mapbox_center_lat=depot_latitude)\n",
    "fig.show()\n"
   ]
  },
  {
   "cell_type": "code",
   "execution_count": null,
   "metadata": {},
   "outputs": [],
   "source": []
  }
 ],
 "metadata": {
  "kernelspec": {
   "display_name": "Python 3",
   "language": "python",
   "name": "python3"
  },
  "language_info": {
   "codemirror_mode": {
    "name": "ipython",
    "version": 3
   },
   "file_extension": ".py",
   "mimetype": "text/x-python",
   "name": "python",
   "nbconvert_exporter": "python",
   "pygments_lexer": "ipython3",
   "version": "3.11.4"
  }
 },
 "nbformat": 4,
 "nbformat_minor": 2
}
